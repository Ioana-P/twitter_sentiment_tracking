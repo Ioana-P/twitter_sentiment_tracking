{
 "cells": [
  {
   "cell_type": "markdown",
   "metadata": {},
   "source": [
    "<a id=contents></a>\n",
    "\n",
    "# Cleaning notebook\n",
    "## Subtitle\n",
    "\n",
    "\n",
    "[1. Data Inspection](#insp)\n",
    "\n",
    "[2. Using Spark and Hadoop](#numerical)\n",
    "\n",
    "[3. Cleaning categorical data](#categ)\n",
    "\n",
    "[4. Cleaning text data](#text)"
   ]
  },
  {
   "cell_type": "code",
   "execution_count": 1,
   "metadata": {},
   "outputs": [
    {
     "name": "stderr",
     "output_type": "stream",
     "text": [
      "/Users/ipreoteasa/opt/anaconda3/envs/dev/lib/python3.10/site-packages/past/builtins/misc.py:45: DeprecationWarning: the imp module is deprecated in favour of importlib and slated for removal in Python 3.12; see the module's documentation for alternative uses\n",
      "  from imp import reload\n"
     ]
    }
   ],
   "source": [
    "%load_ext autoreload\n",
    "%autoreload 2 \n",
    "\n",
    "import pandas as pd\n",
    "import numpy as n\n",
    "from pathlib import Path\n",
    "\n",
    "import functions.functions as fn"
   ]
  },
  {
   "cell_type": "markdown",
   "metadata": {},
   "source": [
    "<a id=insp ><a/> \n",
    "\n",
    "## 1. Data Inspection\n",
    "    \n",
    "[LINK to table of contents](#contents)"
   ]
  },
  {
   "cell_type": "code",
   "execution_count": 2,
   "metadata": {},
   "outputs": [],
   "source": [
    "# 4-5 min to run\n",
    "raw_path = Path('data/raw')\n",
    "clean, cvt = fn.clean_tweet_text(raw_path)"
   ]
  },
  {
   "cell_type": "code",
   "execution_count": 3,
   "metadata": {},
   "outputs": [
    {
     "data": {
      "text/html": [
       "<div>\n",
       "<style scoped>\n",
       "    .dataframe tbody tr th:only-of-type {\n",
       "        vertical-align: middle;\n",
       "    }\n",
       "\n",
       "    .dataframe tbody tr th {\n",
       "        vertical-align: top;\n",
       "    }\n",
       "\n",
       "    .dataframe thead th {\n",
       "        text-align: right;\n",
       "    }\n",
       "</style>\n",
       "<table border=\"1\" class=\"dataframe\">\n",
       "  <thead>\n",
       "    <tr style=\"text-align: right;\">\n",
       "      <th></th>\n",
       "      <th>Unnamed: 0</th>\n",
       "      <th>tweet_id</th>\n",
       "      <th>datetime</th>\n",
       "      <th>display_name</th>\n",
       "      <th>tweet_text</th>\n",
       "      <th>User_id</th>\n",
       "      <th>#likes</th>\n",
       "      <th>#retweets</th>\n",
       "      <th>#responses</th>\n",
       "      <th>language</th>\n",
       "      <th>...</th>\n",
       "      <th>woman</th>\n",
       "      <th>work</th>\n",
       "      <th>working</th>\n",
       "      <th>world</th>\n",
       "      <th>would</th>\n",
       "      <th>yeah</th>\n",
       "      <th>year</th>\n",
       "      <th>yes</th>\n",
       "      <th>yet</th>\n",
       "      <th>youre</th>\n",
       "    </tr>\n",
       "  </thead>\n",
       "  <tbody>\n",
       "    <tr>\n",
       "      <th>0</th>\n",
       "      <td>0</td>\n",
       "      <td>1579879154463690752</td>\n",
       "      <td>2022-10-11 16:58:37+00:00</td>\n",
       "      <td>ElonMusk</td>\n",
       "      <td>@NorthmanTrader No, it is not. I have spoken t...</td>\n",
       "      <td>44196397</td>\n",
       "      <td>16079</td>\n",
       "      <td>1608</td>\n",
       "      <td>1308</td>\n",
       "      <td>en</td>\n",
       "      <td>...</td>\n",
       "      <td>0</td>\n",
       "      <td>0</td>\n",
       "      <td>0</td>\n",
       "      <td>0</td>\n",
       "      <td>0</td>\n",
       "      <td>0</td>\n",
       "      <td>0</td>\n",
       "      <td>0</td>\n",
       "      <td>0</td>\n",
       "      <td>0</td>\n",
       "    </tr>\n",
       "    <tr>\n",
       "      <th>1</th>\n",
       "      <td>1</td>\n",
       "      <td>1579627776231247874</td>\n",
       "      <td>2022-10-11 00:19:44+00:00</td>\n",
       "      <td>ElonMusk</td>\n",
       "      <td>@kanyewest Talked to ye today &amp; expressed my c...</td>\n",
       "      <td>44196397</td>\n",
       "      <td>46226</td>\n",
       "      <td>2101</td>\n",
       "      <td>3251</td>\n",
       "      <td>en</td>\n",
       "      <td>...</td>\n",
       "      <td>0</td>\n",
       "      <td>0</td>\n",
       "      <td>0</td>\n",
       "      <td>0</td>\n",
       "      <td>0</td>\n",
       "      <td>0</td>\n",
       "      <td>0</td>\n",
       "      <td>0</td>\n",
       "      <td>0</td>\n",
       "      <td>0</td>\n",
       "    </tr>\n",
       "    <tr>\n",
       "      <th>2</th>\n",
       "      <td>2</td>\n",
       "      <td>1579600228826591233</td>\n",
       "      <td>2022-10-10 22:30:16+00:00</td>\n",
       "      <td>ElonMusk</td>\n",
       "      <td>@Teslarati @JohnnaCrider1 It was built &amp; paid ...</td>\n",
       "      <td>44196397</td>\n",
       "      <td>11356</td>\n",
       "      <td>506</td>\n",
       "      <td>862</td>\n",
       "      <td>en</td>\n",
       "      <td>...</td>\n",
       "      <td>0</td>\n",
       "      <td>1</td>\n",
       "      <td>0</td>\n",
       "      <td>0</td>\n",
       "      <td>0</td>\n",
       "      <td>0</td>\n",
       "      <td>0</td>\n",
       "      <td>0</td>\n",
       "      <td>0</td>\n",
       "      <td>0</td>\n",
       "    </tr>\n",
       "    <tr>\n",
       "      <th>3</th>\n",
       "      <td>3</td>\n",
       "      <td>1579299680491823104</td>\n",
       "      <td>2022-10-10 02:36:00+00:00</td>\n",
       "      <td>ElonMusk</td>\n",
       "      <td>@CathieDWood 💯</td>\n",
       "      <td>44196397</td>\n",
       "      <td>11930</td>\n",
       "      <td>568</td>\n",
       "      <td>1053</td>\n",
       "      <td>und</td>\n",
       "      <td>...</td>\n",
       "      <td>0</td>\n",
       "      <td>0</td>\n",
       "      <td>0</td>\n",
       "      <td>0</td>\n",
       "      <td>0</td>\n",
       "      <td>0</td>\n",
       "      <td>0</td>\n",
       "      <td>0</td>\n",
       "      <td>0</td>\n",
       "      <td>0</td>\n",
       "    </tr>\n",
       "    <tr>\n",
       "      <th>4</th>\n",
       "      <td>4</td>\n",
       "      <td>1579263949945835521</td>\n",
       "      <td>2022-10-10 00:14:01+00:00</td>\n",
       "      <td>ElonMusk</td>\n",
       "      <td>@WholeMarsBlog It will</td>\n",
       "      <td>44196397</td>\n",
       "      <td>3179</td>\n",
       "      <td>152</td>\n",
       "      <td>343</td>\n",
       "      <td>en</td>\n",
       "      <td>...</td>\n",
       "      <td>0</td>\n",
       "      <td>0</td>\n",
       "      <td>0</td>\n",
       "      <td>0</td>\n",
       "      <td>0</td>\n",
       "      <td>0</td>\n",
       "      <td>0</td>\n",
       "      <td>0</td>\n",
       "      <td>0</td>\n",
       "      <td>0</td>\n",
       "    </tr>\n",
       "  </tbody>\n",
       "</table>\n",
       "<p>5 rows × 250 columns</p>\n",
       "</div>"
      ],
      "text/plain": [
       "   Unnamed: 0             tweet_id                   datetime display_name  \\\n",
       "0           0  1579879154463690752  2022-10-11 16:58:37+00:00     ElonMusk   \n",
       "1           1  1579627776231247874  2022-10-11 00:19:44+00:00     ElonMusk   \n",
       "2           2  1579600228826591233  2022-10-10 22:30:16+00:00     ElonMusk   \n",
       "3           3  1579299680491823104  2022-10-10 02:36:00+00:00     ElonMusk   \n",
       "4           4  1579263949945835521  2022-10-10 00:14:01+00:00     ElonMusk   \n",
       "\n",
       "                                          tweet_text   User_id  #likes  \\\n",
       "0  @NorthmanTrader No, it is not. I have spoken t...  44196397   16079   \n",
       "1  @kanyewest Talked to ye today & expressed my c...  44196397   46226   \n",
       "2  @Teslarati @JohnnaCrider1 It was built & paid ...  44196397   11356   \n",
       "3                                     @CathieDWood 💯  44196397   11930   \n",
       "4                             @WholeMarsBlog It will  44196397    3179   \n",
       "\n",
       "   #retweets  #responses language  ... woman work working world  would  yeah  \\\n",
       "0       1608        1308       en  ...     0    0       0     0      0     0   \n",
       "1       2101        3251       en  ...     0    0       0     0      0     0   \n",
       "2        506         862       en  ...     0    1       0     0      0     0   \n",
       "3        568        1053      und  ...     0    0       0     0      0     0   \n",
       "4        152         343       en  ...     0    0       0     0      0     0   \n",
       "\n",
       "   year  yes  yet  youre  \n",
       "0     0    0    0      0  \n",
       "1     0    0    0      0  \n",
       "2     0    0    0      0  \n",
       "3     0    0    0      0  \n",
       "4     0    0    0      0  \n",
       "\n",
       "[5 rows x 250 columns]"
      ]
     },
     "execution_count": 3,
     "metadata": {},
     "output_type": "execute_result"
    }
   ],
   "source": [
    "clean.head()"
   ]
  },
  {
   "cell_type": "code",
   "execution_count": 4,
   "metadata": {},
   "outputs": [],
   "source": [
    "clean.to_csv('data/clean/clean_data.csv')"
   ]
  },
  {
   "cell_type": "code",
   "execution_count": 5,
   "metadata": {},
   "outputs": [],
   "source": [
    "# now selecting those parts of the data that will be used only classification, i.e. the vectorized columns\n",
    "cols  =list(clean.columns)\n",
    "start_cvt_feats = cols.index('clean_tweet_text')+1\n",
    "cvt_cols  = clean.columns[start_cvt_feats:]\n",
    "cvt_cols= cvt_cols.insert(0, 'tweet_id')\n",
    "feats_df = clean[cvt_cols]\n",
    "feats_df.to_csv('data/clean/features/count_vect_feats.csv')"
   ]
  },
  {
   "cell_type": "code",
   "execution_count": 6,
   "metadata": {},
   "outputs": [],
   "source": [
    "clean_display = clean[cols[1:start_cvt_feats]]\n",
    "clean_display.to_csv('data/clean/clean_display_data.csv')"
   ]
  },
  {
   "cell_type": "code",
   "execution_count": 7,
   "metadata": {},
   "outputs": [
    {
     "data": {
      "text/html": [
       "<div>\n",
       "<style scoped>\n",
       "    .dataframe tbody tr th:only-of-type {\n",
       "        vertical-align: middle;\n",
       "    }\n",
       "\n",
       "    .dataframe tbody tr th {\n",
       "        vertical-align: top;\n",
       "    }\n",
       "\n",
       "    .dataframe thead th {\n",
       "        text-align: right;\n",
       "    }\n",
       "</style>\n",
       "<table border=\"1\" class=\"dataframe\">\n",
       "  <thead>\n",
       "    <tr style=\"text-align: right;\">\n",
       "      <th></th>\n",
       "      <th>Unnamed: 0</th>\n",
       "      <th>tweet_id</th>\n",
       "      <th>datetime</th>\n",
       "      <th>display_name</th>\n",
       "      <th>tweet_text</th>\n",
       "      <th>User_id</th>\n",
       "      <th>#likes</th>\n",
       "      <th>#retweets</th>\n",
       "      <th>#responses</th>\n",
       "      <th>language</th>\n",
       "      <th>...</th>\n",
       "      <th>woman</th>\n",
       "      <th>work</th>\n",
       "      <th>working</th>\n",
       "      <th>world</th>\n",
       "      <th>would</th>\n",
       "      <th>yeah</th>\n",
       "      <th>year</th>\n",
       "      <th>yes</th>\n",
       "      <th>yet</th>\n",
       "      <th>youre</th>\n",
       "    </tr>\n",
       "  </thead>\n",
       "  <tbody>\n",
       "    <tr>\n",
       "      <th>0</th>\n",
       "      <td>0</td>\n",
       "      <td>1579879154463690752</td>\n",
       "      <td>2022-10-11 16:58:37+00:00</td>\n",
       "      <td>ElonMusk</td>\n",
       "      <td>@NorthmanTrader No, it is not. I have spoken t...</td>\n",
       "      <td>44196397</td>\n",
       "      <td>16079</td>\n",
       "      <td>1608</td>\n",
       "      <td>1308</td>\n",
       "      <td>en</td>\n",
       "      <td>...</td>\n",
       "      <td>0</td>\n",
       "      <td>0</td>\n",
       "      <td>0</td>\n",
       "      <td>0</td>\n",
       "      <td>0</td>\n",
       "      <td>0</td>\n",
       "      <td>0</td>\n",
       "      <td>0</td>\n",
       "      <td>0</td>\n",
       "      <td>0</td>\n",
       "    </tr>\n",
       "  </tbody>\n",
       "</table>\n",
       "<p>1 rows × 250 columns</p>\n",
       "</div>"
      ],
      "text/plain": [
       "   Unnamed: 0             tweet_id                   datetime display_name  \\\n",
       "0           0  1579879154463690752  2022-10-11 16:58:37+00:00     ElonMusk   \n",
       "\n",
       "                                          tweet_text   User_id  #likes  \\\n",
       "0  @NorthmanTrader No, it is not. I have spoken t...  44196397   16079   \n",
       "\n",
       "   #retweets  #responses language  ... woman work working world  would  yeah  \\\n",
       "0       1608        1308       en  ...     0    0       0     0      0     0   \n",
       "\n",
       "   year  yes  yet  youre  \n",
       "0     0    0    0      0  \n",
       "\n",
       "[1 rows x 250 columns]"
      ]
     },
     "execution_count": 7,
     "metadata": {},
     "output_type": "execute_result"
    }
   ],
   "source": [
    "clean.head(1)"
   ]
  },
  {
   "cell_type": "code",
   "execution_count": 8,
   "metadata": {},
   "outputs": [],
   "source": [
    "import functions.nlp_eda as nlp"
   ]
  },
  {
   "cell_type": "code",
   "execution_count": 9,
   "metadata": {},
   "outputs": [
    {
     "name": "stderr",
     "output_type": "stream",
     "text": [
      "/Users/ipreoteasa/Desktop/Io/blog/IoanaFio/content/project/twitter_sentiment_tracking/functions/nlp_eda.py:232: SettingWithCopyWarning: \n",
      "A value is trying to be set on a copy of a slice from a DataFrame\n",
      "\n",
      "See the caveats in the documentation: https://pandas.pydata.org/pandas-docs/stable/user_guide/indexing.html#returning-a-view-versus-a-copy\n",
      "  df.dropna(subset=[id_col], inplace=True)\n"
     ]
    }
   ],
   "source": [
    "# we're also gonna get the tf-idf data since that gives us a different way \n",
    "# to analytically assess the text and words\n",
    "\n",
    "tfdf = nlp.get_tfidf_df(clean_display, 'clean_tweet_text' )"
   ]
  },
  {
   "cell_type": "code",
   "execution_count": 10,
   "metadata": {},
   "outputs": [
    {
     "data": {
      "text/html": [
       "<div>\n",
       "<style scoped>\n",
       "    .dataframe tbody tr th:only-of-type {\n",
       "        vertical-align: middle;\n",
       "    }\n",
       "\n",
       "    .dataframe tbody tr th {\n",
       "        vertical-align: top;\n",
       "    }\n",
       "\n",
       "    .dataframe thead th {\n",
       "        text-align: right;\n",
       "    }\n",
       "</style>\n",
       "<table border=\"1\" class=\"dataframe\">\n",
       "  <thead>\n",
       "    <tr style=\"text-align: right;\">\n",
       "      <th></th>\n",
       "      <th>datetime</th>\n",
       "      <th>display_name</th>\n",
       "      <th>tweet_text</th>\n",
       "      <th>User_id</th>\n",
       "      <th>#likes</th>\n",
       "      <th>#retweets</th>\n",
       "      <th>#responses</th>\n",
       "      <th>language</th>\n",
       "      <th>extracted_twitter_handles</th>\n",
       "      <th>extracted_URLs</th>\n",
       "      <th>...</th>\n",
       "      <th>work</th>\n",
       "      <th>working</th>\n",
       "      <th>world</th>\n",
       "      <th>would</th>\n",
       "      <th>yeah</th>\n",
       "      <th>year</th>\n",
       "      <th>years</th>\n",
       "      <th>yes</th>\n",
       "      <th>yet</th>\n",
       "      <th>youre</th>\n",
       "    </tr>\n",
       "    <tr>\n",
       "      <th>tweet_id</th>\n",
       "      <th></th>\n",
       "      <th></th>\n",
       "      <th></th>\n",
       "      <th></th>\n",
       "      <th></th>\n",
       "      <th></th>\n",
       "      <th></th>\n",
       "      <th></th>\n",
       "      <th></th>\n",
       "      <th></th>\n",
       "      <th></th>\n",
       "      <th></th>\n",
       "      <th></th>\n",
       "      <th></th>\n",
       "      <th></th>\n",
       "      <th></th>\n",
       "      <th></th>\n",
       "      <th></th>\n",
       "      <th></th>\n",
       "      <th></th>\n",
       "      <th></th>\n",
       "    </tr>\n",
       "  </thead>\n",
       "  <tbody>\n",
       "    <tr>\n",
       "      <th>1579879154463690752</th>\n",
       "      <td>2022-10-11 16:58:37+00:00</td>\n",
       "      <td>ElonMusk</td>\n",
       "      <td>@NorthmanTrader No, it is not. I have spoken t...</td>\n",
       "      <td>44196397</td>\n",
       "      <td>16079</td>\n",
       "      <td>1608</td>\n",
       "      <td>1308</td>\n",
       "      <td>en</td>\n",
       "      <td>[@NorthmanTrader]</td>\n",
       "      <td>[]</td>\n",
       "      <td>...</td>\n",
       "      <td>0.0</td>\n",
       "      <td>0.0</td>\n",
       "      <td>0.0</td>\n",
       "      <td>0.0</td>\n",
       "      <td>0.0</td>\n",
       "      <td>0.0</td>\n",
       "      <td>0.0</td>\n",
       "      <td>0.0</td>\n",
       "      <td>0.0</td>\n",
       "      <td>0.0</td>\n",
       "    </tr>\n",
       "    <tr>\n",
       "      <th>1579627776231247874</th>\n",
       "      <td>2022-10-11 00:19:44+00:00</td>\n",
       "      <td>ElonMusk</td>\n",
       "      <td>@kanyewest Talked to ye today &amp; expressed my c...</td>\n",
       "      <td>44196397</td>\n",
       "      <td>46226</td>\n",
       "      <td>2101</td>\n",
       "      <td>3251</td>\n",
       "      <td>en</td>\n",
       "      <td>[@kanyewest]</td>\n",
       "      <td>[]</td>\n",
       "      <td>...</td>\n",
       "      <td>0.0</td>\n",
       "      <td>0.0</td>\n",
       "      <td>0.0</td>\n",
       "      <td>0.0</td>\n",
       "      <td>0.0</td>\n",
       "      <td>0.0</td>\n",
       "      <td>0.0</td>\n",
       "      <td>0.0</td>\n",
       "      <td>0.0</td>\n",
       "      <td>0.0</td>\n",
       "    </tr>\n",
       "  </tbody>\n",
       "</table>\n",
       "<p>2 rows × 217 columns</p>\n",
       "</div>"
      ],
      "text/plain": [
       "                                      datetime display_name  \\\n",
       "tweet_id                                                      \n",
       "1579879154463690752  2022-10-11 16:58:37+00:00     ElonMusk   \n",
       "1579627776231247874  2022-10-11 00:19:44+00:00     ElonMusk   \n",
       "\n",
       "                                                            tweet_text  \\\n",
       "tweet_id                                                                 \n",
       "1579879154463690752  @NorthmanTrader No, it is not. I have spoken t...   \n",
       "1579627776231247874  @kanyewest Talked to ye today & expressed my c...   \n",
       "\n",
       "                      User_id  #likes  #retweets  #responses language  \\\n",
       "tweet_id                                                                \n",
       "1579879154463690752  44196397   16079       1608        1308       en   \n",
       "1579627776231247874  44196397   46226       2101        3251       en   \n",
       "\n",
       "                    extracted_twitter_handles extracted_URLs  ... work  \\\n",
       "tweet_id                                                      ...        \n",
       "1579879154463690752         [@NorthmanTrader]             []  ...  0.0   \n",
       "1579627776231247874              [@kanyewest]             []  ...  0.0   \n",
       "\n",
       "                    working  world  would  yeah  year  years  yes  yet  youre  \n",
       "tweet_id                                                                       \n",
       "1579879154463690752     0.0    0.0    0.0   0.0   0.0    0.0  0.0  0.0    0.0  \n",
       "1579627776231247874     0.0    0.0    0.0   0.0   0.0    0.0  0.0  0.0    0.0  \n",
       "\n",
       "[2 rows x 217 columns]"
      ]
     },
     "execution_count": 10,
     "metadata": {},
     "output_type": "execute_result"
    }
   ],
   "source": [
    "tfdf.head(2)"
   ]
  },
  {
   "cell_type": "code",
   "execution_count": 11,
   "metadata": {},
   "outputs": [],
   "source": [
    "tfdf.iloc[:, start_cvt_feats-1:].to_csv('data/clean/features/tf_idf_df.csv')"
   ]
  },
  {
   "cell_type": "markdown",
   "metadata": {},
   "source": [
    "<a id=numerical ><a/> \n",
    "\n",
    "## 2. Using Spark and Hadoop\n",
    "    \n",
    "[LINK to table of contents](#contents)\n",
    "\n",
    "After playing around and exploring the dataset i'd gathered, I realised that all my data processing was taking really long and needed to be streamlined. So I decided to switch over to Spark and Hadoop's HDFS. "
   ]
  },
  {
   "cell_type": "code",
   "execution_count": 11,
   "metadata": {},
   "outputs": [],
   "source": [
    "from pathlib import Path\n",
    "import pandas as pd\n",
    "import numpy as np"
   ]
  },
  {
   "cell_type": "code",
   "execution_count": 12,
   "metadata": {},
   "outputs": [],
   "source": [
    "import findspark \n"
   ]
  },
  {
   "cell_type": "code",
   "execution_count": 13,
   "metadata": {},
   "outputs": [
    {
     "data": {
      "text/plain": [
       "<module 'pyspark.find_spark_home' from '/Users/ipreoteasa/opt/anaconda3/envs/dev/lib/python3.10/site-packages/pyspark/find_spark_home.py'>"
      ]
     },
     "execution_count": 13,
     "metadata": {},
     "output_type": "execute_result"
    }
   ],
   "source": [
    "import pyspark\n",
    "pyspark.find_spark_home"
   ]
  },
  {
   "cell_type": "code",
   "execution_count": 14,
   "metadata": {},
   "outputs": [],
   "source": [
    "findspark.init('/Users/ipreoteasa/opt/anaconda3/envs/dev/lib/python3.10/site-packages/pyspark/') "
   ]
  },
  {
   "cell_type": "code",
   "execution_count": 15,
   "metadata": {},
   "outputs": [
    {
     "name": "stderr",
     "output_type": "stream",
     "text": [
      "Setting default log level to \"WARN\".\n",
      "To adjust logging level use sc.setLogLevel(newLevel). For SparkR, use setLogLevel(newLevel).\n"
     ]
    },
    {
     "name": "stdout",
     "output_type": "stream",
     "text": [
      "22/10/12 09:38:39 WARN NativeCodeLoader: Unable to load native-hadoop library for your platform... using builtin-java classes where applicable\n"
     ]
    }
   ],
   "source": [
    "from pyspark.sql import SparkSession\n",
    "spark = SparkSession.builder.appName('twitter_sentiment_tracker').master('local[*]').getOrCreate()"
   ]
  },
  {
   "cell_type": "code",
   "execution_count": 17,
   "metadata": {},
   "outputs": [
    {
     "name": "stdout",
     "output_type": "stream",
     "text": [
      "<class 'pandas.core.frame.DataFrame'>\n",
      "RangeIndex: 507293 entries, 0 to 507292\n",
      "Data columns (total 14 columns):\n",
      " #   Column                     Non-Null Count   Dtype \n",
      "---  ------                     --------------   ----- \n",
      " 0   Unnamed: 0                 507293 non-null  int64 \n",
      " 1   tweet_id                   507293 non-null  int64 \n",
      " 2   datetime                   507293 non-null  object\n",
      " 3   display_name               507293 non-null  object\n",
      " 4   tweet_text                 507293 non-null  object\n",
      " 5   User_id                    507293 non-null  int64 \n",
      " 6   #likes                     507293 non-null  int64 \n",
      " 7   #retweets                  507293 non-null  int64 \n",
      " 8   #responses                 507293 non-null  int64 \n",
      " 9   language                   507293 non-null  object\n",
      " 10  extracted_twitter_handles  507293 non-null  object\n",
      " 11  extracted_URLs             507293 non-null  object\n",
      " 12  extracted_hashtags         507293 non-null  object\n",
      " 13  clean_tweet_text           487313 non-null  object\n",
      "dtypes: int64(6), object(8)\n",
      "memory usage: 54.2+ MB\n"
     ]
    }
   ],
   "source": [
    "df = pd.read_csv('data/clean/clean_display_data.csv',  lineterminator='\\n')\n",
    "df.info()"
   ]
  },
  {
   "cell_type": "code",
   "execution_count": 21,
   "metadata": {},
   "outputs": [],
   "source": [
    "df['datetime'] = pd.to_datetime(df['datetime'], errors='coerce')\n",
    "\n",
    "# now we want a very simple before and after ElonMusk's tweet proposing elections in Ukraine\n",
    "cutoff_date = pd.to_datetime('2022-10-03 16:15:43+00:00',)\n"
   ]
  },
  {
   "cell_type": "code",
   "execution_count": 24,
   "metadata": {},
   "outputs": [],
   "source": [
    "\n",
    "# now adding a filter column: stating whether a date is before or after this tweet. \n",
    "df['Before_or_after_controversy'] = df['datetime'].apply(lambda x : fn.is_it_before_or_after(x, cutoff_date))"
   ]
  },
  {
   "cell_type": "code",
   "execution_count": 25,
   "metadata": {},
   "outputs": [
    {
     "name": "stdout",
     "output_type": "stream",
     "text": [
      "<class 'pandas.core.frame.DataFrame'>\n",
      "Int64Index: 507293 entries, 0 to 507292\n",
      "Data columns (total 15 columns):\n",
      " #   Column                       Non-Null Count   Dtype              \n",
      "---  ------                       --------------   -----              \n",
      " 0   Unnamed: 0                   507293 non-null  int64              \n",
      " 1   tweet_id                     507293 non-null  int64              \n",
      " 2   datetime                     507293 non-null  datetime64[ns, UTC]\n",
      " 3   display_name                 507293 non-null  object             \n",
      " 4   tweet_text                   507293 non-null  object             \n",
      " 5   User_id                      507293 non-null  int64              \n",
      " 6   #likes                       507293 non-null  int64              \n",
      " 7   #retweets                    507293 non-null  int64              \n",
      " 8   #responses                   507293 non-null  int64              \n",
      " 9   language                     507293 non-null  object             \n",
      " 10  extracted_twitter_handles    507293 non-null  object             \n",
      " 11  extracted_URLs               507293 non-null  object             \n",
      " 12  extracted_hashtags           507293 non-null  object             \n",
      " 13  clean_tweet_text             487313 non-null  object             \n",
      " 14  Before_or_after_controversy  507293 non-null  object             \n",
      "dtypes: datetime64[ns, UTC](1), int64(6), object(8)\n",
      "memory usage: 61.9+ MB\n"
     ]
    }
   ],
   "source": [
    "df = df.loc[~df.datetime.isna()]\n",
    "df.info()"
   ]
  },
  {
   "cell_type": "code",
   "execution_count": 30,
   "metadata": {},
   "outputs": [
    {
     "data": {
      "text/plain": [
       "After     116\n",
       "Before     34\n",
       "Name: Before_or_after_controversy, dtype: int64"
      ]
     },
     "execution_count": 30,
     "metadata": {},
     "output_type": "execute_result"
    }
   ],
   "source": [
    "df.loc[df.display_name=='ElonMusk'].Before_or_after_controversy.value_counts()\n"
   ]
  },
  {
   "cell_type": "code",
   "execution_count": 27,
   "metadata": {},
   "outputs": [],
   "source": [
    "df.Before_or_after_controversy.value_counts()\n",
    "df.to_csv('data/clean/clean_display_data.csv')"
   ]
  },
  {
   "cell_type": "code",
   "execution_count": null,
   "metadata": {},
   "outputs": [],
   "source": []
  },
  {
   "cell_type": "markdown",
   "metadata": {},
   "source": [
    "<a id=categ ><a/> \n",
    "\n",
    "## 3. Cleaning categorical data\n",
    "   \n",
    "[LINK to table of contents](#contents)"
   ]
  },
  {
   "cell_type": "code",
   "execution_count": null,
   "metadata": {},
   "outputs": [],
   "source": [
    " "
   ]
  },
  {
   "cell_type": "markdown",
   "metadata": {},
   "source": [
    "<a id=text ><a/> \n",
    "\n",
    "## 4. Cleaning text data\n",
    "    \n",
    "[LINK to table of contents](#contents)"
   ]
  },
  {
   "cell_type": "code",
   "execution_count": null,
   "metadata": {},
   "outputs": [],
   "source": []
  },
  {
   "cell_type": "code",
   "execution_count": null,
   "metadata": {},
   "outputs": [],
   "source": []
  }
 ],
 "metadata": {
  "kernelspec": {
   "display_name": "Python 3.10.6 ('dev')",
   "language": "python",
   "name": "python3"
  },
  "language_info": {
   "codemirror_mode": {
    "name": "ipython",
    "version": 3
   },
   "file_extension": ".py",
   "mimetype": "text/x-python",
   "name": "python",
   "nbconvert_exporter": "python",
   "pygments_lexer": "ipython3",
   "version": "3.10.6"
  },
  "vscode": {
   "interpreter": {
    "hash": "fb04db51b63f65a907d7a4e960cdba41b14668a694baecd878a6a03a98632cbd"
   }
  }
 },
 "nbformat": 4,
 "nbformat_minor": 4
}
