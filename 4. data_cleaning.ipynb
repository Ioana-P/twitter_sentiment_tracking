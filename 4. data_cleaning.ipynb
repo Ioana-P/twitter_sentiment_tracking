{
 "cells": [
  {
   "cell_type": "markdown",
   "metadata": {},
   "source": [
    "<a id=contents></a>\n",
    "\n",
    "# Cleaning notebook\n",
    "## Subtitle\n",
    "\n",
    "\n",
    "[1. Data Inspection](#insp)\n",
    "\n",
    "[2. Using Spark and Hadoop](#numerical)\n",
    "\n",
    "[3. Cleaning categorical data](#categ)\n",
    "\n",
    "[4. Cleaning text data](#text)"
   ]
  },
  {
   "cell_type": "code",
   "execution_count": 22,
   "metadata": {},
   "outputs": [
    {
     "name": "stdout",
     "output_type": "stream",
     "text": [
      "The autoreload extension is already loaded. To reload it, use:\n",
      "  %reload_ext autoreload\n"
     ]
    }
   ],
   "source": [
    "%load_ext autoreload\n",
    "%autoreload 2 \n",
    "\n",
    "import pandas as pd\n",
    "import numpy as n\n",
    "from pathlib import Path\n",
    "\n",
    "import functions.functions as fn"
   ]
  },
  {
   "cell_type": "markdown",
   "metadata": {},
   "source": [
    "<a id=insp ><a/> \n",
    "\n",
    "## 1. Data Inspection\n",
    "    \n",
    "[LINK to table of contents](#contents)"
   ]
  },
  {
   "cell_type": "code",
   "execution_count": 23,
   "metadata": {},
   "outputs": [],
   "source": [
    "# 4-5 min to run\n",
    "raw_path = Path('data/raw')\n",
    "clean, cvt = fn.clean_tweet_text(raw_path)"
   ]
  },
  {
   "cell_type": "code",
   "execution_count": 24,
   "metadata": {},
   "outputs": [
    {
     "data": {
      "text/html": [
       "<div>\n",
       "<style scoped>\n",
       "    .dataframe tbody tr th:only-of-type {\n",
       "        vertical-align: middle;\n",
       "    }\n",
       "\n",
       "    .dataframe tbody tr th {\n",
       "        vertical-align: top;\n",
       "    }\n",
       "\n",
       "    .dataframe thead th {\n",
       "        text-align: right;\n",
       "    }\n",
       "</style>\n",
       "<table border=\"1\" class=\"dataframe\">\n",
       "  <thead>\n",
       "    <tr style=\"text-align: right;\">\n",
       "      <th></th>\n",
       "      <th>Unnamed: 0</th>\n",
       "      <th>tweet_id</th>\n",
       "      <th>datetime</th>\n",
       "      <th>display_name</th>\n",
       "      <th>tweet_text</th>\n",
       "      <th>User_id</th>\n",
       "      <th>extracted_twitter_handles</th>\n",
       "      <th>extracted_URLs</th>\n",
       "      <th>extracted_hashtags</th>\n",
       "      <th>clean_tweet_text</th>\n",
       "      <th>...</th>\n",
       "      <th>woman</th>\n",
       "      <th>work</th>\n",
       "      <th>working</th>\n",
       "      <th>world</th>\n",
       "      <th>would</th>\n",
       "      <th>yeah</th>\n",
       "      <th>year</th>\n",
       "      <th>yes</th>\n",
       "      <th>yet</th>\n",
       "      <th>youre</th>\n",
       "    </tr>\n",
       "  </thead>\n",
       "  <tbody>\n",
       "    <tr>\n",
       "      <th>0</th>\n",
       "      <td>0</td>\n",
       "      <td>1579299680491823104</td>\n",
       "      <td>2022-10-10 02:36:00+00:00</td>\n",
       "      <td>ElonMusk</td>\n",
       "      <td>@CathieDWood 💯</td>\n",
       "      <td>44196397.0</td>\n",
       "      <td>[@CathieDWood]</td>\n",
       "      <td>[]</td>\n",
       "      <td>[]</td>\n",
       "      <td>💯</td>\n",
       "      <td>...</td>\n",
       "      <td>0</td>\n",
       "      <td>0</td>\n",
       "      <td>0</td>\n",
       "      <td>0</td>\n",
       "      <td>0</td>\n",
       "      <td>0</td>\n",
       "      <td>0</td>\n",
       "      <td>0</td>\n",
       "      <td>0</td>\n",
       "      <td>0</td>\n",
       "    </tr>\n",
       "    <tr>\n",
       "      <th>1</th>\n",
       "      <td>1</td>\n",
       "      <td>1579263949945835521</td>\n",
       "      <td>2022-10-10 00:14:01+00:00</td>\n",
       "      <td>ElonMusk</td>\n",
       "      <td>@WholeMarsBlog It will</td>\n",
       "      <td>44196397.0</td>\n",
       "      <td>[@WholeMarsBlog]</td>\n",
       "      <td>[]</td>\n",
       "      <td>[]</td>\n",
       "      <td>It will</td>\n",
       "      <td>...</td>\n",
       "      <td>0</td>\n",
       "      <td>0</td>\n",
       "      <td>0</td>\n",
       "      <td>0</td>\n",
       "      <td>0</td>\n",
       "      <td>0</td>\n",
       "      <td>0</td>\n",
       "      <td>0</td>\n",
       "      <td>0</td>\n",
       "      <td>0</td>\n",
       "    </tr>\n",
       "    <tr>\n",
       "      <th>2</th>\n",
       "      <td>2</td>\n",
       "      <td>1579262341904203777</td>\n",
       "      <td>2022-10-10 00:07:38+00:00</td>\n",
       "      <td>ElonMusk</td>\n",
       "      <td>@chicago_glenn @neiltyson Strange @Twitter</td>\n",
       "      <td>44196397.0</td>\n",
       "      <td>[@chicago_glenn, @neiltyson, @Twitter]</td>\n",
       "      <td>[]</td>\n",
       "      <td>[]</td>\n",
       "      <td>Strange</td>\n",
       "      <td>...</td>\n",
       "      <td>0</td>\n",
       "      <td>0</td>\n",
       "      <td>0</td>\n",
       "      <td>0</td>\n",
       "      <td>0</td>\n",
       "      <td>0</td>\n",
       "      <td>0</td>\n",
       "      <td>0</td>\n",
       "      <td>0</td>\n",
       "      <td>0</td>\n",
       "    </tr>\n",
       "    <tr>\n",
       "      <th>3</th>\n",
       "      <td>3</td>\n",
       "      <td>1579258883977416705</td>\n",
       "      <td>2022-10-09 23:53:53+00:00</td>\n",
       "      <td>ElonMusk</td>\n",
       "      <td>@WholeMarsBlog I have no desire to become invo...</td>\n",
       "      <td>44196397.0</td>\n",
       "      <td>[@WholeMarsBlog]</td>\n",
       "      <td>[]</td>\n",
       "      <td>[]</td>\n",
       "      <td>I have no desire to become involved in wars bu...</td>\n",
       "      <td>...</td>\n",
       "      <td>0</td>\n",
       "      <td>0</td>\n",
       "      <td>0</td>\n",
       "      <td>0</td>\n",
       "      <td>0</td>\n",
       "      <td>0</td>\n",
       "      <td>0</td>\n",
       "      <td>0</td>\n",
       "      <td>0</td>\n",
       "      <td>0</td>\n",
       "    </tr>\n",
       "    <tr>\n",
       "      <th>4</th>\n",
       "      <td>4</td>\n",
       "      <td>1579235577492574209</td>\n",
       "      <td>2022-10-09 22:21:17+00:00</td>\n",
       "      <td>ElonMusk</td>\n",
       "      <td>@Teslarati Strong candidate to win most counte...</td>\n",
       "      <td>44196397.0</td>\n",
       "      <td>[@Teslarati]</td>\n",
       "      <td>[]</td>\n",
       "      <td>[]</td>\n",
       "      <td>Strong candidate to win most counterintuitive ...</td>\n",
       "      <td>...</td>\n",
       "      <td>0</td>\n",
       "      <td>0</td>\n",
       "      <td>0</td>\n",
       "      <td>0</td>\n",
       "      <td>0</td>\n",
       "      <td>0</td>\n",
       "      <td>1</td>\n",
       "      <td>0</td>\n",
       "      <td>0</td>\n",
       "      <td>0</td>\n",
       "    </tr>\n",
       "  </tbody>\n",
       "</table>\n",
       "<p>5 rows × 238 columns</p>\n",
       "</div>"
      ],
      "text/plain": [
       "   Unnamed: 0             tweet_id                   datetime display_name  \\\n",
       "0           0  1579299680491823104  2022-10-10 02:36:00+00:00     ElonMusk   \n",
       "1           1  1579263949945835521  2022-10-10 00:14:01+00:00     ElonMusk   \n",
       "2           2  1579262341904203777  2022-10-10 00:07:38+00:00     ElonMusk   \n",
       "3           3  1579258883977416705  2022-10-09 23:53:53+00:00     ElonMusk   \n",
       "4           4  1579235577492574209  2022-10-09 22:21:17+00:00     ElonMusk   \n",
       "\n",
       "                                          tweet_text     User_id  \\\n",
       "0                                     @CathieDWood 💯  44196397.0   \n",
       "1                             @WholeMarsBlog It will  44196397.0   \n",
       "2         @chicago_glenn @neiltyson Strange @Twitter  44196397.0   \n",
       "3  @WholeMarsBlog I have no desire to become invo...  44196397.0   \n",
       "4  @Teslarati Strong candidate to win most counte...  44196397.0   \n",
       "\n",
       "                extracted_twitter_handles extracted_URLs extracted_hashtags  \\\n",
       "0                          [@CathieDWood]             []                 []   \n",
       "1                        [@WholeMarsBlog]             []                 []   \n",
       "2  [@chicago_glenn, @neiltyson, @Twitter]             []                 []   \n",
       "3                        [@WholeMarsBlog]             []                 []   \n",
       "4                            [@Teslarati]             []                 []   \n",
       "\n",
       "                                    clean_tweet_text  ...  woman  work  \\\n",
       "0                                                  💯  ...      0     0   \n",
       "1                                            It will  ...      0     0   \n",
       "2                                            Strange  ...      0     0   \n",
       "3  I have no desire to become involved in wars bu...  ...      0     0   \n",
       "4  Strong candidate to win most counterintuitive ...  ...      0     0   \n",
       "\n",
       "   working  world  would  yeah  year  yes  yet  youre  \n",
       "0        0      0      0     0     0    0    0      0  \n",
       "1        0      0      0     0     0    0    0      0  \n",
       "2        0      0      0     0     0    0    0      0  \n",
       "3        0      0      0     0     0    0    0      0  \n",
       "4        0      0      0     0     1    0    0      0  \n",
       "\n",
       "[5 rows x 238 columns]"
      ]
     },
     "execution_count": 24,
     "metadata": {},
     "output_type": "execute_result"
    }
   ],
   "source": [
    "clean.head()"
   ]
  },
  {
   "cell_type": "code",
   "execution_count": 25,
   "metadata": {},
   "outputs": [],
   "source": [
    "clean.to_csv('data/clean/clean_data.csv')"
   ]
  },
  {
   "cell_type": "code",
   "execution_count": 26,
   "metadata": {},
   "outputs": [],
   "source": [
    "# now selecting those parts of the data that will be used only classification, i.e. the vectorized columns\n",
    "cols  =list(clean.columns)\n",
    "start_cvt_feats = cols.index('clean_tweet_text')+1\n",
    "cvt_cols  = clean.columns[start_cvt_feats:]\n",
    "cvt_cols= cvt_cols.insert(0, 'tweet_id')\n",
    "feats_df = clean[cvt_cols]\n",
    "feats_df.to_csv('data/clean/features/count_vect_feats.csv')"
   ]
  },
  {
   "cell_type": "code",
   "execution_count": 27,
   "metadata": {},
   "outputs": [],
   "source": [
    "clean_display = clean[cols[1:start_cvt_feats]]\n",
    "clean_display.to_csv('data/clean/clean_display_data.csv')"
   ]
  },
  {
   "cell_type": "code",
   "execution_count": 28,
   "metadata": {},
   "outputs": [
    {
     "data": {
      "text/html": [
       "<div>\n",
       "<style scoped>\n",
       "    .dataframe tbody tr th:only-of-type {\n",
       "        vertical-align: middle;\n",
       "    }\n",
       "\n",
       "    .dataframe tbody tr th {\n",
       "        vertical-align: top;\n",
       "    }\n",
       "\n",
       "    .dataframe thead th {\n",
       "        text-align: right;\n",
       "    }\n",
       "</style>\n",
       "<table border=\"1\" class=\"dataframe\">\n",
       "  <thead>\n",
       "    <tr style=\"text-align: right;\">\n",
       "      <th></th>\n",
       "      <th>Unnamed: 0</th>\n",
       "      <th>tweet_id</th>\n",
       "      <th>datetime</th>\n",
       "      <th>display_name</th>\n",
       "      <th>tweet_text</th>\n",
       "      <th>User_id</th>\n",
       "      <th>extracted_twitter_handles</th>\n",
       "      <th>extracted_URLs</th>\n",
       "      <th>extracted_hashtags</th>\n",
       "      <th>clean_tweet_text</th>\n",
       "      <th>...</th>\n",
       "      <th>woman</th>\n",
       "      <th>work</th>\n",
       "      <th>working</th>\n",
       "      <th>world</th>\n",
       "      <th>would</th>\n",
       "      <th>yeah</th>\n",
       "      <th>year</th>\n",
       "      <th>yes</th>\n",
       "      <th>yet</th>\n",
       "      <th>youre</th>\n",
       "    </tr>\n",
       "  </thead>\n",
       "  <tbody>\n",
       "    <tr>\n",
       "      <th>0</th>\n",
       "      <td>0</td>\n",
       "      <td>1579299680491823104</td>\n",
       "      <td>2022-10-10 02:36:00+00:00</td>\n",
       "      <td>ElonMusk</td>\n",
       "      <td>@CathieDWood 💯</td>\n",
       "      <td>44196397.0</td>\n",
       "      <td>[@CathieDWood]</td>\n",
       "      <td>[]</td>\n",
       "      <td>[]</td>\n",
       "      <td>💯</td>\n",
       "      <td>...</td>\n",
       "      <td>0</td>\n",
       "      <td>0</td>\n",
       "      <td>0</td>\n",
       "      <td>0</td>\n",
       "      <td>0</td>\n",
       "      <td>0</td>\n",
       "      <td>0</td>\n",
       "      <td>0</td>\n",
       "      <td>0</td>\n",
       "      <td>0</td>\n",
       "    </tr>\n",
       "  </tbody>\n",
       "</table>\n",
       "<p>1 rows × 238 columns</p>\n",
       "</div>"
      ],
      "text/plain": [
       "   Unnamed: 0             tweet_id                   datetime display_name  \\\n",
       "0           0  1579299680491823104  2022-10-10 02:36:00+00:00     ElonMusk   \n",
       "\n",
       "       tweet_text     User_id extracted_twitter_handles extracted_URLs  \\\n",
       "0  @CathieDWood 💯  44196397.0            [@CathieDWood]             []   \n",
       "\n",
       "  extracted_hashtags clean_tweet_text  ...  woman  work  working  world  \\\n",
       "0                 []                💯  ...      0     0        0      0   \n",
       "\n",
       "   would  yeah  year  yes  yet  youre  \n",
       "0      0     0     0    0    0      0  \n",
       "\n",
       "[1 rows x 238 columns]"
      ]
     },
     "execution_count": 28,
     "metadata": {},
     "output_type": "execute_result"
    }
   ],
   "source": [
    "clean.head(1)"
   ]
  },
  {
   "cell_type": "code",
   "execution_count": 30,
   "metadata": {},
   "outputs": [],
   "source": [
    "import functions.nlp_eda as nlp"
   ]
  },
  {
   "cell_type": "code",
   "execution_count": 31,
   "metadata": {},
   "outputs": [],
   "source": [
    "# we're also gonna get the tf-idf data since that gives us a different way \n",
    "# to analytically assess the text and words\n",
    "\n",
    "tfdf = nlp.get_tfidf_df(clean_display, 'clean_tweet_text' )"
   ]
  },
  {
   "cell_type": "code",
   "execution_count": 36,
   "metadata": {},
   "outputs": [],
   "source": [
    "tfdf.iloc[:, start_cvt_feats-1:].to_csv('data/clean/features/tf_idf_df.csv')"
   ]
  },
  {
   "cell_type": "markdown",
   "metadata": {},
   "source": [
    "<a id=numerical ><a/> \n",
    "\n",
    "## 2. Using Spark and Hadoop\n",
    "    \n",
    "[LINK to table of contents](#contents)\n",
    "\n",
    "After playing around and exploring the dataset i'd gathered, I realised that all my data processing was taking really long and needed to be streamlined. So I decided to switch over to Spark and Hadoop's HDFS. "
   ]
  },
  {
   "cell_type": "code",
   "execution_count": 1,
   "metadata": {},
   "outputs": [],
   "source": [
    "from pathlib import Path\n",
    "import pandas as pd\n",
    "import numpy as np"
   ]
  },
  {
   "cell_type": "code",
   "execution_count": 2,
   "metadata": {},
   "outputs": [],
   "source": [
    "import findspark \n"
   ]
  },
  {
   "cell_type": "code",
   "execution_count": 6,
   "metadata": {},
   "outputs": [
    {
     "data": {
      "text/plain": [
       "<module 'pyspark.find_spark_home' from '/Users/ipreoteasa/opt/anaconda3/envs/dev/lib/python3.10/site-packages/pyspark/find_spark_home.py'>"
      ]
     },
     "execution_count": 6,
     "metadata": {},
     "output_type": "execute_result"
    }
   ],
   "source": [
    "import pyspark\n",
    "pyspark.find_spark_home"
   ]
  },
  {
   "cell_type": "code",
   "execution_count": 9,
   "metadata": {},
   "outputs": [],
   "source": [
    "findspark.init('/Users/ipreoteasa/opt/anaconda3/envs/dev/lib/python3.10/site-packages/pyspark/') "
   ]
  },
  {
   "cell_type": "code",
   "execution_count": 10,
   "metadata": {},
   "outputs": [
    {
     "name": "stderr",
     "output_type": "stream",
     "text": [
      "Setting default log level to \"WARN\".\n",
      "To adjust logging level use sc.setLogLevel(newLevel). For SparkR, use setLogLevel(newLevel).\n"
     ]
    },
    {
     "name": "stdout",
     "output_type": "stream",
     "text": [
      "22/10/11 12:21:41 WARN NativeCodeLoader: Unable to load native-hadoop library for your platform... using builtin-java classes where applicable\n"
     ]
    }
   ],
   "source": [
    "from pyspark.sql import SparkSession\n",
    "spark = SparkSession.builder.appName('twitter_sentiment_tracker').master('local[*]').getOrCreate()"
   ]
  },
  {
   "cell_type": "code",
   "execution_count": 12,
   "metadata": {},
   "outputs": [
    {
     "name": "stderr",
     "output_type": "stream",
     "text": [
      "/var/folders/z8/91655qv97wdf50fs2d98cnfc0000gp/T/ipykernel_46773/837764770.py:1: DtypeWarning: Columns (0,5) have mixed types. Specify dtype option on import or set low_memory=False.\n",
      "  df = pd.read_csv('data/clean/clean_display_data.csv')\n"
     ]
    },
    {
     "name": "stdout",
     "output_type": "stream",
     "text": [
      "<class 'pandas.core.frame.DataFrame'>\n",
      "RangeIndex: 676653 entries, 0 to 676652\n",
      "Data columns (total 10 columns):\n",
      " #   Column                     Non-Null Count   Dtype  \n",
      "---  ------                     --------------   -----  \n",
      " 0   Unnamed: 0                 676653 non-null  object \n",
      " 1   tweet_id                   676642 non-null  float64\n",
      " 2   datetime                   676642 non-null  object \n",
      " 3   display_name               676642 non-null  object \n",
      " 4   tweet_text                 676642 non-null  object \n",
      " 5   User_id                    676342 non-null  object \n",
      " 6   extracted_twitter_handles  559523 non-null  object \n",
      " 7   extracted_URLs             559523 non-null  object \n",
      " 8   extracted_hashtags         559523 non-null  object \n",
      " 9   clean_tweet_text           538344 non-null  object \n",
      "dtypes: float64(1), object(9)\n",
      "memory usage: 51.6+ MB\n"
     ]
    }
   ],
   "source": [
    "df = pd.read_csv('data/clean/clean_display_data.csv')\n",
    "df.info()"
   ]
  },
  {
   "cell_type": "code",
   "execution_count": 22,
   "metadata": {},
   "outputs": [
    {
     "data": {
      "text/plain": [
       "True"
      ]
     },
     "execution_count": 22,
     "metadata": {},
     "output_type": "execute_result"
    }
   ],
   "source": [
    "pd.to_datetime('2022-10-10 16:15:43+00:00') >= pd.to_datetime('2022-10-03 16:15:43+00:00')"
   ]
  },
  {
   "cell_type": "code",
   "execution_count": 19,
   "metadata": {},
   "outputs": [
    {
     "data": {
      "text/html": [
       "<div>\n",
       "<style scoped>\n",
       "    .dataframe tbody tr th:only-of-type {\n",
       "        vertical-align: middle;\n",
       "    }\n",
       "\n",
       "    .dataframe tbody tr th {\n",
       "        vertical-align: top;\n",
       "    }\n",
       "\n",
       "    .dataframe thead th {\n",
       "        text-align: right;\n",
       "    }\n",
       "</style>\n",
       "<table border=\"1\" class=\"dataframe\">\n",
       "  <thead>\n",
       "    <tr style=\"text-align: right;\">\n",
       "      <th></th>\n",
       "      <th>Unnamed: 0</th>\n",
       "      <th>tweet_id</th>\n",
       "      <th>datetime</th>\n",
       "      <th>display_name</th>\n",
       "      <th>tweet_text</th>\n",
       "      <th>User_id</th>\n",
       "      <th>extracted_twitter_handles</th>\n",
       "      <th>extracted_URLs</th>\n",
       "      <th>extracted_hashtags</th>\n",
       "      <th>clean_tweet_text</th>\n",
       "    </tr>\n",
       "  </thead>\n",
       "  <tbody>\n",
       "    <tr>\n",
       "      <th>113</th>\n",
       "      <td>113</td>\n",
       "      <td>1.576969e+18</td>\n",
       "      <td>2022-10-03 16:15:43+00:00</td>\n",
       "      <td>ElonMusk</td>\n",
       "      <td>Ukraine-Russia Peace:\\n\\n- Redo elections of a...</td>\n",
       "      <td>44196397.0</td>\n",
       "      <td>[]</td>\n",
       "      <td>[]</td>\n",
       "      <td>[]</td>\n",
       "      <td>UkraineRussia Peace Redo elections of annexed ...</td>\n",
       "    </tr>\n",
       "    <tr>\n",
       "      <th>384</th>\n",
       "      <td>384</td>\n",
       "      <td>1.578662e+18</td>\n",
       "      <td>2022-10-08 08:20:12+00:00</td>\n",
       "      <td>KonstantinKisin</td>\n",
       "      <td>Ukraine asked for missiles it could use to dis...</td>\n",
       "      <td>1495726466.0</td>\n",
       "      <td>[]</td>\n",
       "      <td>['https://t.co/1d8Fv0vEU2']</td>\n",
       "      <td>[]</td>\n",
       "      <td>Ukraine asked for missiles it could use to dis...</td>\n",
       "    </tr>\n",
       "    <tr>\n",
       "      <th>1811</th>\n",
       "      <td>1811</td>\n",
       "      <td>1.579156e+18</td>\n",
       "      <td>2022-10-09 17:06:00+00:00</td>\n",
       "      <td>HuXijin_GT</td>\n",
       "      <td>Ukraine changing its mind is a sign of being b...</td>\n",
       "      <td>2775998016.0</td>\n",
       "      <td>[]</td>\n",
       "      <td>['https://t.co/wyC0YNEYyM']</td>\n",
       "      <td>[]</td>\n",
       "      <td>Ukraine changing its mind is a sign of being b...</td>\n",
       "    </tr>\n",
       "    <tr>\n",
       "      <th>1824</th>\n",
       "      <td>1824</td>\n",
       "      <td>1.576980e+18</td>\n",
       "      <td>2022-10-03 16:58:11+00:00</td>\n",
       "      <td>HuXijin_GT</td>\n",
       "      <td>Ukraine is fighting for NATO in a sense. NATO ...</td>\n",
       "      <td>2775998016.0</td>\n",
       "      <td>[]</td>\n",
       "      <td>['https://t.co/ZhgKQT3h70']</td>\n",
       "      <td>[]</td>\n",
       "      <td>Ukraine is fighting for NATO in a sense NATO h...</td>\n",
       "    </tr>\n",
       "    <tr>\n",
       "      <th>1831</th>\n",
       "      <td>1831</td>\n",
       "      <td>1.575737e+18</td>\n",
       "      <td>2022-09-30 06:39:28+00:00</td>\n",
       "      <td>HuXijin_GT</td>\n",
       "      <td>Ukraine’s situation is at an extremely dangero...</td>\n",
       "      <td>2775998016.0</td>\n",
       "      <td>[]</td>\n",
       "      <td>['https://t.co/gpH7C7U04m']</td>\n",
       "      <td>[]</td>\n",
       "      <td>Ukraines situation is at an extremely dangerou...</td>\n",
       "    </tr>\n",
       "    <tr>\n",
       "      <th>...</th>\n",
       "      <td>...</td>\n",
       "      <td>...</td>\n",
       "      <td>...</td>\n",
       "      <td>...</td>\n",
       "      <td>...</td>\n",
       "      <td>...</td>\n",
       "      <td>...</td>\n",
       "      <td>...</td>\n",
       "      <td>...</td>\n",
       "      <td>...</td>\n",
       "    </tr>\n",
       "    <tr>\n",
       "      <th>676286</th>\n",
       "      <td>517349</td>\n",
       "      <td>1.578282e+18</td>\n",
       "      <td>2022-10-07 07:12:22+00:00</td>\n",
       "      <td>ukraine_world</td>\n",
       "      <td>Ukraine’s rapid breakthrough in the Kharkiv Ob...</td>\n",
       "      <td>873135988440223744.0</td>\n",
       "      <td>[]</td>\n",
       "      <td>['https://t.co/Fsozl9xAap']</td>\n",
       "      <td>['#UkraineWillWin']</td>\n",
       "      <td>Ukraines rapid breakthrough in the Kharkiv Obl...</td>\n",
       "    </tr>\n",
       "    <tr>\n",
       "      <th>676296</th>\n",
       "      <td>517359</td>\n",
       "      <td>1.578053e+18</td>\n",
       "      <td>2022-10-06 16:01:32+00:00</td>\n",
       "      <td>ukraine_world</td>\n",
       "      <td>Ukraine's President Volodymyr Zelenskyy says h...</td>\n",
       "      <td>873135988440223744.0</td>\n",
       "      <td>['@YouTube']</td>\n",
       "      <td>['https://t.co/7aFkWG8h0X']</td>\n",
       "      <td>[]</td>\n",
       "      <td>Ukraines President Volodymyr Zelenskyy says he...</td>\n",
       "    </tr>\n",
       "    <tr>\n",
       "      <th>676320</th>\n",
       "      <td>517383</td>\n",
       "      <td>1.577987e+18</td>\n",
       "      <td>2022-10-06 11:41:51+00:00</td>\n",
       "      <td>ukraine_world</td>\n",
       "      <td>Ukraine recaptured more than 6000 sq. km of te...</td>\n",
       "      <td>873135988440223744.0</td>\n",
       "      <td>['@YouTube']</td>\n",
       "      <td>['https://t.co/Z9D8gSNfgN']</td>\n",
       "      <td>['#UkraineWillWin']</td>\n",
       "      <td>Ukraine recaptured more than 6000 sq km of ter...</td>\n",
       "    </tr>\n",
       "    <tr>\n",
       "      <th>676326</th>\n",
       "      <td>517389</td>\n",
       "      <td>1.577980e+18</td>\n",
       "      <td>2022-10-06 11:13:59+00:00</td>\n",
       "      <td>ukraine_world</td>\n",
       "      <td>Ukraine’s President Zelenskyy has urged world ...</td>\n",
       "      <td>873135988440223744.0</td>\n",
       "      <td>['@guardian']</td>\n",
       "      <td>['https://t.co/eV2mxdwxKY']</td>\n",
       "      <td>['#StandWithIUkraine', '#StopRussiaNOW']</td>\n",
       "      <td>Ukraines President Zelenskyy has urged world l...</td>\n",
       "    </tr>\n",
       "    <tr>\n",
       "      <th>676346</th>\n",
       "      <td>517409</td>\n",
       "      <td>1.577935e+18</td>\n",
       "      <td>2022-10-06 08:12:31+00:00</td>\n",
       "      <td>ukraine_world</td>\n",
       "      <td>Ukraine’s victory and Russia’s defeat will lea...</td>\n",
       "      <td>873135988440223744.0</td>\n",
       "      <td>[]</td>\n",
       "      <td>[]</td>\n",
       "      <td>[]</td>\n",
       "      <td>Ukraines victory and Russias defeat will lead ...</td>\n",
       "    </tr>\n",
       "  </tbody>\n",
       "</table>\n",
       "<p>352 rows × 10 columns</p>\n",
       "</div>"
      ],
      "text/plain": [
       "       Unnamed: 0      tweet_id                   datetime     display_name  \\\n",
       "113           113  1.576969e+18  2022-10-03 16:15:43+00:00         ElonMusk   \n",
       "384           384  1.578662e+18  2022-10-08 08:20:12+00:00  KonstantinKisin   \n",
       "1811         1811  1.579156e+18  2022-10-09 17:06:00+00:00       HuXijin_GT   \n",
       "1824         1824  1.576980e+18  2022-10-03 16:58:11+00:00       HuXijin_GT   \n",
       "1831         1831  1.575737e+18  2022-09-30 06:39:28+00:00       HuXijin_GT   \n",
       "...           ...           ...                        ...              ...   \n",
       "676286     517349  1.578282e+18  2022-10-07 07:12:22+00:00    ukraine_world   \n",
       "676296     517359  1.578053e+18  2022-10-06 16:01:32+00:00    ukraine_world   \n",
       "676320     517383  1.577987e+18  2022-10-06 11:41:51+00:00    ukraine_world   \n",
       "676326     517389  1.577980e+18  2022-10-06 11:13:59+00:00    ukraine_world   \n",
       "676346     517409  1.577935e+18  2022-10-06 08:12:31+00:00    ukraine_world   \n",
       "\n",
       "                                               tweet_text  \\\n",
       "113     Ukraine-Russia Peace:\\n\\n- Redo elections of a...   \n",
       "384     Ukraine asked for missiles it could use to dis...   \n",
       "1811    Ukraine changing its mind is a sign of being b...   \n",
       "1824    Ukraine is fighting for NATO in a sense. NATO ...   \n",
       "1831    Ukraine’s situation is at an extremely dangero...   \n",
       "...                                                   ...   \n",
       "676286  Ukraine’s rapid breakthrough in the Kharkiv Ob...   \n",
       "676296  Ukraine's President Volodymyr Zelenskyy says h...   \n",
       "676320  Ukraine recaptured more than 6000 sq. km of te...   \n",
       "676326  Ukraine’s President Zelenskyy has urged world ...   \n",
       "676346  Ukraine’s victory and Russia’s defeat will lea...   \n",
       "\n",
       "                     User_id extracted_twitter_handles  \\\n",
       "113               44196397.0                        []   \n",
       "384             1495726466.0                        []   \n",
       "1811            2775998016.0                        []   \n",
       "1824            2775998016.0                        []   \n",
       "1831            2775998016.0                        []   \n",
       "...                      ...                       ...   \n",
       "676286  873135988440223744.0                        []   \n",
       "676296  873135988440223744.0              ['@YouTube']   \n",
       "676320  873135988440223744.0              ['@YouTube']   \n",
       "676326  873135988440223744.0             ['@guardian']   \n",
       "676346  873135988440223744.0                        []   \n",
       "\n",
       "                     extracted_URLs                        extracted_hashtags  \\\n",
       "113                              []                                        []   \n",
       "384     ['https://t.co/1d8Fv0vEU2']                                        []   \n",
       "1811    ['https://t.co/wyC0YNEYyM']                                        []   \n",
       "1824    ['https://t.co/ZhgKQT3h70']                                        []   \n",
       "1831    ['https://t.co/gpH7C7U04m']                                        []   \n",
       "...                             ...                                       ...   \n",
       "676286  ['https://t.co/Fsozl9xAap']                       ['#UkraineWillWin']   \n",
       "676296  ['https://t.co/7aFkWG8h0X']                                        []   \n",
       "676320  ['https://t.co/Z9D8gSNfgN']                       ['#UkraineWillWin']   \n",
       "676326  ['https://t.co/eV2mxdwxKY']  ['#StandWithIUkraine', '#StopRussiaNOW']   \n",
       "676346                           []                                        []   \n",
       "\n",
       "                                         clean_tweet_text  \n",
       "113     UkraineRussia Peace Redo elections of annexed ...  \n",
       "384     Ukraine asked for missiles it could use to dis...  \n",
       "1811    Ukraine changing its mind is a sign of being b...  \n",
       "1824    Ukraine is fighting for NATO in a sense NATO h...  \n",
       "1831    Ukraines situation is at an extremely dangerou...  \n",
       "...                                                   ...  \n",
       "676286  Ukraines rapid breakthrough in the Kharkiv Obl...  \n",
       "676296  Ukraines President Volodymyr Zelenskyy says he...  \n",
       "676320  Ukraine recaptured more than 6000 sq km of ter...  \n",
       "676326  Ukraines President Zelenskyy has urged world l...  \n",
       "676346  Ukraines victory and Russias defeat will lead ...  \n",
       "\n",
       "[352 rows x 10 columns]"
      ]
     },
     "execution_count": 19,
     "metadata": {},
     "output_type": "execute_result"
    }
   ],
   "source": [
    "df.dropna().loc[df.dropna().clean_tweet_text.str.startswith('Ukraine')]"
   ]
  },
  {
   "cell_type": "code",
   "execution_count": 16,
   "metadata": {},
   "outputs": [
    {
     "name": "stdout",
     "output_type": "stream",
     "text": [
      "<class 'pandas.core.frame.DataFrame'>\n",
      "RangeIndex: 676653 entries, 0 to 676652\n",
      "Data columns (total 10 columns):\n",
      " #   Column                     Non-Null Count   Dtype  \n",
      "---  ------                     --------------   -----  \n",
      " 0   Unnamed: 0                 676653 non-null  object \n",
      " 1   tweet_id                   676642 non-null  float64\n",
      " 2   datetime                   676642 non-null  object \n",
      " 3   display_name               676642 non-null  object \n",
      " 4   tweet_text                 676642 non-null  object \n",
      " 5   User_id                    676342 non-null  object \n",
      " 6   extracted_twitter_handles  559523 non-null  object \n",
      " 7   extracted_URLs             559523 non-null  object \n",
      " 8   extracted_hashtags         559523 non-null  object \n",
      " 9   clean_tweet_text           538344 non-null  object \n",
      "dtypes: float64(1), object(9)\n",
      "memory usage: 51.6+ MB\n"
     ]
    }
   ],
   "source": [
    "df['datetime'] = pd.to_datetime(df['datetime'])\n",
    "\n",
    "# now we want a very simple before and after ElonMusk's tweet proposing elections in Ukraine\n",
    "cutoff_date = pd.to_datetime('2022-10-03 16:15:43+00:00')\n",
    "\n",
    "# now adding a filter column: stating whether a date is before or after this tweet. \n",
    "\n",
    "\n",
    "df['Before_or_after_controversy'] = df['datetime'].apply(lambda x : fn.is_it_before_or_after(x, cutoff_date))\n"
   ]
  },
  {
   "cell_type": "code",
   "execution_count": 13,
   "metadata": {},
   "outputs": [
    {
     "ename": "ParserError",
     "evalue": "Unknown string format: []",
     "output_type": "error",
     "traceback": [
      "\u001b[0;31m---------------------------------------------------------------------------\u001b[0m",
      "\u001b[0;31mTypeError\u001b[0m                                 Traceback (most recent call last)",
      "File \u001b[0;32m~/opt/anaconda3/envs/dev/lib/python3.10/site-packages/pandas/core/arrays/datetimes.py:2236\u001b[0m, in \u001b[0;36mobjects_to_datetime64ns\u001b[0;34m(data, dayfirst, yearfirst, utc, errors, require_iso8601, allow_object, allow_mixed)\u001b[0m\n\u001b[1;32m   2235\u001b[0m \u001b[39mtry\u001b[39;00m:\n\u001b[0;32m-> 2236\u001b[0m     values, tz_parsed \u001b[39m=\u001b[39m conversion\u001b[39m.\u001b[39;49mdatetime_to_datetime64(data\u001b[39m.\u001b[39;49mravel(\u001b[39m\"\u001b[39;49m\u001b[39mK\u001b[39;49m\u001b[39m\"\u001b[39;49m))\n\u001b[1;32m   2237\u001b[0m     \u001b[39m# If tzaware, these values represent unix timestamps, so we\u001b[39;00m\n\u001b[1;32m   2238\u001b[0m     \u001b[39m#  return them as i8 to distinguish from wall times\u001b[39;00m\n",
      "File \u001b[0;32m~/opt/anaconda3/envs/dev/lib/python3.10/site-packages/pandas/_libs/tslibs/conversion.pyx:360\u001b[0m, in \u001b[0;36mpandas._libs.tslibs.conversion.datetime_to_datetime64\u001b[0;34m()\u001b[0m\n",
      "\u001b[0;31mTypeError\u001b[0m: Unrecognized value type: <class 'str'>",
      "\nDuring handling of the above exception, another exception occurred:\n",
      "\u001b[0;31mParserError\u001b[0m                               Traceback (most recent call last)",
      "\u001b[1;32m/Users/ipreoteasa/Desktop/Io/blog/IoanaFio/content/project/twitter_sentiment_tracking/4. data_cleaning.ipynb Cell 21\u001b[0m in \u001b[0;36m<cell line: 1>\u001b[0;34m()\u001b[0m\n\u001b[0;32m----> <a href='vscode-notebook-cell:/Users/ipreoteasa/Desktop/Io/blog/IoanaFio/content/project/twitter_sentiment_tracking/4.%20data_cleaning.ipynb#X35sZmlsZQ%3D%3D?line=0'>1</a>\u001b[0m df[\u001b[39m'\u001b[39m\u001b[39mdatetime\u001b[39m\u001b[39m'\u001b[39m] \u001b[39m=\u001b[39m pd\u001b[39m.\u001b[39;49mto_datetime(df[\u001b[39m'\u001b[39;49m\u001b[39mdatetime\u001b[39;49m\u001b[39m'\u001b[39;49m])\n",
      "File \u001b[0;32m~/opt/anaconda3/envs/dev/lib/python3.10/site-packages/pandas/core/tools/datetimes.py:1051\u001b[0m, in \u001b[0;36mto_datetime\u001b[0;34m(arg, errors, dayfirst, yearfirst, utc, format, exact, unit, infer_datetime_format, origin, cache)\u001b[0m\n\u001b[1;32m   1049\u001b[0m         result \u001b[39m=\u001b[39m arg\u001b[39m.\u001b[39mmap(cache_array)\n\u001b[1;32m   1050\u001b[0m     \u001b[39melse\u001b[39;00m:\n\u001b[0;32m-> 1051\u001b[0m         values \u001b[39m=\u001b[39m convert_listlike(arg\u001b[39m.\u001b[39;49m_values, \u001b[39mformat\u001b[39;49m)\n\u001b[1;32m   1052\u001b[0m         result \u001b[39m=\u001b[39m arg\u001b[39m.\u001b[39m_constructor(values, index\u001b[39m=\u001b[39marg\u001b[39m.\u001b[39mindex, name\u001b[39m=\u001b[39marg\u001b[39m.\u001b[39mname)\n\u001b[1;32m   1053\u001b[0m \u001b[39melif\u001b[39;00m \u001b[39misinstance\u001b[39m(arg, (ABCDataFrame, abc\u001b[39m.\u001b[39mMutableMapping)):\n",
      "File \u001b[0;32m~/opt/anaconda3/envs/dev/lib/python3.10/site-packages/pandas/core/tools/datetimes.py:402\u001b[0m, in \u001b[0;36m_convert_listlike_datetimes\u001b[0;34m(arg, format, name, tz, unit, errors, infer_datetime_format, dayfirst, yearfirst, exact)\u001b[0m\n\u001b[1;32m    400\u001b[0m \u001b[39massert\u001b[39;00m \u001b[39mformat\u001b[39m \u001b[39mis\u001b[39;00m \u001b[39mNone\u001b[39;00m \u001b[39mor\u001b[39;00m infer_datetime_format\n\u001b[1;32m    401\u001b[0m utc \u001b[39m=\u001b[39m tz \u001b[39m==\u001b[39m \u001b[39m\"\u001b[39m\u001b[39mutc\u001b[39m\u001b[39m\"\u001b[39m\n\u001b[0;32m--> 402\u001b[0m result, tz_parsed \u001b[39m=\u001b[39m objects_to_datetime64ns(\n\u001b[1;32m    403\u001b[0m     arg,\n\u001b[1;32m    404\u001b[0m     dayfirst\u001b[39m=\u001b[39;49mdayfirst,\n\u001b[1;32m    405\u001b[0m     yearfirst\u001b[39m=\u001b[39;49myearfirst,\n\u001b[1;32m    406\u001b[0m     utc\u001b[39m=\u001b[39;49mutc,\n\u001b[1;32m    407\u001b[0m     errors\u001b[39m=\u001b[39;49merrors,\n\u001b[1;32m    408\u001b[0m     require_iso8601\u001b[39m=\u001b[39;49mrequire_iso8601,\n\u001b[1;32m    409\u001b[0m     allow_object\u001b[39m=\u001b[39;49m\u001b[39mTrue\u001b[39;49;00m,\n\u001b[1;32m    410\u001b[0m )\n\u001b[1;32m    412\u001b[0m \u001b[39mif\u001b[39;00m tz_parsed \u001b[39mis\u001b[39;00m \u001b[39mnot\u001b[39;00m \u001b[39mNone\u001b[39;00m:\n\u001b[1;32m    413\u001b[0m     \u001b[39m# We can take a shortcut since the datetime64 numpy array\u001b[39;00m\n\u001b[1;32m    414\u001b[0m     \u001b[39m# is in UTC\u001b[39;00m\n\u001b[1;32m    415\u001b[0m     dta \u001b[39m=\u001b[39m DatetimeArray(result, dtype\u001b[39m=\u001b[39mtz_to_dtype(tz_parsed))\n",
      "File \u001b[0;32m~/opt/anaconda3/envs/dev/lib/python3.10/site-packages/pandas/core/arrays/datetimes.py:2242\u001b[0m, in \u001b[0;36mobjects_to_datetime64ns\u001b[0;34m(data, dayfirst, yearfirst, utc, errors, require_iso8601, allow_object, allow_mixed)\u001b[0m\n\u001b[1;32m   2240\u001b[0m         \u001b[39mreturn\u001b[39;00m values\u001b[39m.\u001b[39mview(\u001b[39m\"\u001b[39m\u001b[39mi8\u001b[39m\u001b[39m\"\u001b[39m), tz_parsed\n\u001b[1;32m   2241\u001b[0m     \u001b[39mexcept\u001b[39;00m (\u001b[39mValueError\u001b[39;00m, \u001b[39mTypeError\u001b[39;00m):\n\u001b[0;32m-> 2242\u001b[0m         \u001b[39mraise\u001b[39;00m err\n\u001b[1;32m   2244\u001b[0m \u001b[39mif\u001b[39;00m tz_parsed \u001b[39mis\u001b[39;00m \u001b[39mnot\u001b[39;00m \u001b[39mNone\u001b[39;00m:\n\u001b[1;32m   2245\u001b[0m     \u001b[39m# We can take a shortcut since the datetime64 numpy array\u001b[39;00m\n\u001b[1;32m   2246\u001b[0m     \u001b[39m#  is in UTC\u001b[39;00m\n\u001b[1;32m   2247\u001b[0m     \u001b[39m# Return i8 values to denote unix timestamps\u001b[39;00m\n\u001b[1;32m   2248\u001b[0m     \u001b[39mreturn\u001b[39;00m result\u001b[39m.\u001b[39mview(\u001b[39m\"\u001b[39m\u001b[39mi8\u001b[39m\u001b[39m\"\u001b[39m), tz_parsed\n",
      "File \u001b[0;32m~/opt/anaconda3/envs/dev/lib/python3.10/site-packages/pandas/core/arrays/datetimes.py:2224\u001b[0m, in \u001b[0;36mobjects_to_datetime64ns\u001b[0;34m(data, dayfirst, yearfirst, utc, errors, require_iso8601, allow_object, allow_mixed)\u001b[0m\n\u001b[1;32m   2222\u001b[0m order: Literal[\u001b[39m\"\u001b[39m\u001b[39mF\u001b[39m\u001b[39m\"\u001b[39m, \u001b[39m\"\u001b[39m\u001b[39mC\u001b[39m\u001b[39m\"\u001b[39m] \u001b[39m=\u001b[39m \u001b[39m\"\u001b[39m\u001b[39mF\u001b[39m\u001b[39m\"\u001b[39m \u001b[39mif\u001b[39;00m flags\u001b[39m.\u001b[39mf_contiguous \u001b[39melse\u001b[39;00m \u001b[39m\"\u001b[39m\u001b[39mC\u001b[39m\u001b[39m\"\u001b[39m\n\u001b[1;32m   2223\u001b[0m \u001b[39mtry\u001b[39;00m:\n\u001b[0;32m-> 2224\u001b[0m     result, tz_parsed \u001b[39m=\u001b[39m tslib\u001b[39m.\u001b[39;49marray_to_datetime(\n\u001b[1;32m   2225\u001b[0m         data\u001b[39m.\u001b[39;49mravel(\u001b[39m\"\u001b[39;49m\u001b[39mK\u001b[39;49m\u001b[39m\"\u001b[39;49m),\n\u001b[1;32m   2226\u001b[0m         errors\u001b[39m=\u001b[39;49merrors,\n\u001b[1;32m   2227\u001b[0m         utc\u001b[39m=\u001b[39;49mutc,\n\u001b[1;32m   2228\u001b[0m         dayfirst\u001b[39m=\u001b[39;49mdayfirst,\n\u001b[1;32m   2229\u001b[0m         yearfirst\u001b[39m=\u001b[39;49myearfirst,\n\u001b[1;32m   2230\u001b[0m         require_iso8601\u001b[39m=\u001b[39;49mrequire_iso8601,\n\u001b[1;32m   2231\u001b[0m         allow_mixed\u001b[39m=\u001b[39;49mallow_mixed,\n\u001b[1;32m   2232\u001b[0m     )\n\u001b[1;32m   2233\u001b[0m     result \u001b[39m=\u001b[39m result\u001b[39m.\u001b[39mreshape(data\u001b[39m.\u001b[39mshape, order\u001b[39m=\u001b[39morder)\n\u001b[1;32m   2234\u001b[0m \u001b[39mexcept\u001b[39;00m \u001b[39mValueError\u001b[39;00m \u001b[39mas\u001b[39;00m err:\n",
      "File \u001b[0;32m~/opt/anaconda3/envs/dev/lib/python3.10/site-packages/pandas/_libs/tslib.pyx:381\u001b[0m, in \u001b[0;36mpandas._libs.tslib.array_to_datetime\u001b[0;34m()\u001b[0m\n",
      "File \u001b[0;32m~/opt/anaconda3/envs/dev/lib/python3.10/site-packages/pandas/_libs/tslib.pyx:613\u001b[0m, in \u001b[0;36mpandas._libs.tslib.array_to_datetime\u001b[0;34m()\u001b[0m\n",
      "File \u001b[0;32m~/opt/anaconda3/envs/dev/lib/python3.10/site-packages/pandas/_libs/tslib.pyx:751\u001b[0m, in \u001b[0;36mpandas._libs.tslib._array_to_datetime_object\u001b[0;34m()\u001b[0m\n",
      "File \u001b[0;32m~/opt/anaconda3/envs/dev/lib/python3.10/site-packages/pandas/_libs/tslib.pyx:742\u001b[0m, in \u001b[0;36mpandas._libs.tslib._array_to_datetime_object\u001b[0;34m()\u001b[0m\n",
      "File \u001b[0;32m~/opt/anaconda3/envs/dev/lib/python3.10/site-packages/pandas/_libs/tslibs/parsing.pyx:281\u001b[0m, in \u001b[0;36mpandas._libs.tslibs.parsing.parse_datetime_string\u001b[0;34m()\u001b[0m\n",
      "File \u001b[0;32m~/opt/anaconda3/envs/dev/lib/python3.10/site-packages/dateutil/parser/_parser.py:1368\u001b[0m, in \u001b[0;36mparse\u001b[0;34m(timestr, parserinfo, **kwargs)\u001b[0m\n\u001b[1;32m   1366\u001b[0m     \u001b[39mreturn\u001b[39;00m parser(parserinfo)\u001b[39m.\u001b[39mparse(timestr, \u001b[39m*\u001b[39m\u001b[39m*\u001b[39mkwargs)\n\u001b[1;32m   1367\u001b[0m \u001b[39melse\u001b[39;00m:\n\u001b[0;32m-> 1368\u001b[0m     \u001b[39mreturn\u001b[39;00m DEFAULTPARSER\u001b[39m.\u001b[39;49mparse(timestr, \u001b[39m*\u001b[39;49m\u001b[39m*\u001b[39;49mkwargs)\n",
      "File \u001b[0;32m~/opt/anaconda3/envs/dev/lib/python3.10/site-packages/dateutil/parser/_parser.py:643\u001b[0m, in \u001b[0;36mparser.parse\u001b[0;34m(self, timestr, default, ignoretz, tzinfos, **kwargs)\u001b[0m\n\u001b[1;32m    640\u001b[0m res, skipped_tokens \u001b[39m=\u001b[39m \u001b[39mself\u001b[39m\u001b[39m.\u001b[39m_parse(timestr, \u001b[39m*\u001b[39m\u001b[39m*\u001b[39mkwargs)\n\u001b[1;32m    642\u001b[0m \u001b[39mif\u001b[39;00m res \u001b[39mis\u001b[39;00m \u001b[39mNone\u001b[39;00m:\n\u001b[0;32m--> 643\u001b[0m     \u001b[39mraise\u001b[39;00m ParserError(\u001b[39m\"\u001b[39m\u001b[39mUnknown string format: \u001b[39m\u001b[39m%s\u001b[39;00m\u001b[39m\"\u001b[39m, timestr)\n\u001b[1;32m    645\u001b[0m \u001b[39mif\u001b[39;00m \u001b[39mlen\u001b[39m(res) \u001b[39m==\u001b[39m \u001b[39m0\u001b[39m:\n\u001b[1;32m    646\u001b[0m     \u001b[39mraise\u001b[39;00m ParserError(\u001b[39m\"\u001b[39m\u001b[39mString does not contain a date: \u001b[39m\u001b[39m%s\u001b[39;00m\u001b[39m\"\u001b[39m, timestr)\n",
      "\u001b[0;31mParserError\u001b[0m: Unknown string format: []"
     ]
    }
   ],
   "source": [
    "df['datetime'] = pd.to_datetime(df['datetime'])\n"
   ]
  },
  {
   "cell_type": "markdown",
   "metadata": {},
   "source": [
    "<a id=categ ><a/> \n",
    "\n",
    "## 3. Cleaning categorical data\n",
    "   \n",
    "[LINK to table of contents](#contents)"
   ]
  },
  {
   "cell_type": "code",
   "execution_count": null,
   "metadata": {},
   "outputs": [],
   "source": []
  },
  {
   "cell_type": "markdown",
   "metadata": {},
   "source": [
    "<a id=text ><a/> \n",
    "\n",
    "## 4. Cleaning text data\n",
    "    \n",
    "[LINK to table of contents](#contents)"
   ]
  },
  {
   "cell_type": "code",
   "execution_count": null,
   "metadata": {},
   "outputs": [],
   "source": []
  },
  {
   "cell_type": "code",
   "execution_count": null,
   "metadata": {},
   "outputs": [],
   "source": []
  }
 ],
 "metadata": {
  "kernelspec": {
   "display_name": "Python 3.10.6 ('dev')",
   "language": "python",
   "name": "python3"
  },
  "language_info": {
   "codemirror_mode": {
    "name": "ipython",
    "version": 3
   },
   "file_extension": ".py",
   "mimetype": "text/x-python",
   "name": "python",
   "nbconvert_exporter": "python",
   "pygments_lexer": "ipython3",
   "version": "3.10.6"
  },
  "vscode": {
   "interpreter": {
    "hash": "fb04db51b63f65a907d7a4e960cdba41b14668a694baecd878a6a03a98632cbd"
   }
  }
 },
 "nbformat": 4,
 "nbformat_minor": 4
}
