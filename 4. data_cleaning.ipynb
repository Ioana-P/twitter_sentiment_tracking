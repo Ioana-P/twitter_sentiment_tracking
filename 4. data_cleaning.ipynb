{
 "cells": [
  {
   "cell_type": "markdown",
   "metadata": {},
   "source": [
    "<a id=contents></a>\n",
    "\n",
    "# Cleaning notebook\n",
    "## How I processed the data\n",
    "\n",
    "Much of the cleaning and preprocessing takes place inside the `fn.clean_tweet_text()` function. \n",
    "\n",
    "\n",
    "[1. Data Inspection](#insp)\n",
    "\n",
    "[2. Preparing data for topic modelling](#numerical)\n"
   ]
  },
  {
   "cell_type": "code",
   "execution_count": 3,
   "metadata": {},
   "outputs": [
    {
     "name": "stderr",
     "output_type": "stream",
     "text": [
      "/Users/ipreoteasa/opt/anaconda3/envs/dev/lib/python3.10/site-packages/past/builtins/misc.py:45: DeprecationWarning: the imp module is deprecated in favour of importlib and slated for removal in Python 3.12; see the module's documentation for alternative uses\n",
      "  from imp import reload\n"
     ]
    }
   ],
   "source": [
    "%load_ext autoreload\n",
    "%autoreload 2 \n",
    "\n",
    "import pandas as pd\n",
    "import numpy as n\n",
    "from pathlib import Path\n",
    "\n",
    "import functions.functions as fn\n",
    "import functions.nlp_eda as nlp\n"
   ]
  },
  {
   "cell_type": "markdown",
   "metadata": {},
   "source": [
    "<a id=insp ><a/> \n",
    "\n",
    "## 1. Data Inspection\n",
    "    \n",
    "[LINK to table of contents](#contents)"
   ]
  },
  {
   "cell_type": "code",
   "execution_count": 2,
   "metadata": {},
   "outputs": [],
   "source": [
    "# 4-5 min to run\n",
    "raw_path = Path('data/raw')\n",
    "clean, cvt = fn.clean_tweet_text(raw_path)"
   ]
  },
  {
   "cell_type": "code",
   "execution_count": 108,
   "metadata": {},
   "outputs": [
    {
     "data": {
      "text/plain": [
       "elonmusk          1000\n",
       "_mintydoge        1000\n",
       "Kasparov63        1000\n",
       "skorusARK         1000\n",
       "SPACEdotcom       1000\n",
       "                  ... \n",
       "realAdrianDa32     123\n",
       "NASAEarthMars       96\n",
       "boringcompany       96\n",
       "muskQu0tes          61\n",
       "CChomp13            38\n",
       "Name: display_name, Length: 281, dtype: int64"
      ]
     },
     "execution_count": 108,
     "metadata": {},
     "output_type": "execute_result"
    }
   ],
   "source": [
    "# inspecting these values\n",
    "clean.display_name.value_counts()"
   ]
  },
  {
   "cell_type": "code",
   "execution_count": 4,
   "metadata": {},
   "outputs": [],
   "source": [
    "# clean.to_csv('data/clean/clean_data.csv')"
   ]
  },
  {
   "cell_type": "code",
   "execution_count": 9,
   "metadata": {},
   "outputs": [],
   "source": [
    "# now selecting those parts of the data that might only be used only classification, i.e. the vectorized columns\n",
    "cols  =list(clean.columns)\n",
    "start_cvt_feats = cols.index('clean_tweet_text')+1\n",
    "cvt_cols  = clean.columns[start_cvt_feats:]\n",
    "cvt_cols= cvt_cols.insert(0, 'tweet_id')\n",
    "feats_df = clean[cvt_cols]\n",
    "feats_df.to_csv('data/clean/features/count_vect_feats.csv')"
   ]
  },
  {
   "cell_type": "code",
   "execution_count": 10,
   "metadata": {},
   "outputs": [
    {
     "name": "stdout",
     "output_type": "stream",
     "text": [
      "<class 'pandas.core.frame.DataFrame'>\n",
      "Int64Index: 265516 entries, 0 to 265515\n",
      "Columns: 281 entries, Unnamed: 0 to youre\n",
      "dtypes: int64(273), object(8)\n",
      "memory usage: 579.3+ MB\n"
     ]
    }
   ],
   "source": [
    "clean.info()"
   ]
  },
  {
   "cell_type": "code",
   "execution_count": 13,
   "metadata": {},
   "outputs": [],
   "source": [
    "clean['datetime'] = pd.to_datetime(clean['datetime'])"
   ]
  },
  {
   "cell_type": "code",
   "execution_count": 14,
   "metadata": {},
   "outputs": [
    {
     "name": "stderr",
     "output_type": "stream",
     "text": [
      "/var/folders/z8/91655qv97wdf50fs2d98cnfc0000gp/T/ipykernel_63039/296102380.py:4: SettingWithCopyWarning: \n",
      "A value is trying to be set on a copy of a slice from a DataFrame.\n",
      "Try using .loc[row_indexer,col_indexer] = value instead\n",
      "\n",
      "See the caveats in the documentation: https://pandas.pydata.org/pandas-docs/stable/user_guide/indexing.html#returning-a-view-versus-a-copy\n",
      "  clean_display['datetime']  = pd.to_datetime(clean_display['datetime'], errors='coerce')\n",
      "/var/folders/z8/91655qv97wdf50fs2d98cnfc0000gp/T/ipykernel_63039/296102380.py:6: SettingWithCopyWarning: \n",
      "A value is trying to be set on a copy of a slice from a DataFrame.\n",
      "Try using .loc[row_indexer,col_indexer] = value instead\n",
      "\n",
      "See the caveats in the documentation: https://pandas.pydata.org/pandas-docs/stable/user_guide/indexing.html#returning-a-view-versus-a-copy\n",
      "  clean_display['Before_or_after_controversy'] = clean_display['datetime'].apply(lambda x : fn.is_it_before_or_after(x, cutoff_date))\n"
     ]
    },
    {
     "data": {
      "text/html": [
       "<div>\n",
       "<style scoped>\n",
       "    .dataframe tbody tr th:only-of-type {\n",
       "        vertical-align: middle;\n",
       "    }\n",
       "\n",
       "    .dataframe tbody tr th {\n",
       "        vertical-align: top;\n",
       "    }\n",
       "\n",
       "    .dataframe thead th {\n",
       "        text-align: right;\n",
       "    }\n",
       "</style>\n",
       "<table border=\"1\" class=\"dataframe\">\n",
       "  <thead>\n",
       "    <tr style=\"text-align: right;\">\n",
       "      <th></th>\n",
       "      <th>tweet_id</th>\n",
       "      <th>datetime</th>\n",
       "      <th>display_name</th>\n",
       "      <th>tweet_text</th>\n",
       "      <th>User_id</th>\n",
       "      <th>#likes</th>\n",
       "      <th>#retweets</th>\n",
       "      <th>#responses</th>\n",
       "      <th>language</th>\n",
       "      <th>extracted_twitter_handles</th>\n",
       "      <th>extracted_URLs</th>\n",
       "      <th>extracted_hashtags</th>\n",
       "      <th>clean_tweet_text</th>\n",
       "      <th>Before_or_after_controversy</th>\n",
       "    </tr>\n",
       "  </thead>\n",
       "  <tbody>\n",
       "    <tr>\n",
       "      <th>0</th>\n",
       "      <td>1580612226129760257</td>\n",
       "      <td>2022-10-13 17:31:35+00:00</td>\n",
       "      <td>elonmusk</td>\n",
       "      <td>@BogusThought srsly</td>\n",
       "      <td>44196397</td>\n",
       "      <td>350</td>\n",
       "      <td>23</td>\n",
       "      <td>82</td>\n",
       "      <td>en</td>\n",
       "      <td>[@BogusThought]</td>\n",
       "      <td>[]</td>\n",
       "      <td>[]</td>\n",
       "      <td>srsly</td>\n",
       "      <td>After</td>\n",
       "    </tr>\n",
       "    <tr>\n",
       "      <th>1</th>\n",
       "      <td>1580602654966788096</td>\n",
       "      <td>2022-10-13 16:53:33+00:00</td>\n",
       "      <td>elonmusk</td>\n",
       "      <td>@teslaownersSV @JohnnaCrider1 Next week</td>\n",
       "      <td>44196397</td>\n",
       "      <td>1232</td>\n",
       "      <td>83</td>\n",
       "      <td>204</td>\n",
       "      <td>en</td>\n",
       "      <td>[@teslaownersSV, @JohnnaCrider1]</td>\n",
       "      <td>[]</td>\n",
       "      <td>[]</td>\n",
       "      <td>Next week</td>\n",
       "      <td>After</td>\n",
       "    </tr>\n",
       "    <tr>\n",
       "      <th>2</th>\n",
       "      <td>1580601578310230016</td>\n",
       "      <td>2022-10-13 16:49:17+00:00</td>\n",
       "      <td>elonmusk</td>\n",
       "      <td>@JohnnaCrider1 Envy has driven him to madness</td>\n",
       "      <td>44196397</td>\n",
       "      <td>5344</td>\n",
       "      <td>292</td>\n",
       "      <td>448</td>\n",
       "      <td>en</td>\n",
       "      <td>[@JohnnaCrider1]</td>\n",
       "      <td>[]</td>\n",
       "      <td>[]</td>\n",
       "      <td>Envy has driven him to madness</td>\n",
       "      <td>After</td>\n",
       "    </tr>\n",
       "    <tr>\n",
       "      <th>3</th>\n",
       "      <td>1580600379074523136</td>\n",
       "      <td>2022-10-13 16:44:31+00:00</td>\n",
       "      <td>elonmusk</td>\n",
       "      <td>@leehumerian Starlink requires nothing except ...</td>\n",
       "      <td>44196397</td>\n",
       "      <td>643</td>\n",
       "      <td>74</td>\n",
       "      <td>78</td>\n",
       "      <td>en</td>\n",
       "      <td>[@leehumerian]</td>\n",
       "      <td>[]</td>\n",
       "      <td>[]</td>\n",
       "      <td>Starlink requires nothing except 50 Watt power...</td>\n",
       "      <td>After</td>\n",
       "    </tr>\n",
       "    <tr>\n",
       "      <th>4</th>\n",
       "      <td>1580597894205145106</td>\n",
       "      <td>2022-10-13 16:34:38+00:00</td>\n",
       "      <td>elonmusk</td>\n",
       "      <td>@OwenSparks_ @spideycyp_155 @FedorovMykhailo @...</td>\n",
       "      <td>44196397</td>\n",
       "      <td>651</td>\n",
       "      <td>28</td>\n",
       "      <td>89</td>\n",
       "      <td>en</td>\n",
       "      <td>[@OwenSparks_, @spideycyp_155, @FedorovMykhail...</td>\n",
       "      <td>[]</td>\n",
       "      <td>[]</td>\n",
       "      <td>True</td>\n",
       "      <td>After</td>\n",
       "    </tr>\n",
       "    <tr>\n",
       "      <th>...</th>\n",
       "      <td>...</td>\n",
       "      <td>...</td>\n",
       "      <td>...</td>\n",
       "      <td>...</td>\n",
       "      <td>...</td>\n",
       "      <td>...</td>\n",
       "      <td>...</td>\n",
       "      <td>...</td>\n",
       "      <td>...</td>\n",
       "      <td>...</td>\n",
       "      <td>...</td>\n",
       "      <td>...</td>\n",
       "      <td>...</td>\n",
       "      <td>...</td>\n",
       "    </tr>\n",
       "    <tr>\n",
       "      <th>265511</th>\n",
       "      <td>1568467099424817153</td>\n",
       "      <td>2022-09-10 05:11:11+00:00</td>\n",
       "      <td>Techmeme</td>\n",
       "      <td>In a letter to Twitter, Musk's legal team cite...</td>\n",
       "      <td>817386</td>\n",
       "      <td>13</td>\n",
       "      <td>4</td>\n",
       "      <td>0</td>\n",
       "      <td>en</td>\n",
       "      <td>[]</td>\n",
       "      <td>[https://t.co/MSxiQL6Ge5, https://t.co/1YQgE1W...</td>\n",
       "      <td>[]</td>\n",
       "      <td>In a letter to Twitter Musks legal team cited ...</td>\n",
       "      <td>Before</td>\n",
       "    </tr>\n",
       "    <tr>\n",
       "      <th>265512</th>\n",
       "      <td>1568447030653231104</td>\n",
       "      <td>2022-09-10 03:51:27+00:00</td>\n",
       "      <td>Techmeme</td>\n",
       "      <td>NYC-based Regal, an outbound call and text mes...</td>\n",
       "      <td>817386</td>\n",
       "      <td>8</td>\n",
       "      <td>1</td>\n",
       "      <td>0</td>\n",
       "      <td>en</td>\n",
       "      <td>[@kyle_l_wiggers]</td>\n",
       "      <td>[https://t.co/mawhtNK9RQ, https://t.co/dfsK7lh...</td>\n",
       "      <td>[]</td>\n",
       "      <td>NYCbased Regal an outbound call and text messa...</td>\n",
       "      <td>Before</td>\n",
       "    </tr>\n",
       "    <tr>\n",
       "      <th>265513</th>\n",
       "      <td>1568441962365321218</td>\n",
       "      <td>2022-09-10 03:31:18+00:00</td>\n",
       "      <td>Techmeme</td>\n",
       "      <td>Middle Eastern on-demand trucking platform Tru...</td>\n",
       "      <td>817386</td>\n",
       "      <td>9</td>\n",
       "      <td>4</td>\n",
       "      <td>1</td>\n",
       "      <td>en</td>\n",
       "      <td>[@mattmartin128]</td>\n",
       "      <td>[https://t.co/SvLwbmxpI4, https://t.co/A9R3D3j...</td>\n",
       "      <td>[]</td>\n",
       "      <td>Middle Eastern ondemand trucking platform TruK...</td>\n",
       "      <td>Before</td>\n",
       "    </tr>\n",
       "    <tr>\n",
       "      <th>265514</th>\n",
       "      <td>1568430660725141504</td>\n",
       "      <td>2022-09-10 02:46:24+00:00</td>\n",
       "      <td>Techmeme</td>\n",
       "      <td>One-click checkout service Bolt is no longer b...</td>\n",
       "      <td>817386</td>\n",
       "      <td>4</td>\n",
       "      <td>3</td>\n",
       "      <td>0</td>\n",
       "      <td>en</td>\n",
       "      <td>[]</td>\n",
       "      <td>[https://t.co/NUZaiQkNUr, https://t.co/pkMJyRY...</td>\n",
       "      <td>[]</td>\n",
       "      <td>Oneclick checkout service Bolt is no longer bu...</td>\n",
       "      <td>Before</td>\n",
       "    </tr>\n",
       "    <tr>\n",
       "      <th>265515</th>\n",
       "      <td>1568421834013683713</td>\n",
       "      <td>2022-09-10 02:11:19+00:00</td>\n",
       "      <td>Techmeme</td>\n",
       "      <td>How Wikipedia's editors worked after Queen Eli...</td>\n",
       "      <td>817386</td>\n",
       "      <td>7</td>\n",
       "      <td>4</td>\n",
       "      <td>1</td>\n",
       "      <td>en</td>\n",
       "      <td>[@blkahn]</td>\n",
       "      <td>[https://t.co/PAOuxxsp09, https://t.co/gIMmoCE...</td>\n",
       "      <td>[]</td>\n",
       "      <td>How Wikipedias editors worked after Queen Eliz...</td>\n",
       "      <td>Before</td>\n",
       "    </tr>\n",
       "  </tbody>\n",
       "</table>\n",
       "<p>265516 rows × 14 columns</p>\n",
       "</div>"
      ],
      "text/plain": [
       "                   tweet_id                  datetime display_name  \\\n",
       "0       1580612226129760257 2022-10-13 17:31:35+00:00     elonmusk   \n",
       "1       1580602654966788096 2022-10-13 16:53:33+00:00     elonmusk   \n",
       "2       1580601578310230016 2022-10-13 16:49:17+00:00     elonmusk   \n",
       "3       1580600379074523136 2022-10-13 16:44:31+00:00     elonmusk   \n",
       "4       1580597894205145106 2022-10-13 16:34:38+00:00     elonmusk   \n",
       "...                     ...                       ...          ...   \n",
       "265511  1568467099424817153 2022-09-10 05:11:11+00:00     Techmeme   \n",
       "265512  1568447030653231104 2022-09-10 03:51:27+00:00     Techmeme   \n",
       "265513  1568441962365321218 2022-09-10 03:31:18+00:00     Techmeme   \n",
       "265514  1568430660725141504 2022-09-10 02:46:24+00:00     Techmeme   \n",
       "265515  1568421834013683713 2022-09-10 02:11:19+00:00     Techmeme   \n",
       "\n",
       "                                               tweet_text   User_id  #likes  \\\n",
       "0                                     @BogusThought srsly  44196397     350   \n",
       "1                 @teslaownersSV @JohnnaCrider1 Next week  44196397    1232   \n",
       "2           @JohnnaCrider1 Envy has driven him to madness  44196397    5344   \n",
       "3       @leehumerian Starlink requires nothing except ...  44196397     643   \n",
       "4       @OwenSparks_ @spideycyp_155 @FedorovMykhailo @...  44196397     651   \n",
       "...                                                   ...       ...     ...   \n",
       "265511  In a letter to Twitter, Musk's legal team cite...    817386      13   \n",
       "265512  NYC-based Regal, an outbound call and text mes...    817386       8   \n",
       "265513  Middle Eastern on-demand trucking platform Tru...    817386       9   \n",
       "265514  One-click checkout service Bolt is no longer b...    817386       4   \n",
       "265515  How Wikipedia's editors worked after Queen Eli...    817386       7   \n",
       "\n",
       "        #retweets  #responses language  \\\n",
       "0              23          82       en   \n",
       "1              83         204       en   \n",
       "2             292         448       en   \n",
       "3              74          78       en   \n",
       "4              28          89       en   \n",
       "...           ...         ...      ...   \n",
       "265511          4           0       en   \n",
       "265512          1           0       en   \n",
       "265513          4           1       en   \n",
       "265514          3           0       en   \n",
       "265515          4           1       en   \n",
       "\n",
       "                                extracted_twitter_handles  \\\n",
       "0                                         [@BogusThought]   \n",
       "1                        [@teslaownersSV, @JohnnaCrider1]   \n",
       "2                                        [@JohnnaCrider1]   \n",
       "3                                          [@leehumerian]   \n",
       "4       [@OwenSparks_, @spideycyp_155, @FedorovMykhail...   \n",
       "...                                                   ...   \n",
       "265511                                                 []   \n",
       "265512                                  [@kyle_l_wiggers]   \n",
       "265513                                   [@mattmartin128]   \n",
       "265514                                                 []   \n",
       "265515                                          [@blkahn]   \n",
       "\n",
       "                                           extracted_URLs extracted_hashtags  \\\n",
       "0                                                      []                 []   \n",
       "1                                                      []                 []   \n",
       "2                                                      []                 []   \n",
       "3                                                      []                 []   \n",
       "4                                                      []                 []   \n",
       "...                                                   ...                ...   \n",
       "265511  [https://t.co/MSxiQL6Ge5, https://t.co/1YQgE1W...                 []   \n",
       "265512  [https://t.co/mawhtNK9RQ, https://t.co/dfsK7lh...                 []   \n",
       "265513  [https://t.co/SvLwbmxpI4, https://t.co/A9R3D3j...                 []   \n",
       "265514  [https://t.co/NUZaiQkNUr, https://t.co/pkMJyRY...                 []   \n",
       "265515  [https://t.co/PAOuxxsp09, https://t.co/gIMmoCE...                 []   \n",
       "\n",
       "                                         clean_tweet_text  \\\n",
       "0                                                   srsly   \n",
       "1                                               Next week   \n",
       "2                          Envy has driven him to madness   \n",
       "3       Starlink requires nothing except 50 Watt power...   \n",
       "4                                                    True   \n",
       "...                                                   ...   \n",
       "265511  In a letter to Twitter Musks legal team cited ...   \n",
       "265512  NYCbased Regal an outbound call and text messa...   \n",
       "265513  Middle Eastern ondemand trucking platform TruK...   \n",
       "265514  Oneclick checkout service Bolt is no longer bu...   \n",
       "265515  How Wikipedias editors worked after Queen Eliz...   \n",
       "\n",
       "       Before_or_after_controversy  \n",
       "0                            After  \n",
       "1                            After  \n",
       "2                            After  \n",
       "3                            After  \n",
       "4                            After  \n",
       "...                            ...  \n",
       "265511                      Before  \n",
       "265512                      Before  \n",
       "265513                      Before  \n",
       "265514                      Before  \n",
       "265515                      Before  \n",
       "\n",
       "[265516 rows x 14 columns]"
      ]
     },
     "execution_count": 14,
     "metadata": {},
     "output_type": "execute_result"
    }
   ],
   "source": [
    "clean_display = clean[cols[1:start_cvt_feats]]\n",
    "cutoff_date = pd.to_datetime('2022-10-03 16:15:43+00:00')\n",
    "\n",
    "clean_display['datetime']  = pd.to_datetime(clean_display['datetime'], errors='coerce')\n",
    "# now adding a filter column: stating whether a date is before or after this tweet. \n",
    "clean_display['Before_or_after_controversy'] = clean_display['datetime'].apply(lambda x : fn.is_it_before_or_after(x, cutoff_date))\n",
    "\n",
    "clean_display\n"
   ]
  },
  {
   "cell_type": "code",
   "execution_count": 3,
   "metadata": {},
   "outputs": [
    {
     "name": "stderr",
     "output_type": "stream",
     "text": [
      "/var/folders/z8/91655qv97wdf50fs2d98cnfc0000gp/T/ipykernel_92282/3650242347.py:2: DtypeWarning: Columns (0,1) have mixed types. Specify dtype option on import or set low_memory=False.\n",
      "  clean_display= pd.read_csv('data/clean/clean_display_data.csv')\n"
     ]
    }
   ],
   "source": [
    "\n",
    "# clean_display.to_csv('data/clean/clean_display_data.csv')\n",
    "clean_display= pd.read_csv('data/clean/clean_display_data.csv')"
   ]
  },
  {
   "cell_type": "code",
   "execution_count": 15,
   "metadata": {},
   "outputs": [
    {
     "data": {
      "text/html": [
       "<div>\n",
       "<style scoped>\n",
       "    .dataframe tbody tr th:only-of-type {\n",
       "        vertical-align: middle;\n",
       "    }\n",
       "\n",
       "    .dataframe tbody tr th {\n",
       "        vertical-align: top;\n",
       "    }\n",
       "\n",
       "    .dataframe thead th {\n",
       "        text-align: right;\n",
       "    }\n",
       "</style>\n",
       "<table border=\"1\" class=\"dataframe\">\n",
       "  <thead>\n",
       "    <tr style=\"text-align: right;\">\n",
       "      <th></th>\n",
       "      <th>tweet_id</th>\n",
       "      <th>datetime</th>\n",
       "      <th>display_name</th>\n",
       "      <th>tweet_text</th>\n",
       "      <th>User_id</th>\n",
       "      <th>#likes</th>\n",
       "      <th>#retweets</th>\n",
       "      <th>#responses</th>\n",
       "      <th>language</th>\n",
       "      <th>extracted_twitter_handles</th>\n",
       "      <th>extracted_URLs</th>\n",
       "      <th>extracted_hashtags</th>\n",
       "      <th>clean_tweet_text</th>\n",
       "      <th>Before_or_after_controversy</th>\n",
       "    </tr>\n",
       "  </thead>\n",
       "  <tbody>\n",
       "    <tr>\n",
       "      <th>0</th>\n",
       "      <td>1580612226129760257</td>\n",
       "      <td>2022-10-13 17:31:35+00:00</td>\n",
       "      <td>elonmusk</td>\n",
       "      <td>@BogusThought srsly</td>\n",
       "      <td>44196397</td>\n",
       "      <td>350</td>\n",
       "      <td>23</td>\n",
       "      <td>82</td>\n",
       "      <td>en</td>\n",
       "      <td>[@BogusThought]</td>\n",
       "      <td>[]</td>\n",
       "      <td>[]</td>\n",
       "      <td>srsly</td>\n",
       "      <td>After</td>\n",
       "    </tr>\n",
       "  </tbody>\n",
       "</table>\n",
       "</div>"
      ],
      "text/plain": [
       "              tweet_id                  datetime display_name  \\\n",
       "0  1580612226129760257 2022-10-13 17:31:35+00:00     elonmusk   \n",
       "\n",
       "            tweet_text   User_id  #likes  #retweets  #responses language  \\\n",
       "0  @BogusThought srsly  44196397     350         23          82       en   \n",
       "\n",
       "  extracted_twitter_handles extracted_URLs extracted_hashtags  \\\n",
       "0           [@BogusThought]             []                 []   \n",
       "\n",
       "  clean_tweet_text Before_or_after_controversy  \n",
       "0            srsly                       After  "
      ]
     },
     "execution_count": 15,
     "metadata": {},
     "output_type": "execute_result"
    }
   ],
   "source": [
    "clean_display.head(1)"
   ]
  },
  {
   "cell_type": "code",
   "execution_count": 4,
   "metadata": {},
   "outputs": [],
   "source": []
  },
  {
   "cell_type": "code",
   "execution_count": 10,
   "metadata": {},
   "outputs": [
    {
     "name": "stdout",
     "output_type": "stream",
     "text": [
      "<class 'pandas.core.frame.DataFrame'>\n",
      "Int64Index: 26808 entries, 1052 to 999\n",
      "Data columns (total 16 columns):\n",
      " #   Column                       Non-Null Count  Dtype  \n",
      "---  ------                       --------------  -----  \n",
      " 0   Unnamed: 0                   26808 non-null  object \n",
      " 1   tweet_id                     26808 non-null  object \n",
      " 2   datetime                     26808 non-null  object \n",
      " 3   display_name                 26808 non-null  object \n",
      " 4   tweet_text                   26808 non-null  object \n",
      " 5   User_id                      26808 non-null  float64\n",
      " 6   #likes                       26808 non-null  float64\n",
      " 7   #retweets                    26808 non-null  float64\n",
      " 8   #responses                   26808 non-null  float64\n",
      " 9   language                     26808 non-null  object \n",
      " 10  extracted_twitter_handles    26808 non-null  object \n",
      " 11  extracted_URLs               26808 non-null  object \n",
      " 12  extracted_hashtags           26808 non-null  object \n",
      " 13  clean_tweet_text             26808 non-null  object \n",
      " 14  Before_or_after_controversy  26806 non-null  object \n",
      " 15  By_or_at_Musk                26808 non-null  object \n",
      "dtypes: float64(4), object(12)\n",
      "memory usage: 3.5+ MB\n"
     ]
    },
    {
     "name": "stderr",
     "output_type": "stream",
     "text": [
      "/var/folders/z8/91655qv97wdf50fs2d98cnfc0000gp/T/ipykernel_92282/3041001392.py:7: SettingWithCopyWarning: \n",
      "A value is trying to be set on a copy of a slice from a DataFrame.\n",
      "Try using .loc[row_indexer,col_indexer] = value instead\n",
      "\n",
      "See the caveats in the documentation: https://pandas.pydata.org/pandas-docs/stable/user_guide/indexing.html#returning-a-view-versus-a-copy\n",
      "  mention_musk['By_or_at_Musk'] = 'Mentions @elonmusk'\n",
      "/var/folders/z8/91655qv97wdf50fs2d98cnfc0000gp/T/ipykernel_92282/3041001392.py:8: SettingWithCopyWarning: \n",
      "A value is trying to be set on a copy of a slice from a DataFrame.\n",
      "Try using .loc[row_indexer,col_indexer] = value instead\n",
      "\n",
      "See the caveats in the documentation: https://pandas.pydata.org/pandas-docs/stable/user_guide/indexing.html#returning-a-view-versus-a-copy\n",
      "  musk_post['By_or_at_Musk'] = 'By @elonmusk'\n"
     ]
    }
   ],
   "source": [
    "# adding a feature now for whether the tweet mentions musk or is by him, to make it easier to separate\n",
    "# categories later on, esp for visualization\n",
    "\n",
    "mention_musk = clean_display.loc[clean_display.extracted_twitter_handles.apply(lambda x : '@elonmusk' in x if pd.isnull(x)==False else False)] \n",
    "musk_post = clean_display.loc[clean_display.display_name=='elonmusk']\n",
    "\n",
    "mention_musk['By_or_at_Musk'] = 'Mentions @elonmusk'\n",
    "musk_post['By_or_at_Musk'] = 'By @elonmusk'\n",
    "\n",
    "tdf = pd.concat([mention_musk, musk_post], axis=0)\n",
    "\n",
    "# drop any rows that have null text, which removes over 1k rows\n",
    "tdf = tdf.loc[~tdf.clean_tweet_text.isna()]\n",
    "tdf.info()"
   ]
  },
  {
   "cell_type": "code",
   "execution_count": 11,
   "metadata": {},
   "outputs": [],
   "source": [
    "# we're also gonna get the tf-idf data since that gives us a different way \n",
    "# to analytically assess the text and words\n",
    "\n",
    "tfdf = nlp.get_tfidf_df(tdf, 'clean_tweet_text' )"
   ]
  },
  {
   "cell_type": "code",
   "execution_count": 12,
   "metadata": {},
   "outputs": [
    {
     "data": {
      "text/html": [
       "<div>\n",
       "<style scoped>\n",
       "    .dataframe tbody tr th:only-of-type {\n",
       "        vertical-align: middle;\n",
       "    }\n",
       "\n",
       "    .dataframe tbody tr th {\n",
       "        vertical-align: top;\n",
       "    }\n",
       "\n",
       "    .dataframe thead th {\n",
       "        text-align: right;\n",
       "    }\n",
       "</style>\n",
       "<table border=\"1\" class=\"dataframe\">\n",
       "  <thead>\n",
       "    <tr style=\"text-align: right;\">\n",
       "      <th></th>\n",
       "      <th>Unnamed: 0</th>\n",
       "      <th>datetime</th>\n",
       "      <th>display_name</th>\n",
       "      <th>tweet_text</th>\n",
       "      <th>User_id</th>\n",
       "      <th>#likes</th>\n",
       "      <th>#retweets</th>\n",
       "      <th>#responses</th>\n",
       "      <th>language</th>\n",
       "      <th>extracted_twitter_handles</th>\n",
       "      <th>...</th>\n",
       "      <th>world</th>\n",
       "      <th>would</th>\n",
       "      <th>wow</th>\n",
       "      <th>wrong</th>\n",
       "      <th>yeah</th>\n",
       "      <th>year</th>\n",
       "      <th>years</th>\n",
       "      <th>yes</th>\n",
       "      <th>yet</th>\n",
       "      <th>youre</th>\n",
       "    </tr>\n",
       "    <tr>\n",
       "      <th>tweet_id</th>\n",
       "      <th></th>\n",
       "      <th></th>\n",
       "      <th></th>\n",
       "      <th></th>\n",
       "      <th></th>\n",
       "      <th></th>\n",
       "      <th></th>\n",
       "      <th></th>\n",
       "      <th></th>\n",
       "      <th></th>\n",
       "      <th></th>\n",
       "      <th></th>\n",
       "      <th></th>\n",
       "      <th></th>\n",
       "      <th></th>\n",
       "      <th></th>\n",
       "      <th></th>\n",
       "      <th></th>\n",
       "      <th></th>\n",
       "      <th></th>\n",
       "      <th></th>\n",
       "    </tr>\n",
       "  </thead>\n",
       "  <tbody>\n",
       "    <tr>\n",
       "      <th>1580391877408215040</th>\n",
       "      <td>1052</td>\n",
       "      <td>2022-10-13 02:56:00+00:00</td>\n",
       "      <td>dcherring</td>\n",
       "      <td>@elonmusk I'm not a buyer. https://t.co/U7JkGU...</td>\n",
       "      <td>44909288.0</td>\n",
       "      <td>2.0</td>\n",
       "      <td>0.0</td>\n",
       "      <td>0.0</td>\n",
       "      <td>en</td>\n",
       "      <td>['@elonmusk']</td>\n",
       "      <td>...</td>\n",
       "      <td>0.0</td>\n",
       "      <td>0.0</td>\n",
       "      <td>0.0</td>\n",
       "      <td>0.0</td>\n",
       "      <td>0.0</td>\n",
       "      <td>0.0</td>\n",
       "      <td>0.0</td>\n",
       "      <td>0.0</td>\n",
       "      <td>0.0</td>\n",
       "      <td>0.0</td>\n",
       "    </tr>\n",
       "    <tr>\n",
       "      <th>1580391441607454720</th>\n",
       "      <td>1053</td>\n",
       "      <td>2022-10-13 02:54:16+00:00</td>\n",
       "      <td>dcherring</td>\n",
       "      <td>@cb_doge @elonmusk LOL</td>\n",
       "      <td>44909288.0</td>\n",
       "      <td>18.0</td>\n",
       "      <td>0.0</td>\n",
       "      <td>1.0</td>\n",
       "      <td>und</td>\n",
       "      <td>['@cb_doge', '@elonmusk']</td>\n",
       "      <td>...</td>\n",
       "      <td>0.0</td>\n",
       "      <td>0.0</td>\n",
       "      <td>0.0</td>\n",
       "      <td>0.0</td>\n",
       "      <td>0.0</td>\n",
       "      <td>0.0</td>\n",
       "      <td>0.0</td>\n",
       "      <td>0.0</td>\n",
       "      <td>0.0</td>\n",
       "      <td>0.0</td>\n",
       "    </tr>\n",
       "  </tbody>\n",
       "</table>\n",
       "<p>2 rows × 257 columns</p>\n",
       "</div>"
      ],
      "text/plain": [
       "                    Unnamed: 0                   datetime display_name  \\\n",
       "tweet_id                                                                 \n",
       "1580391877408215040       1052  2022-10-13 02:56:00+00:00    dcherring   \n",
       "1580391441607454720       1053  2022-10-13 02:54:16+00:00    dcherring   \n",
       "\n",
       "                                                            tweet_text  \\\n",
       "tweet_id                                                                 \n",
       "1580391877408215040  @elonmusk I'm not a buyer. https://t.co/U7JkGU...   \n",
       "1580391441607454720                             @cb_doge @elonmusk LOL   \n",
       "\n",
       "                        User_id  #likes  #retweets  #responses language  \\\n",
       "tweet_id                                                                  \n",
       "1580391877408215040  44909288.0     2.0        0.0         0.0       en   \n",
       "1580391441607454720  44909288.0    18.0        0.0         1.0      und   \n",
       "\n",
       "                     extracted_twitter_handles  ... world would  wow wrong  \\\n",
       "tweet_id                                        ...                          \n",
       "1580391877408215040              ['@elonmusk']  ...   0.0   0.0  0.0   0.0   \n",
       "1580391441607454720  ['@cb_doge', '@elonmusk']  ...   0.0   0.0  0.0   0.0   \n",
       "\n",
       "                    yeah  year  years  yes  yet  youre  \n",
       "tweet_id                                                \n",
       "1580391877408215040  0.0   0.0    0.0  0.0  0.0    0.0  \n",
       "1580391441607454720  0.0   0.0    0.0  0.0  0.0    0.0  \n",
       "\n",
       "[2 rows x 257 columns]"
      ]
     },
     "execution_count": 12,
     "metadata": {},
     "output_type": "execute_result"
    }
   ],
   "source": [
    "tfdf.head(2)"
   ]
  },
  {
   "cell_type": "code",
   "execution_count": 19,
   "metadata": {},
   "outputs": [],
   "source": [
    "tfdf.to_csv('data/clean/features/tf_idf_df.csv')"
   ]
  },
  {
   "cell_type": "markdown",
   "metadata": {},
   "source": [
    "<a id=numerical ><a/> \n",
    "\n",
    "## 2. Preparing data for topic modelling\n",
    "    \n",
    "[LINK to table of contents](#contents)\n",
    "\n",
    "We will be taking the clean text data and trimming it down slightly in order to reduce dimensionality and noise. We'll drop the null text values and also any rows where the clean text has less than a specific nr of tokens (to be determined below). "
   ]
  },
  {
   "cell_type": "code",
   "execution_count": null,
   "metadata": {},
   "outputs": [],
   "source": [
    "# clean_display = pd.read_csv('data/clean/clean_display_data.csv', engine='python')"
   ]
  },
  {
   "cell_type": "code",
   "execution_count": 17,
   "metadata": {},
   "outputs": [
    {
     "data": {
      "text/html": [
       "<div>\n",
       "<style scoped>\n",
       "    .dataframe tbody tr th:only-of-type {\n",
       "        vertical-align: middle;\n",
       "    }\n",
       "\n",
       "    .dataframe tbody tr th {\n",
       "        vertical-align: top;\n",
       "    }\n",
       "\n",
       "    .dataframe thead th {\n",
       "        text-align: right;\n",
       "    }\n",
       "</style>\n",
       "<table border=\"1\" class=\"dataframe\">\n",
       "  <thead>\n",
       "    <tr style=\"text-align: right;\">\n",
       "      <th></th>\n",
       "      <th>tweet_id</th>\n",
       "      <th>datetime</th>\n",
       "      <th>display_name</th>\n",
       "      <th>tweet_text</th>\n",
       "      <th>User_id</th>\n",
       "      <th>#likes</th>\n",
       "      <th>#retweets</th>\n",
       "      <th>#responses</th>\n",
       "      <th>language</th>\n",
       "      <th>extracted_twitter_handles</th>\n",
       "      <th>extracted_URLs</th>\n",
       "      <th>extracted_hashtags</th>\n",
       "      <th>clean_tweet_text</th>\n",
       "      <th>Before_or_after_controversy</th>\n",
       "    </tr>\n",
       "  </thead>\n",
       "  <tbody>\n",
       "    <tr>\n",
       "      <th>0</th>\n",
       "      <td>1580612226129760257</td>\n",
       "      <td>2022-10-13 17:31:35+00:00</td>\n",
       "      <td>elonmusk</td>\n",
       "      <td>@BogusThought srsly</td>\n",
       "      <td>44196397</td>\n",
       "      <td>350</td>\n",
       "      <td>23</td>\n",
       "      <td>82</td>\n",
       "      <td>en</td>\n",
       "      <td>[@BogusThought]</td>\n",
       "      <td>[]</td>\n",
       "      <td>[]</td>\n",
       "      <td>srsly</td>\n",
       "      <td>After</td>\n",
       "    </tr>\n",
       "  </tbody>\n",
       "</table>\n",
       "</div>"
      ],
      "text/plain": [
       "              tweet_id                  datetime display_name  \\\n",
       "0  1580612226129760257 2022-10-13 17:31:35+00:00     elonmusk   \n",
       "\n",
       "            tweet_text   User_id  #likes  #retweets  #responses language  \\\n",
       "0  @BogusThought srsly  44196397     350         23          82       en   \n",
       "\n",
       "  extracted_twitter_handles extracted_URLs extracted_hashtags  \\\n",
       "0           [@BogusThought]             []                 []   \n",
       "\n",
       "  clean_tweet_text Before_or_after_controversy  \n",
       "0            srsly                       After  "
      ]
     },
     "execution_count": 17,
     "metadata": {},
     "output_type": "execute_result"
    }
   ],
   "source": [
    "clean_display.head(1)"
   ]
  },
  {
   "cell_type": "code",
   "execution_count": 23,
   "metadata": {},
   "outputs": [
    {
     "name": "stderr",
     "output_type": "stream",
     "text": [
      "/var/folders/z8/91655qv97wdf50fs2d98cnfc0000gp/T/ipykernel_92282/3864105967.py:2: SettingWithCopyWarning: \n",
      "A value is trying to be set on a copy of a slice from a DataFrame.\n",
      "Try using .loc[row_indexer,col_indexer] = value instead\n",
      "\n",
      "See the caveats in the documentation: https://pandas.pydata.org/pandas-docs/stable/user_guide/indexing.html#returning-a-view-versus-a-copy\n",
      "  clean_display_txt['num_tokens'] = clean_display_txt['clean_tweet_text'].apply(lambda x: len(fn.tokenizer.tokenize(x)))\n",
      "/var/folders/z8/91655qv97wdf50fs2d98cnfc0000gp/T/ipykernel_92282/3864105967.py:3: SettingWithCopyWarning: \n",
      "A value is trying to be set on a copy of a slice from a DataFrame.\n",
      "Try using .loc[row_indexer,col_indexer] = value instead\n",
      "\n",
      "See the caveats in the documentation: https://pandas.pydata.org/pandas-docs/stable/user_guide/indexing.html#returning-a-view-versus-a-copy\n",
      "  clean_display_txt['len_text'] = clean_display_txt['clean_tweet_text'].apply(lambda x: len(x))\n"
     ]
    }
   ],
   "source": [
    "clean_display_txt = clean_display.dropna(subset=['clean_tweet_text'])\n",
    "clean_display_txt['num_tokens'] = clean_display_txt['clean_tweet_text'].apply(lambda x: len(fn.tokenizer.tokenize(x)))\n",
    "clean_display_txt['len_text'] = clean_display_txt['clean_tweet_text'].apply(lambda x: len(x))"
   ]
  },
  {
   "cell_type": "code",
   "execution_count": 24,
   "metadata": {},
   "outputs": [
    {
     "name": "stderr",
     "output_type": "stream",
     "text": [
      "/Users/ipreoteasa/opt/anaconda3/envs/dev/lib/python3.10/site-packages/seaborn/distributions.py:2619: FutureWarning: `distplot` is a deprecated function and will be removed in a future version. Please adapt your code to use either `displot` (a figure-level function with similar flexibility) or `histplot` (an axes-level function for histograms).\n",
      "  warnings.warn(msg, FutureWarning)\n"
     ]
    },
    {
     "data": {
      "image/png": "[encoded data removed]",
      "text/plain": [
       "<Figure size 640x480 with 1 Axes>"
      ]
     },
     "metadata": {},
     "output_type": "display_data"
    }
   ],
   "source": [
    "import matplotlib.pyplot as plt\n",
    "import seaborn as sns\n",
    "sns.distplot(clean_display_txt.num_tokens, bins= clean_display_txt.num_tokens.nunique());\n",
    "plt.show()"
   ]
  },
  {
   "cell_type": "code",
   "execution_count": 26,
   "metadata": {},
   "outputs": [
    {
     "name": "stderr",
     "output_type": "stream",
     "text": [
      "/Users/ipreoteasa/opt/anaconda3/envs/dev/lib/python3.10/site-packages/seaborn/distributions.py:2619: FutureWarning: `distplot` is a deprecated function and will be removed in a future version. Please adapt your code to use either `displot` (a figure-level function with similar flexibility) or `histplot` (an axes-level function for histograms).\n",
      "  warnings.warn(msg, FutureWarning)\n"
     ]
    },
    {
     "data": {
      "image/png": "[encoded data removed]",
      "text/plain": [
       "<Figure size 640x480 with 1 Axes>"
      ]
     },
     "metadata": {},
     "output_type": "display_data"
    }
   ],
   "source": [
    "sns.distplot(clean_display_txt.len_text,);\n",
    "plt.show()"
   ]
  },
  {
   "cell_type": "markdown",
   "metadata": {},
   "source": [
    "You'll note of course that the max nr of characters seems to far outstrip that of Twitter's limits. This is due to non-text characters and how they are encoded in utf-8 format (e.g. emojis, which in utf8, often count as more than 1 character). "
   ]
  },
  {
   "cell_type": "code",
   "execution_count": 27,
   "metadata": {},
   "outputs": [
    {
     "data": {
      "text/html": [
       "<div>\n",
       "<style scoped>\n",
       "    .dataframe tbody tr th:only-of-type {\n",
       "        vertical-align: middle;\n",
       "    }\n",
       "\n",
       "    .dataframe tbody tr th {\n",
       "        vertical-align: top;\n",
       "    }\n",
       "\n",
       "    .dataframe thead th {\n",
       "        text-align: right;\n",
       "    }\n",
       "</style>\n",
       "<table border=\"1\" class=\"dataframe\">\n",
       "  <thead>\n",
       "    <tr style=\"text-align: right;\">\n",
       "      <th></th>\n",
       "      <th>len_text</th>\n",
       "      <th>num_tokens</th>\n",
       "    </tr>\n",
       "  </thead>\n",
       "  <tbody>\n",
       "    <tr>\n",
       "      <th>count</th>\n",
       "      <td>256186.000000</td>\n",
       "      <td>256186.000000</td>\n",
       "    </tr>\n",
       "    <tr>\n",
       "      <th>mean</th>\n",
       "      <td>99.621388</td>\n",
       "      <td>16.485706</td>\n",
       "    </tr>\n",
       "    <tr>\n",
       "      <th>std</th>\n",
       "      <td>82.041671</td>\n",
       "      <td>13.698216</td>\n",
       "    </tr>\n",
       "    <tr>\n",
       "      <th>min</th>\n",
       "      <td>1.000000</td>\n",
       "      <td>0.000000</td>\n",
       "    </tr>\n",
       "    <tr>\n",
       "      <th>25%</th>\n",
       "      <td>31.000000</td>\n",
       "      <td>5.000000</td>\n",
       "    </tr>\n",
       "    <tr>\n",
       "      <th>50%</th>\n",
       "      <td>73.000000</td>\n",
       "      <td>12.000000</td>\n",
       "    </tr>\n",
       "    <tr>\n",
       "      <th>75%</th>\n",
       "      <td>160.000000</td>\n",
       "      <td>26.000000</td>\n",
       "    </tr>\n",
       "    <tr>\n",
       "      <th>max</th>\n",
       "      <td>560.000000</td>\n",
       "      <td>59.000000</td>\n",
       "    </tr>\n",
       "  </tbody>\n",
       "</table>\n",
       "</div>"
      ],
      "text/plain": [
       "            len_text     num_tokens\n",
       "count  256186.000000  256186.000000\n",
       "mean       99.621388      16.485706\n",
       "std        82.041671      13.698216\n",
       "min         1.000000       0.000000\n",
       "25%        31.000000       5.000000\n",
       "50%        73.000000      12.000000\n",
       "75%       160.000000      26.000000\n",
       "max       560.000000      59.000000"
      ]
     },
     "execution_count": 27,
     "metadata": {},
     "output_type": "execute_result"
    }
   ],
   "source": [
    "pd.DataFrame({'len_text': clean_display_txt['len_text'].describe(), 'num_tokens' : clean_display_txt['num_tokens'].describe()})"
   ]
  },
  {
   "cell_type": "code",
   "execution_count": 29,
   "metadata": {},
   "outputs": [
    {
     "data": {
      "text/plain": [
       "0.2238646920596754"
      ]
     },
     "execution_count": 29,
     "metadata": {},
     "output_type": "execute_result"
    }
   ],
   "source": [
    "clean_display_txt['num_tokens'].value_counts(True).head(5).sum()"
   ]
  },
  {
   "cell_type": "markdown",
   "metadata": {},
   "source": [
    "Ok, so clearly we would loose a great deal of noise if we just removed those rows where there are very few tokens. It is also better at this stage to remove via tokens instead of just plain text, since the tokenizer will also reduce the total nr of characters.\n",
    "I will remove everything less than the 25th quantile (5 tokens),  i.e. removing 22% of the rows.\n",
    "This will account for most of the tweets that are just image uploads or very short reactions, however it still leaves us with 209'666 rows of data. "
   ]
  },
  {
   "cell_type": "code",
   "execution_count": 34,
   "metadata": {},
   "outputs": [
    {
     "name": "stdout",
     "output_type": "stream",
     "text": [
      "<class 'pandas.core.frame.DataFrame'>\n",
      "Int64Index: 209666 entries, 2 to 265517\n",
      "Data columns (total 17 columns):\n",
      " #   Column                       Non-Null Count   Dtype  \n",
      "---  ------                       --------------   -----  \n",
      " 0   Unnamed: 0                   209666 non-null  object \n",
      " 1   tweet_id                     209666 non-null  object \n",
      " 2   datetime                     209666 non-null  object \n",
      " 3   display_name                 209666 non-null  object \n",
      " 4   tweet_text                   209666 non-null  object \n",
      " 5   User_id                      209666 non-null  float64\n",
      " 6   #likes                       209666 non-null  float64\n",
      " 7   #retweets                    209666 non-null  float64\n",
      " 8   #responses                   209666 non-null  float64\n",
      " 9   language                     209666 non-null  object \n",
      " 10  extracted_twitter_handles    209666 non-null  object \n",
      " 11  extracted_URLs               209666 non-null  object \n",
      " 12  extracted_hashtags           209666 non-null  object \n",
      " 13  clean_tweet_text             209666 non-null  object \n",
      " 14  Before_or_after_controversy  209664 non-null  object \n",
      " 15  num_tokens                   209666 non-null  int64  \n",
      " 16  len_text                     209666 non-null  int64  \n",
      "dtypes: float64(4), int64(2), object(11)\n",
      "memory usage: 28.8+ MB\n"
     ]
    }
   ],
   "source": [
    "final_display_txt = clean_display_txt.loc[clean_display_txt.num_tokens>=4]\n",
    "final_display_txt.info()"
   ]
  },
  {
   "cell_type": "code",
   "execution_count": 35,
   "metadata": {},
   "outputs": [
    {
     "name": "stderr",
     "output_type": "stream",
     "text": [
      "/Users/ipreoteasa/opt/anaconda3/envs/dev/lib/python3.10/site-packages/seaborn/distributions.py:2619: FutureWarning: `distplot` is a deprecated function and will be removed in a future version. Please adapt your code to use either `displot` (a figure-level function with similar flexibility) or `histplot` (an axes-level function for histograms).\n",
      "  warnings.warn(msg, FutureWarning)\n"
     ]
    },
    {
     "data": {
      "image/png": "[encoded data removed]",
      "text/plain": [
       "<Figure size 640x480 with 1 Axes>"
      ]
     },
     "metadata": {},
     "output_type": "display_data"
    }
   ],
   "source": [
    "sns.distplot(final_display_txt.num_tokens, bins= final_display_txt.num_tokens.nunique());\n",
    "plt.show()"
   ]
  },
  {
   "cell_type": "code",
   "execution_count": 36,
   "metadata": {},
   "outputs": [],
   "source": [
    "# we'll now save this as the final version to be used for topic modelling \n",
    "# final_display_txt.to_csv('data/clean/clean_text_and_metadata.csv')\n",
    "final_display_txt[['tweet_id', 'clean_tweet_text']].to_csv('data/clean/features/text_for_topics.csv')"
   ]
  },
  {
   "cell_type": "code",
   "execution_count": 37,
   "metadata": {},
   "outputs": [
    {
     "name": "stdout",
     "output_type": "stream",
     "text": [
      "<class 'pandas.core.frame.DataFrame'>\n",
      "Int64Index: 209666 entries, 2 to 265517\n",
      "Data columns (total 17 columns):\n",
      " #   Column                       Non-Null Count   Dtype  \n",
      "---  ------                       --------------   -----  \n",
      " 0   Unnamed: 0                   209666 non-null  object \n",
      " 1   tweet_id                     209666 non-null  object \n",
      " 2   datetime                     209666 non-null  object \n",
      " 3   display_name                 209666 non-null  object \n",
      " 4   tweet_text                   209666 non-null  object \n",
      " 5   User_id                      209666 non-null  float64\n",
      " 6   #likes                       209666 non-null  float64\n",
      " 7   #retweets                    209666 non-null  float64\n",
      " 8   #responses                   209666 non-null  float64\n",
      " 9   language                     209666 non-null  object \n",
      " 10  extracted_twitter_handles    209666 non-null  object \n",
      " 11  extracted_URLs               209666 non-null  object \n",
      " 12  extracted_hashtags           209666 non-null  object \n",
      " 13  clean_tweet_text             209666 non-null  object \n",
      " 14  Before_or_after_controversy  209664 non-null  object \n",
      " 15  num_tokens                   209666 non-null  int64  \n",
      " 16  len_text                     209666 non-null  int64  \n",
      "dtypes: float64(4), int64(2), object(11)\n",
      "memory usage: 28.8+ MB\n"
     ]
    }
   ],
   "source": [
    "final_display_txt.info()"
   ]
  },
  {
   "cell_type": "code",
   "execution_count": 38,
   "metadata": {},
   "outputs": [
    {
     "name": "stderr",
     "output_type": "stream",
     "text": [
      "/var/folders/z8/91655qv97wdf50fs2d98cnfc0000gp/T/ipykernel_92282/496216866.py:1: SettingWithCopyWarning: \n",
      "A value is trying to be set on a copy of a slice from a DataFrame.\n",
      "Try using .loc[row_indexer,col_indexer] = value instead\n",
      "\n",
      "See the caveats in the documentation: https://pandas.pydata.org/pandas-docs/stable/user_guide/indexing.html#returning-a-view-versus-a-copy\n",
      "  final_display_txt['datetime'] = pd.to_datetime(final_display_txt['datetime'], errors='coerce')\n",
      "/var/folders/z8/91655qv97wdf50fs2d98cnfc0000gp/T/ipykernel_92282/496216866.py:8: SettingWithCopyWarning: \n",
      "A value is trying to be set on a copy of a slice from a DataFrame.\n",
      "Try using .loc[row_indexer,col_indexer] = value instead\n",
      "\n",
      "See the caveats in the documentation: https://pandas.pydata.org/pandas-docs/stable/user_guide/indexing.html#returning-a-view-versus-a-copy\n",
      "  final_display_txt['Before_or_after_controversy'] = final_display_txt['datetime'].apply(lambda x : fn.is_it_before_or_after(x, cutoff_date))\n"
     ]
    }
   ],
   "source": [
    "final_display_txt['datetime'] = pd.to_datetime(final_display_txt['datetime'], errors='coerce')\n",
    "\n",
    "# now we want a very simple before and after ElonMusk's tweet proposing elections in Ukraine\n",
    "cutoff_date = pd.to_datetime('2022-10-03 16:15:43+00:00',)\n",
    "\n",
    "\n",
    "# now adding a filter column: stating whether a date is before or after this tweet. \n",
    "final_display_txt['Before_or_after_controversy'] = final_display_txt['datetime'].apply(lambda x : fn.is_it_before_or_after(x, cutoff_date))\n",
    "final_display_txt.to_csv('data/clean/clean_text_and_metadata.csv')"
   ]
  },
  {
   "cell_type": "code",
   "execution_count": 39,
   "metadata": {},
   "outputs": [
    {
     "name": "stdout",
     "output_type": "stream",
     "text": [
      "<class 'pandas.core.frame.DataFrame'>\n",
      "Int64Index: 209666 entries, 2 to 265517\n",
      "Data columns (total 17 columns):\n",
      " #   Column                       Non-Null Count   Dtype              \n",
      "---  ------                       --------------   -----              \n",
      " 0   Unnamed: 0                   209666 non-null  object             \n",
      " 1   tweet_id                     209666 non-null  object             \n",
      " 2   datetime                     209666 non-null  datetime64[ns, UTC]\n",
      " 3   display_name                 209666 non-null  object             \n",
      " 4   tweet_text                   209666 non-null  object             \n",
      " 5   User_id                      209666 non-null  float64            \n",
      " 6   #likes                       209666 non-null  float64            \n",
      " 7   #retweets                    209666 non-null  float64            \n",
      " 8   #responses                   209666 non-null  float64            \n",
      " 9   language                     209666 non-null  object             \n",
      " 10  extracted_twitter_handles    209666 non-null  object             \n",
      " 11  extracted_URLs               209666 non-null  object             \n",
      " 12  extracted_hashtags           209666 non-null  object             \n",
      " 13  clean_tweet_text             209666 non-null  object             \n",
      " 14  Before_or_after_controversy  209666 non-null  object             \n",
      " 15  num_tokens                   209666 non-null  int64              \n",
      " 16  len_text                     209666 non-null  int64              \n",
      "dtypes: datetime64[ns, UTC](1), float64(4), int64(2), object(10)\n",
      "memory usage: 28.8+ MB\n"
     ]
    }
   ],
   "source": [
    "final_display_txt.info()"
   ]
  },
  {
   "cell_type": "code",
   "execution_count": 41,
   "metadata": {},
   "outputs": [
    {
     "data": {
      "text/html": [
       "<div>\n",
       "<style scoped>\n",
       "    .dataframe tbody tr th:only-of-type {\n",
       "        vertical-align: middle;\n",
       "    }\n",
       "\n",
       "    .dataframe tbody tr th {\n",
       "        vertical-align: top;\n",
       "    }\n",
       "\n",
       "    .dataframe thead th {\n",
       "        text-align: right;\n",
       "    }\n",
       "</style>\n",
       "<table border=\"1\" class=\"dataframe\">\n",
       "  <thead>\n",
       "    <tr style=\"text-align: right;\">\n",
       "      <th></th>\n",
       "      <th>Unnamed: 0.1</th>\n",
       "      <th>Unnamed: 0</th>\n",
       "      <th>tweet_id</th>\n",
       "      <th>datetime</th>\n",
       "      <th>display_name</th>\n",
       "      <th>tweet_text</th>\n",
       "      <th>User_id</th>\n",
       "      <th>#likes</th>\n",
       "      <th>#retweets</th>\n",
       "      <th>#responses</th>\n",
       "      <th>language</th>\n",
       "      <th>extracted_twitter_handles</th>\n",
       "      <th>extracted_URLs</th>\n",
       "      <th>extracted_hashtags</th>\n",
       "      <th>clean_tweet_text</th>\n",
       "      <th>Before_or_after_controversy</th>\n",
       "      <th>num_tokens</th>\n",
       "      <th>len_text</th>\n",
       "    </tr>\n",
       "  </thead>\n",
       "  <tbody>\n",
       "    <tr>\n",
       "      <th>0</th>\n",
       "      <td>2</td>\n",
       "      <td>2</td>\n",
       "      <td>1580601578310230016</td>\n",
       "      <td>2022-10-13 16:49:17+00:00</td>\n",
       "      <td>elonmusk</td>\n",
       "      <td>@JohnnaCrider1 Envy has driven him to madness</td>\n",
       "      <td>44196397.0</td>\n",
       "      <td>5344.0</td>\n",
       "      <td>292.0</td>\n",
       "      <td>448.0</td>\n",
       "      <td>en</td>\n",
       "      <td>['@JohnnaCrider1']</td>\n",
       "      <td>[]</td>\n",
       "      <td>[]</td>\n",
       "      <td>Envy has driven him to madness</td>\n",
       "      <td>After</td>\n",
       "      <td>6</td>\n",
       "      <td>30</td>\n",
       "    </tr>\n",
       "  </tbody>\n",
       "</table>\n",
       "</div>"
      ],
      "text/plain": [
       "   Unnamed: 0.1  Unnamed: 0             tweet_id                  datetime  \\\n",
       "0             2           2  1580601578310230016 2022-10-13 16:49:17+00:00   \n",
       "\n",
       "  display_name                                     tweet_text     User_id  \\\n",
       "0     elonmusk  @JohnnaCrider1 Envy has driven him to madness  44196397.0   \n",
       "\n",
       "   #likes  #retweets  #responses language extracted_twitter_handles  \\\n",
       "0  5344.0      292.0       448.0       en        ['@JohnnaCrider1']   \n",
       "\n",
       "  extracted_URLs extracted_hashtags                clean_tweet_text  \\\n",
       "0             []                 []  Envy has driven him to madness   \n",
       "\n",
       "  Before_or_after_controversy  num_tokens  len_text  \n",
       "0                       After           6        30  "
      ]
     },
     "execution_count": 41,
     "metadata": {},
     "output_type": "execute_result"
    }
   ],
   "source": [
    "final_display_txt.head(1)"
   ]
  },
  {
   "cell_type": "code",
   "execution_count": 66,
   "metadata": {},
   "outputs": [],
   "source": [
    "final_display_txt=pd.read_csv('data/clean/clean_text_and_metadata.csv')\n",
    "final_display_txt.datetime = pd.to_datetime(final_display_txt.datetime)"
   ]
  },
  {
   "cell_type": "code",
   "execution_count": 7,
   "metadata": {},
   "outputs": [],
   "source": [
    "final_2022 = final_display_txt.loc[final_display_txt.datetime>=pd.to_datetime('2022-08-01 00:00:00+00:00')]\n"
   ]
  },
  {
   "cell_type": "code",
   "execution_count": 68,
   "metadata": {},
   "outputs": [],
   "source": [
    "len(final_display_txt.loc[final_display_txt.display_name=='elonmusk'])\n",
    "df = final_display_txt.copy()"
   ]
  },
  {
   "cell_type": "code",
   "execution_count": 69,
   "metadata": {},
   "outputs": [
    {
     "data": {
      "text/plain": [
       "Techmeme           1000\n",
       "nypost             1000\n",
       "Reuters            1000\n",
       "EpochTimes         1000\n",
       "NewsfromScience     999\n",
       "                   ... \n",
       "boringcompany        62\n",
       "muskQu0tes           61\n",
       "Xu0P5C4rMmMKUdu      60\n",
       "NASAEarthMars        50\n",
       "CChomp13             34\n",
       "Name: display_name, Length: 281, dtype: int64"
      ]
     },
     "execution_count": 69,
     "metadata": {},
     "output_type": "execute_result"
    }
   ],
   "source": [
    "df.display_name.value_counts()"
   ]
  },
  {
   "cell_type": "code",
   "execution_count": 78,
   "metadata": {},
   "outputs": [
    {
     "name": "stdout",
     "output_type": "stream",
     "text": [
      "<class 'pandas.core.frame.DataFrame'>\n",
      "Int64Index: 20375 entries, 724 to 626\n",
      "Data columns (total 19 columns):\n",
      " #   Column                       Non-Null Count  Dtype              \n",
      "---  ------                       --------------  -----              \n",
      " 0   Unnamed: 0.1                 20375 non-null  int64              \n",
      " 1   Unnamed: 0                   20375 non-null  int64              \n",
      " 2   tweet_id                     20375 non-null  int64              \n",
      " 3   datetime                     20375 non-null  datetime64[ns, UTC]\n",
      " 4   display_name                 20375 non-null  object             \n",
      " 5   tweet_text                   20375 non-null  object             \n",
      " 6   User_id                      20375 non-null  float64            \n",
      " 7   #likes                       20375 non-null  float64            \n",
      " 8   #retweets                    20375 non-null  float64            \n",
      " 9   #responses                   20375 non-null  float64            \n",
      " 10  language                     20375 non-null  object             \n",
      " 11  extracted_twitter_handles    20375 non-null  object             \n",
      " 12  extracted_URLs               20375 non-null  object             \n",
      " 13  extracted_hashtags           20375 non-null  object             \n",
      " 14  clean_tweet_text             20375 non-null  object             \n",
      " 15  Before_or_after_controversy  20375 non-null  object             \n",
      " 16  num_tokens                   20375 non-null  int64              \n",
      " 17  len_text                     20375 non-null  int64              \n",
      " 18  By_or_at_Musk                20375 non-null  object             \n",
      "dtypes: datetime64[ns, UTC](1), float64(4), int64(5), object(9)\n",
      "memory usage: 3.1+ MB\n"
     ]
    },
    {
     "name": "stderr",
     "output_type": "stream",
     "text": [
      "/var/folders/z8/91655qv97wdf50fs2d98cnfc0000gp/T/ipykernel_6407/2797443984.py:4: SettingWithCopyWarning: \n",
      "A value is trying to be set on a copy of a slice from a DataFrame.\n",
      "Try using .loc[row_indexer,col_indexer] = value instead\n",
      "\n",
      "See the caveats in the documentation: https://pandas.pydata.org/pandas-docs/stable/user_guide/indexing.html#returning-a-view-versus-a-copy\n",
      "  mention_musk['By_or_at_Musk'] = 'Mentions @elonmusk'\n",
      "/var/folders/z8/91655qv97wdf50fs2d98cnfc0000gp/T/ipykernel_6407/2797443984.py:5: SettingWithCopyWarning: \n",
      "A value is trying to be set on a copy of a slice from a DataFrame.\n",
      "Try using .loc[row_indexer,col_indexer] = value instead\n",
      "\n",
      "See the caveats in the documentation: https://pandas.pydata.org/pandas-docs/stable/user_guide/indexing.html#returning-a-view-versus-a-copy\n",
      "  musk_post['By_or_at_Musk'] = 'By @elonmusk'\n"
     ]
    }
   ],
   "source": [
    "mention_musk = df.loc[df.extracted_twitter_handles.apply(lambda x : '@elonmusk' in x if pd.isnull(x)==False else False)] \n",
    "musk_post = df.loc[df.display_name=='elonmusk']\n",
    "\n",
    "mention_musk['By_or_at_Musk'] = 'Mentions @elonmusk'\n",
    "musk_post['By_or_at_Musk'] = 'By @elonmusk'\n",
    "\n",
    "tdf = pd.concat([mention_musk, musk_post], axis=0)\n",
    "\n",
    "# drop any rows that have null text, which removes over 1k rows\n",
    "tdf = tdf.loc[~tdf.clean_tweet_text.isna()]\n",
    "tdf.info()"
   ]
  },
  {
   "cell_type": "code",
   "execution_count": 79,
   "metadata": {},
   "outputs": [
    {
     "data": {
      "text/plain": [
       "Mentions @elonmusk    19748\n",
       "By @elonmusk            627\n",
       "Name: By_or_at_Musk, dtype: int64"
      ]
     },
     "execution_count": 79,
     "metadata": {},
     "output_type": "execute_result"
    }
   ],
   "source": [
    "tdf.By_or_at_Musk.value_counts()"
   ]
  },
  {
   "cell_type": "code",
   "execution_count": 96,
   "metadata": {},
   "outputs": [
    {
     "ename": "AttributeError",
     "evalue": "'DataFrame' object has no attribute 'clean_tweet_text'",
     "output_type": "error",
     "traceback": [
      "\u001b[0;31m---------------------------------------------------------------------------\u001b[0m",
      "\u001b[0;31mAttributeError\u001b[0m                            Traceback (most recent call last)",
      "\u001b[1;32m/Users/ipreoteasa/Desktop/Io/blog/IoanaFio/content/project/twitter_sentiment_tracking/4. data_cleaning.ipynb Cell 41\u001b[0m in \u001b[0;36m<cell line: 10>\u001b[0;34m()\u001b[0m\n\u001b[1;32m      <a href='vscode-notebook-cell:/Users/ipreoteasa/Desktop/Io/blog/IoanaFio/content/project/twitter_sentiment_tracking/4.%20data_cleaning.ipynb#Y121sZmlsZQ%3D%3D?line=4'>5</a>\u001b[0m tdf_melt\u001b[39m.\u001b[39mrename({\u001b[39m'\u001b[39m\u001b[39m#likes\u001b[39m\u001b[39m'\u001b[39m: \u001b[39m'\u001b[39m\u001b[39mNumber of likes\u001b[39m\u001b[39m'\u001b[39m,\t\u001b[39m'\u001b[39m\u001b[39m#retweets\u001b[39m\u001b[39m'\u001b[39m: \u001b[39m'\u001b[39m\u001b[39mNumber of retweets\u001b[39m\u001b[39m'\u001b[39m,\t\u001b[39m'\u001b[39m\u001b[39m#responses\u001b[39m\u001b[39m'\u001b[39m: \u001b[39m'\u001b[39m\u001b[39mNumber of responses\u001b[39m\u001b[39m'\u001b[39m}, axis\u001b[39m=\u001b[39m\u001b[39m1\u001b[39m, inplace\u001b[39m=\u001b[39m\u001b[39mTrue\u001b[39;00m)\n\u001b[1;32m      <a href='vscode-notebook-cell:/Users/ipreoteasa/Desktop/Io/blog/IoanaFio/content/project/twitter_sentiment_tracking/4.%20data_cleaning.ipynb#Y121sZmlsZQ%3D%3D?line=5'>6</a>\u001b[0m tdf_melt \u001b[39m=\u001b[39m tdf_melt\u001b[39m.\u001b[39mmelt(id_vars \u001b[39m=\u001b[39m [\u001b[39m'\u001b[39m\u001b[39mdatetime\u001b[39m\u001b[39m'\u001b[39m, \u001b[39m'\u001b[39m\u001b[39mdisplay_name\u001b[39m\u001b[39m'\u001b[39m, \n\u001b[1;32m      <a href='vscode-notebook-cell:/Users/ipreoteasa/Desktop/Io/blog/IoanaFio/content/project/twitter_sentiment_tracking/4.%20data_cleaning.ipynb#Y121sZmlsZQ%3D%3D?line=6'>7</a>\u001b[0m                                     \u001b[39m'\u001b[39m\u001b[39mtweet_text\u001b[39m\u001b[39m'\u001b[39m,\u001b[39m'\u001b[39m\u001b[39mBy_or_at_Musk\u001b[39m\u001b[39m'\u001b[39m], \n\u001b[1;32m      <a href='vscode-notebook-cell:/Users/ipreoteasa/Desktop/Io/blog/IoanaFio/content/project/twitter_sentiment_tracking/4.%20data_cleaning.ipynb#Y121sZmlsZQ%3D%3D?line=7'>8</a>\u001b[0m                         value_vars \u001b[39m=\u001b[39m  [\u001b[39m'\u001b[39m\u001b[39mNumber of likes\u001b[39m\u001b[39m'\u001b[39m,\t\u001b[39m'\u001b[39m\u001b[39mNumber of retweets\u001b[39m\u001b[39m'\u001b[39m, \u001b[39m'\u001b[39m\u001b[39mNumber of responses\u001b[39m\u001b[39m'\u001b[39m])\n\u001b[0;32m---> <a href='vscode-notebook-cell:/Users/ipreoteasa/Desktop/Io/blog/IoanaFio/content/project/twitter_sentiment_tracking/4.%20data_cleaning.ipynb#Y121sZmlsZQ%3D%3D?line=9'>10</a>\u001b[0m tdf_melt[\u001b[39m'\u001b[39m\u001b[39mtweet_text\u001b[39m\u001b[39m'\u001b[39m] \u001b[39m=\u001b[39m tdf_melt\u001b[39m.\u001b[39;49mclean_tweet_text\u001b[39m.\u001b[39mapply(\u001b[39mlambda\u001b[39;00m x : \u001b[39m'\u001b[39m\u001b[39m\\n\u001b[39;00m\u001b[39m'\u001b[39m\u001b[39m.\u001b[39mjoin(wrap(x, \u001b[39m30\u001b[39m))\u001b[39m.\u001b[39mreplace(\u001b[39m'\u001b[39m\u001b[39m\\n\u001b[39;00m\u001b[39m'\u001b[39m, \u001b[39m'\u001b[39m\u001b[39m<br>\u001b[39m\u001b[39m'\u001b[39m) )\n\u001b[1;32m     <a href='vscode-notebook-cell:/Users/ipreoteasa/Desktop/Io/blog/IoanaFio/content/project/twitter_sentiment_tracking/4.%20data_cleaning.ipynb#Y121sZmlsZQ%3D%3D?line=10'>11</a>\u001b[0m tdf_melt[\u001b[39m'\u001b[39m\u001b[39mtweet_text\u001b[39m\u001b[39m'\u001b[39m] \u001b[39m=\u001b[39m tdf_melt\u001b[39m.\u001b[39mapply(\u001b[39mlambda\u001b[39;00m x : \u001b[39m'\u001b[39m\u001b[39mby <b>\u001b[39m\u001b[39m'\u001b[39m \u001b[39m+\u001b[39m x[\u001b[39m'\u001b[39m\u001b[39mdisplay_name\u001b[39m\u001b[39m'\u001b[39m]\u001b[39m+\u001b[39m\u001b[39m'\u001b[39m\u001b[39m</b>\u001b[39m\u001b[39m'\u001b[39m \u001b[39m+\u001b[39m\u001b[39m'\u001b[39m\u001b[39m: \u001b[39m\u001b[39m'\u001b[39m\u001b[39m+\u001b[39m x[\u001b[39m'\u001b[39m\u001b[39mtweet_text\u001b[39m\u001b[39m'\u001b[39m], axis\u001b[39m=\u001b[39m\u001b[39m1\u001b[39m)\n\u001b[1;32m     <a href='vscode-notebook-cell:/Users/ipreoteasa/Desktop/Io/blog/IoanaFio/content/project/twitter_sentiment_tracking/4.%20data_cleaning.ipynb#Y121sZmlsZQ%3D%3D?line=11'>12</a>\u001b[0m tdf_melt\u001b[39m.\u001b[39mto_csv(\u001b[39m'\u001b[39m\u001b[39mdata/viz/tweet_stats_over_time.csv\u001b[39m\u001b[39m'\u001b[39m)\n",
      "File \u001b[0;32m~/opt/anaconda3/envs/dev/lib/python3.10/site-packages/pandas/core/generic.py:5575\u001b[0m, in \u001b[0;36mNDFrame.__getattr__\u001b[0;34m(self, name)\u001b[0m\n\u001b[1;32m   5568\u001b[0m \u001b[39mif\u001b[39;00m (\n\u001b[1;32m   5569\u001b[0m     name \u001b[39mnot\u001b[39;00m \u001b[39min\u001b[39;00m \u001b[39mself\u001b[39m\u001b[39m.\u001b[39m_internal_names_set\n\u001b[1;32m   5570\u001b[0m     \u001b[39mand\u001b[39;00m name \u001b[39mnot\u001b[39;00m \u001b[39min\u001b[39;00m \u001b[39mself\u001b[39m\u001b[39m.\u001b[39m_metadata\n\u001b[1;32m   5571\u001b[0m     \u001b[39mand\u001b[39;00m name \u001b[39mnot\u001b[39;00m \u001b[39min\u001b[39;00m \u001b[39mself\u001b[39m\u001b[39m.\u001b[39m_accessors\n\u001b[1;32m   5572\u001b[0m     \u001b[39mand\u001b[39;00m \u001b[39mself\u001b[39m\u001b[39m.\u001b[39m_info_axis\u001b[39m.\u001b[39m_can_hold_identifiers_and_holds_name(name)\n\u001b[1;32m   5573\u001b[0m ):\n\u001b[1;32m   5574\u001b[0m     \u001b[39mreturn\u001b[39;00m \u001b[39mself\u001b[39m[name]\n\u001b[0;32m-> 5575\u001b[0m \u001b[39mreturn\u001b[39;00m \u001b[39mobject\u001b[39;49m\u001b[39m.\u001b[39;49m\u001b[39m__getattribute__\u001b[39;49m(\u001b[39mself\u001b[39;49m, name)\n",
      "\u001b[0;31mAttributeError\u001b[0m: 'DataFrame' object has no attribute 'clean_tweet_text'"
     ]
    }
   ],
   "source": [
    "from textwrap import wrap\n",
    "\n",
    "tdf_melt = tdf.iloc[:, 2:].set_index('tweet_id')\n",
    "tdf_melt = tdf_melt.loc[tdf_melt.datetime>=pd.to_datetime('2022-01-01 00:00:00+00:00')]\n",
    "tdf_melt.rename({'#likes': 'Number of likes',\t'#retweets': 'Number of retweets',\t'#responses': 'Number of responses'}, axis=1, inplace=True)\n",
    "tdf_melt = tdf_melt.melt(id_vars = ['datetime', 'display_name', \n",
    "                                    'tweet_text','By_or_at_Musk'], \n",
    "                        value_vars =  ['Number of likes',\t'Number of retweets', 'Number of responses'])\n",
    "\n",
    "tdf_melt['tweet_text'] = tdf_melt.tweet_text.apply(lambda x : '\\n'.join(wrap(x, 30)).replace('\\n', '<br>') )\n",
    "tdf_melt['tweet_text'] = tdf_melt.apply(lambda x : 'by <b>' + x['display_name']+'</b>' +': '+ x['tweet_text'], axis=1)\n",
    "tdf_melt.to_csv('data/viz/tweet_stats_over_time.csv')\n",
    "tdf_melt.head()"
   ]
  },
  {
   "cell_type": "code",
   "execution_count": 91,
   "metadata": {},
   "outputs": [
    {
     "data": {
      "text/plain": [
       "Mentions @elonmusk    54411\n",
       "By @elonmusk           1881\n",
       "Name: By_or_at_Musk, dtype: int64"
      ]
     },
     "execution_count": 91,
     "metadata": {},
     "output_type": "execute_result"
    }
   ],
   "source": [
    "tdf_melt.By_or_at_Musk.value_counts()"
   ]
  },
  {
   "cell_type": "code",
   "execution_count": 27,
   "metadata": {},
   "outputs": [],
   "source": [
    "final_2022_df = tdf.loc[tdf.datetime>=pd.to_datetime('2022-09-01 00:00:00+00:00')]\n"
   ]
  },
  {
   "cell_type": "code",
   "execution_count": 28,
   "metadata": {},
   "outputs": [
    {
     "data": {
      "text/plain": [
       "12037"
      ]
     },
     "execution_count": 28,
     "metadata": {},
     "output_type": "execute_result"
    }
   ],
   "source": [
    "len(final_2022_df)"
   ]
  },
  {
   "cell_type": "code",
   "execution_count": 29,
   "metadata": {},
   "outputs": [
    {
     "data": {
      "text/plain": [
       "300"
      ]
     },
     "execution_count": 29,
     "metadata": {},
     "output_type": "execute_result"
    }
   ],
   "source": [
    "\n",
    "# len(final_2022_df)\n",
    "len(final_2022_df.loc[final_2022_df.display_name=='elonmusk'])"
   ]
  },
  {
   "cell_type": "code",
   "execution_count": 38,
   "metadata": {},
   "outputs": [],
   "source": [
    "final_2022_df.to_csv('data/clean/dashboard_data.csv')"
   ]
  },
  {
   "cell_type": "code",
   "execution_count": 39,
   "metadata": {},
   "outputs": [
    {
     "data": {
      "text/html": [
       "<div>\n",
       "<style scoped>\n",
       "    .dataframe tbody tr th:only-of-type {\n",
       "        vertical-align: middle;\n",
       "    }\n",
       "\n",
       "    .dataframe tbody tr th {\n",
       "        vertical-align: top;\n",
       "    }\n",
       "\n",
       "    .dataframe thead th {\n",
       "        text-align: right;\n",
       "    }\n",
       "</style>\n",
       "<table border=\"1\" class=\"dataframe\">\n",
       "  <thead>\n",
       "    <tr style=\"text-align: right;\">\n",
       "      <th></th>\n",
       "      <th>Unnamed: 0.1</th>\n",
       "      <th>Unnamed: 0</th>\n",
       "      <th>tweet_id</th>\n",
       "      <th>datetime</th>\n",
       "      <th>display_name</th>\n",
       "      <th>tweet_text</th>\n",
       "      <th>User_id</th>\n",
       "      <th>#likes</th>\n",
       "      <th>#retweets</th>\n",
       "      <th>#responses</th>\n",
       "      <th>language</th>\n",
       "      <th>extracted_twitter_handles</th>\n",
       "      <th>extracted_URLs</th>\n",
       "      <th>extracted_hashtags</th>\n",
       "      <th>clean_tweet_text</th>\n",
       "      <th>Before_or_after_controversy</th>\n",
       "      <th>num_tokens</th>\n",
       "      <th>len_text</th>\n",
       "      <th>By_or_at_Musk</th>\n",
       "    </tr>\n",
       "  </thead>\n",
       "  <tbody>\n",
       "    <tr>\n",
       "      <th>724</th>\n",
       "      <td>1149</td>\n",
       "      <td>1149</td>\n",
       "      <td>1580168615357140992</td>\n",
       "      <td>2022-10-12 12:08:50+00:00</td>\n",
       "      <td>dcherring</td>\n",
       "      <td>@elonmusk My favorite (least favorite) is \\n O...</td>\n",
       "      <td>44909288.0</td>\n",
       "      <td>1.0</td>\n",
       "      <td>0.0</td>\n",
       "      <td>0.0</td>\n",
       "      <td>en</td>\n",
       "      <td>['@elonmusk']</td>\n",
       "      <td>[]</td>\n",
       "      <td>[]</td>\n",
       "      <td>My favorite least favorite is  ONLY TWO IDEAS</td>\n",
       "      <td>After</td>\n",
       "      <td>8</td>\n",
       "      <td>45</td>\n",
       "      <td>Mentions @elonmusk</td>\n",
       "    </tr>\n",
       "  </tbody>\n",
       "</table>\n",
       "</div>"
      ],
      "text/plain": [
       "     Unnamed: 0.1  Unnamed: 0             tweet_id                  datetime  \\\n",
       "724          1149        1149  1580168615357140992 2022-10-12 12:08:50+00:00   \n",
       "\n",
       "    display_name                                         tweet_text  \\\n",
       "724    dcherring  @elonmusk My favorite (least favorite) is \\n O...   \n",
       "\n",
       "        User_id  #likes  #retweets  #responses language  \\\n",
       "724  44909288.0     1.0        0.0         0.0       en   \n",
       "\n",
       "    extracted_twitter_handles extracted_URLs extracted_hashtags  \\\n",
       "724             ['@elonmusk']             []                 []   \n",
       "\n",
       "                                  clean_tweet_text  \\\n",
       "724  My favorite least favorite is  ONLY TWO IDEAS   \n",
       "\n",
       "    Before_or_after_controversy  num_tokens  len_text       By_or_at_Musk  \n",
       "724                       After           8        45  Mentions @elonmusk  "
      ]
     },
     "execution_count": 39,
     "metadata": {},
     "output_type": "execute_result"
    }
   ],
   "source": [
    "final_2022_df.head(1)"
   ]
  },
  {
   "cell_type": "code",
   "execution_count": 34,
   "metadata": {},
   "outputs": [],
   "source": [
    "#saving final data that will be used for topic modelling\n",
    "final_2022_df[['tweet_id', 'clean_tweet_text']].to_csv('data/clean/features/text_for_topics_post_Aug22.csv')\n",
    "final_2022_df[['tweet_id','datetime']].to_csv('data/clean/features/datetime_for_topics_post_Aug22.csv')"
   ]
  },
  {
   "cell_type": "code",
   "execution_count": 37,
   "metadata": {},
   "outputs": [
    {
     "data": {
      "text/plain": [
       "en     0.989782\n",
       "nl     0.001495\n",
       "fr     0.000997\n",
       "es     0.000914\n",
       "hu     0.000831\n",
       "und    0.000748\n",
       "et     0.000665\n",
       "ca     0.000582\n",
       "de     0.000498\n",
       "sv     0.000415\n",
       "ro     0.000415\n",
       "pt     0.000415\n",
       "tl     0.000415\n",
       "da     0.000332\n",
       "it     0.000332\n",
       "in     0.000249\n",
       "no     0.000166\n",
       "ht     0.000166\n",
       "vi     0.000083\n",
       "cy     0.000083\n",
       "is     0.000083\n",
       "sl     0.000083\n",
       "lt     0.000083\n",
       "ja     0.000083\n",
       "eu     0.000083\n",
       "Name: language, dtype: float64"
      ]
     },
     "execution_count": 37,
     "metadata": {},
     "output_type": "execute_result"
    }
   ],
   "source": [
    "final_2022_df.language.value_counts(True)"
   ]
  },
  {
   "cell_type": "code",
   "execution_count": null,
   "metadata": {},
   "outputs": [],
   "source": []
  }
 ],
 "metadata": {
  "kernelspec": {
   "display_name": "Python 3.10.6 ('dev')",
   "language": "python",
   "name": "python3"
  },
  "language_info": {
   "codemirror_mode": {
    "name": "ipython",
    "version": 3
   },
   "file_extension": ".py",
   "mimetype": "text/x-python",
   "name": "python",
   "nbconvert_exporter": "python",
   "pygments_lexer": "ipython3",
   "version": "3.10.6"
  },
  "vscode": {
   "interpreter": {
    "hash": "fb04db51b63f65a907d7a4e960cdba41b14668a694baecd878a6a03a98632cbd"
   }
  }
 },
 "nbformat": 4,
 "nbformat_minor": 4
}
