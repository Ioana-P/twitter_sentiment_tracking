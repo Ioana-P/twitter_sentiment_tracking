{
 "cells": [
  {
   "cell_type": "markdown",
   "metadata": {},
   "source": [
    "<a id=contents></a>\n",
    "\n",
    "# Exploratory Data Analysis\n",
    "## Our clean data at a glance\n",
    "\n",
    "\n",
    "[1. Data Inspection](#insp)\n",
    "\n",
    "[2. TF-IDF : Term Frequency Inverse Doc Frequency](#corr)\n",
    "\n",
    "[3. How does this affect it? (playing with some barplots and hue](#bar)\n",
    "\n",
    "[4. Mentions of Elon and how sentiment varies](#one)\n",
    "\n",
    "[5. EDA 2](#two)\n",
    "\n",
    "[6. EDA 3](#three)\n",
    "\n",
    "[7. Conclusions and ideas going forward](#conc)"
   ]
  },
  {
   "cell_type": "code",
   "execution_count": 2,
   "metadata": {},
   "outputs": [
    {
     "name": "stderr",
     "output_type": "stream",
     "text": [
      "2022-10-11 12:51:39.819170: I tensorflow/core/platform/cpu_feature_guard.cc:193] This TensorFlow binary is optimized with oneAPI Deep Neural Network Library (oneDNN) to use the following CPU instructions in performance-critical operations:  AVX2 AVX512F AVX512_VNNI FMA\n",
      "To enable them in other operations, rebuild TensorFlow with the appropriate compiler flags.\n"
     ]
    }
   ],
   "source": [
    "%load_ext autoreload\n",
    "%autoreload 2\n",
    "from sklearn.cluster import KMeans\n",
    "import scipy.cluster.hierarchy as shc\n",
    "\n",
    "import matplotlib.pyplot as plt\n",
    "import seaborn as sns\n",
    "import plotly_express as px\n",
    "%matplotlib inline\n",
    "sns.set_style(\"darkgrid\")\n",
    "\n",
    "from sklearn.decomposition import PCA\n",
    "# import stri\n",
    "\n",
    "import warnings\n",
    "warnings.filterwarnings('ignore')\n",
    "\n",
    "import os\n",
    "import gensim\n",
    "import numpy as np \n",
    "import functions.functions as fn\n",
    "import pandas as pd\n",
    "\n",
    "import spacy\n",
    "from spacymoji import Emoji\n"
   ]
  },
  {
   "cell_type": "code",
   "execution_count": 6,
   "metadata": {},
   "outputs": [],
   "source": [
    "\n",
    "import gensim.downloader as api\n",
    "from spacy_download import load_spacy\n",
    "from gensim import corpora, models, similarities\n",
    "from gensim.models.word2vec import Word2Vec\n"
   ]
  },
  {
   "cell_type": "markdown",
   "metadata": {},
   "source": [
    "<a id=insp ><a/> \n",
    "\n",
    "## 1. Data Inspection\n",
    "    \n",
    "[LINK to table of contents](#contents)"
   ]
  },
  {
   "cell_type": "code",
   "execution_count": 3,
   "metadata": {},
   "outputs": [],
   "source": [
    "# vect = pd.read_csv('data/clean/features/count_vect_feats.csv', index_col=0)\n",
    "df = pd.read_csv('data/clean/clean_display_data.csv', index_col=0)"
   ]
  },
  {
   "cell_type": "code",
   "execution_count": 49,
   "metadata": {},
   "outputs": [
    {
     "data": {
      "text/html": [
       "<div>\n",
       "<style scoped>\n",
       "    .dataframe tbody tr th:only-of-type {\n",
       "        vertical-align: middle;\n",
       "    }\n",
       "\n",
       "    .dataframe tbody tr th {\n",
       "        vertical-align: top;\n",
       "    }\n",
       "\n",
       "    .dataframe thead th {\n",
       "        text-align: right;\n",
       "    }\n",
       "</style>\n",
       "<table border=\"1\" class=\"dataframe\">\n",
       "  <thead>\n",
       "    <tr style=\"text-align: right;\">\n",
       "      <th></th>\n",
       "      <th>tweet_id</th>\n",
       "      <th>datetime</th>\n",
       "      <th>display_name</th>\n",
       "      <th>tweet_text</th>\n",
       "      <th>User_id</th>\n",
       "      <th>extracted_twitter_handles</th>\n",
       "      <th>extracted_URLs</th>\n",
       "      <th>extracted_hashtags</th>\n",
       "      <th>clean_tweet_text</th>\n",
       "    </tr>\n",
       "  </thead>\n",
       "  <tbody>\n",
       "    <tr>\n",
       "      <th>0</th>\n",
       "      <td>1.579300e+18</td>\n",
       "      <td>2022-10-10 02:36:00+00:00</td>\n",
       "      <td>ElonMusk</td>\n",
       "      <td>@CathieDWood 💯</td>\n",
       "      <td>44196397.0</td>\n",
       "      <td>['@CathieDWood']</td>\n",
       "      <td>[]</td>\n",
       "      <td>[]</td>\n",
       "      <td>💯</td>\n",
       "    </tr>\n",
       "  </tbody>\n",
       "</table>\n",
       "</div>"
      ],
      "text/plain": [
       "       tweet_id                   datetime display_name      tweet_text  \\\n",
       "0  1.579300e+18  2022-10-10 02:36:00+00:00     ElonMusk  @CathieDWood 💯   \n",
       "\n",
       "      User_id extracted_twitter_handles extracted_URLs extracted_hashtags  \\\n",
       "0  44196397.0          ['@CathieDWood']             []                 []   \n",
       "\n",
       "  clean_tweet_text  \n",
       "0                💯  "
      ]
     },
     "execution_count": 49,
     "metadata": {},
     "output_type": "execute_result"
    }
   ],
   "source": [
    "df.head(1)"
   ]
  },
  {
   "cell_type": "markdown",
   "metadata": {},
   "source": [
    "<a id=corr ><a/> \n",
    "\n",
    "## 2.  Getting TF-IDF scores by user\n",
    "    \n",
    "[LINK to table of contents](#contents)"
   ]
  },
  {
   "cell_type": "code",
   "execution_count": null,
   "metadata": {},
   "outputs": [],
   "source": []
  },
  {
   "cell_type": "markdown",
   "metadata": {},
   "source": [
    "<a id=bar><a/> \n",
    "\n",
    "## 3. Turning to Doc Vectors in Gensim\n",
    "   \n",
    "[LINK to table of contents](#contents)\n",
    "\n",
    "Inspiration for this part was taken partialy from [this blog post on visualising Twitter data](#https://towardsdatascience.com/visualizing-tweet-vectors-using-python-e528358bce68)."
   ]
  },
  {
   "cell_type": "code",
   "execution_count": 2,
   "metadata": {},
   "outputs": [],
   "source": [
    "import logging\n",
    "logging.basicConfig(format='%(asctime)s : %(levelname)s : %(message)s', level=logging.INFO)"
   ]
  },
  {
   "cell_type": "code",
   "execution_count": 4,
   "metadata": {},
   "outputs": [],
   "source": [
    "from transformers import BertTokenizer\n",
    "tokenizer = BertTokenizer.from_pretrained('bert-base-uncased', do_lower_case=True)\n"
   ]
  },
  {
   "cell_type": "code",
   "execution_count": 4,
   "metadata": {},
   "outputs": [],
   "source": [
    "### take data from clean\n",
    "### tokenize\n",
    "\n",
    "text_lst = pd.read_csv('data/clean/clean_display_data.csv')[['tweet_id', 'clean_tweet_text']].dropna(subset=['clean_tweet_text']) #.to_list()\n"
   ]
  },
  {
   "cell_type": "code",
   "execution_count": 7,
   "metadata": {},
   "outputs": [],
   "source": [
    "# nlp = load_spacy(\"en_core_web_sm\", exclude=[\"parser\", \"tagger\"])\n",
    "corpus = api.load('text8')\n"
   ]
  },
  {
   "cell_type": "code",
   "execution_count": 9,
   "metadata": {},
   "outputs": [],
   "source": [
    "model = Word2Vec(corpus)"
   ]
  },
  {
   "cell_type": "code",
   "execution_count": null,
   "metadata": {},
   "outputs": [],
   "source": [
    "# text_lst['tokens'] = text_lst['clean_tweet_text'].apply(lambda x : fn.tokenizer.tokenize(x) if x==x else np.NAN) \n",
    "\n",
    "# text_df = text_lst.dropna(subset=['tokens'])"
   ]
  },
  {
   "cell_type": "code",
   "execution_count": 10,
   "metadata": {},
   "outputs": [],
   "source": [
    "# text_df.to_csv('data/clean/features/clean_text_and_tokens.csv')\n",
    "text_df = pd.read_csv('data/clean/features/clean_text_and_tokens.csv')"
   ]
  },
  {
   "cell_type": "code",
   "execution_count": 10,
   "metadata": {},
   "outputs": [],
   "source": []
  },
  {
   "cell_type": "code",
   "execution_count": 11,
   "metadata": {},
   "outputs": [
    {
     "name": "stdout",
     "output_type": "stream",
     "text": [
      "<class 'pandas.core.frame.DataFrame'>\n",
      "Int64Index: 10000 entries, 59955 to 273635\n",
      "Data columns (total 4 columns):\n",
      " #   Column            Non-Null Count  Dtype  \n",
      "---  ------            --------------  -----  \n",
      " 0   Unnamed: 0        10000 non-null  int64  \n",
      " 1   tweet_id          10000 non-null  float64\n",
      " 2   clean_tweet_text  10000 non-null  object \n",
      " 3   tokens            10000 non-null  object \n",
      "dtypes: float64(1), int64(1), object(2)\n",
      "memory usage: 390.6+ KB\n"
     ]
    }
   ],
   "source": [
    "sample_df = text_df.sample(n=10000, random_state=12345)\n",
    "sample_df.info()"
   ]
  },
  {
   "cell_type": "code",
   "execution_count": 14,
   "metadata": {},
   "outputs": [],
   "source": [
    "# Takes nearly 8 mins to run\n",
    "\n",
    "tweet_vectors = sample_df['tokens'].apply(lambda x : fn.get_tweet_as_embed(x, model))"
   ]
  },
  {
   "cell_type": "code",
   "execution_count": 15,
   "metadata": {},
   "outputs": [
    {
     "name": "stdout",
     "output_type": "stream",
     "text": [
      "<class 'pandas.core.frame.DataFrame'>\n",
      "Int64Index: 9432 entries, 59955 to 273635\n",
      "Data columns (total 5 columns):\n",
      " #   Column            Non-Null Count  Dtype  \n",
      "---  ------            --------------  -----  \n",
      " 0   Unnamed: 0        9432 non-null   int64  \n",
      " 1   tweet_id          9432 non-null   float64\n",
      " 2   clean_tweet_text  9432 non-null   object \n",
      " 3   tokens            9432 non-null   object \n",
      " 4   wv                9432 non-null   object \n",
      "dtypes: float64(1), int64(1), object(3)\n",
      "memory usage: 442.1+ KB\n"
     ]
    }
   ],
   "source": [
    "sample_df['wv'] = tweet_vectors\n",
    "sample_df.dropna(subset=['wv'], inplace=True)\n",
    "sample_df.info()"
   ]
  },
  {
   "cell_type": "code",
   "execution_count": 28,
   "metadata": {},
   "outputs": [
    {
     "name": "stdout",
     "output_type": "stream",
     "text": [
      "Fitting PCA transform...\n"
     ]
    }
   ],
   "source": [
    "print('Fitting PCA transform...')  \n",
    "from sklearn.decomposition import PCA\n",
    "pca = PCA(n_components=2)  \n",
    "# pca.fit([x.reshape(100,1) for x in sample_df.wv.to_list()])\n"
   ]
  },
  {
   "cell_type": "code",
   "execution_count": 33,
   "metadata": {},
   "outputs": [
    {
     "data": {
      "text/plain": [
       "array([ 0.38559496, -0.9775177 , -0.39414936, -0.1721001 ,  0.03857432,\n",
       "        1.0376482 ,  0.7962078 ,  0.26480404, -0.31981573,  0.9934202 ,\n",
       "        0.22423853, -0.5533085 , -1.3706098 , -1.8103887 , -0.7405857 ,\n",
       "        0.12695286,  0.71789604, -1.9810565 ,  0.04373063, -0.9830181 ,\n",
       "       -0.44745192,  0.6412425 ,  0.55204755,  0.11231718, -0.37773204,\n",
       "        0.4291375 , -0.31242186, -0.53230596, -0.8828055 ,  0.7324333 ,\n",
       "       -0.78958267, -1.2788556 , -0.4888073 , -0.4726178 , -1.5964853 ,\n",
       "       -0.20289418, -1.1670744 , -1.1394066 , -0.78510064, -0.04912381,\n",
       "        1.0681186 ,  0.3050652 , -0.20289947,  1.0903221 ,  0.27361953,\n",
       "       -0.10477936, -0.08466606, -0.7468922 ,  1.30472   , -0.822988  ,\n",
       "        1.6658655 , -0.57859904,  0.20630872,  0.30368093, -0.27638108,\n",
       "        1.4492102 , -1.1738073 ,  0.42754334,  1.0768877 ,  0.16373268,\n",
       "        0.31682813,  0.40949723, -1.1404324 ,  1.0537012 , -1.8582664 ,\n",
       "       -1.0307117 ,  0.21902668,  1.253467  ,  0.24133699, -0.50477815,\n",
       "        0.3724284 , -0.08934165,  2.142546  , -0.50657666, -0.37846088,\n",
       "        0.9123829 ,  0.56088454,  0.37998316, -1.3583554 ,  1.0838138 ,\n",
       "       -0.628013  , -0.9219515 , -0.95332366,  1.3610108 , -0.00668237,\n",
       "        0.76038665,  0.7908957 ,  1.484646  ,  0.37162775, -0.96776474,\n",
       "        0.74023384, -0.2764719 , -1.2018532 , -0.5998389 ,  0.0290391 ,\n",
       "       -0.5414553 ,  0.7788587 ,  0.40922436,  1.0015461 , -0.12613522],\n",
       "      dtype=float32)"
      ]
     },
     "execution_count": 33,
     "metadata": {},
     "output_type": "execute_result"
    }
   ],
   "source": [
    "sample_df.wv.to_list()[0]"
   ]
  },
  {
   "cell_type": "code",
   "execution_count": 38,
   "metadata": {},
   "outputs": [
    {
     "data": {
      "text/html": [
       "<style>#sk-container-id-1 {color: black;background-color: white;}#sk-container-id-1 pre{padding: 0;}#sk-container-id-1 div.sk-toggleable {background-color: white;}#sk-container-id-1 label.sk-toggleable__label {cursor: pointer;display: block;width: 100%;margin-bottom: 0;padding: 0.3em;box-sizing: border-box;text-align: center;}#sk-container-id-1 label.sk-toggleable__label-arrow:before {content: \"▸\";float: left;margin-right: 0.25em;color: #696969;}#sk-container-id-1 label.sk-toggleable__label-arrow:hover:before {color: black;}#sk-container-id-1 div.sk-estimator:hover label.sk-toggleable__label-arrow:before {color: black;}#sk-container-id-1 div.sk-toggleable__content {max-height: 0;max-width: 0;overflow: hidden;text-align: left;background-color: #f0f8ff;}#sk-container-id-1 div.sk-toggleable__content pre {margin: 0.2em;color: black;border-radius: 0.25em;background-color: #f0f8ff;}#sk-container-id-1 input.sk-toggleable__control:checked~div.sk-toggleable__content {max-height: 200px;max-width: 100%;overflow: auto;}#sk-container-id-1 input.sk-toggleable__control:checked~label.sk-toggleable__label-arrow:before {content: \"▾\";}#sk-container-id-1 div.sk-estimator input.sk-toggleable__control:checked~label.sk-toggleable__label {background-color: #d4ebff;}#sk-container-id-1 div.sk-label input.sk-toggleable__control:checked~label.sk-toggleable__label {background-color: #d4ebff;}#sk-container-id-1 input.sk-hidden--visually {border: 0;clip: rect(1px 1px 1px 1px);clip: rect(1px, 1px, 1px, 1px);height: 1px;margin: -1px;overflow: hidden;padding: 0;position: absolute;width: 1px;}#sk-container-id-1 div.sk-estimator {font-family: monospace;background-color: #f0f8ff;border: 1px dotted black;border-radius: 0.25em;box-sizing: border-box;margin-bottom: 0.5em;}#sk-container-id-1 div.sk-estimator:hover {background-color: #d4ebff;}#sk-container-id-1 div.sk-parallel-item::after {content: \"\";width: 100%;border-bottom: 1px solid gray;flex-grow: 1;}#sk-container-id-1 div.sk-label:hover label.sk-toggleable__label {background-color: #d4ebff;}#sk-container-id-1 div.sk-serial::before {content: \"\";position: absolute;border-left: 1px solid gray;box-sizing: border-box;top: 0;bottom: 0;left: 50%;z-index: 0;}#sk-container-id-1 div.sk-serial {display: flex;flex-direction: column;align-items: center;background-color: white;padding-right: 0.2em;padding-left: 0.2em;position: relative;}#sk-container-id-1 div.sk-item {position: relative;z-index: 1;}#sk-container-id-1 div.sk-parallel {display: flex;align-items: stretch;justify-content: center;background-color: white;position: relative;}#sk-container-id-1 div.sk-item::before, #sk-container-id-1 div.sk-parallel-item::before {content: \"\";position: absolute;border-left: 1px solid gray;box-sizing: border-box;top: 0;bottom: 0;left: 50%;z-index: -1;}#sk-container-id-1 div.sk-parallel-item {display: flex;flex-direction: column;z-index: 1;position: relative;background-color: white;}#sk-container-id-1 div.sk-parallel-item:first-child::after {align-self: flex-end;width: 50%;}#sk-container-id-1 div.sk-parallel-item:last-child::after {align-self: flex-start;width: 50%;}#sk-container-id-1 div.sk-parallel-item:only-child::after {width: 0;}#sk-container-id-1 div.sk-dashed-wrapped {border: 1px dashed gray;margin: 0 0.4em 0.5em 0.4em;box-sizing: border-box;padding-bottom: 0.4em;background-color: white;}#sk-container-id-1 div.sk-label label {font-family: monospace;font-weight: bold;display: inline-block;line-height: 1.2em;}#sk-container-id-1 div.sk-label-container {text-align: center;}#sk-container-id-1 div.sk-container {/* jupyter's `normalize.less` sets `[hidden] { display: none; }` but bootstrap.min.css set `[hidden] { display: none !important; }` so we also need the `!important` here to be able to override the default hidden behavior on the sphinx rendered scikit-learn.org. See: https://github.com/scikit-learn/scikit-learn/issues/21755 */display: inline-block !important;position: relative;}#sk-container-id-1 div.sk-text-repr-fallback {display: none;}</style><div id=\"sk-container-id-1\" class=\"sk-top-container\"><div class=\"sk-text-repr-fallback\"><pre>PCA(n_components=2)</pre><b>In a Jupyter environment, please rerun this cell to show the HTML representation or trust the notebook. <br />On GitHub, the HTML representation is unable to render, please try loading this page with nbviewer.org.</b></div><div class=\"sk-container\" hidden><div class=\"sk-item\"><div class=\"sk-estimator sk-toggleable\"><input class=\"sk-toggleable__control sk-hidden--visually\" id=\"sk-estimator-id-1\" type=\"checkbox\" checked><label for=\"sk-estimator-id-1\" class=\"sk-toggleable__label sk-toggleable__label-arrow\">PCA</label><div class=\"sk-toggleable__content\"><pre>PCA(n_components=2)</pre></div></div></div></div></div>"
      ],
      "text/plain": [
       "PCA(n_components=2)"
      ]
     },
     "execution_count": 38,
     "metadata": {},
     "output_type": "execute_result"
    }
   ],
   "source": [
    "pca.fit(sample_df.wv.to_list())"
   ]
  },
  {
   "cell_type": "code",
   "execution_count": 44,
   "metadata": {},
   "outputs": [],
   "source": [
    "\n",
    "pca_sample = pd.DataFrame(pca.transform(sample_df.wv.to_list()), index = sample_df.index)\n",
    "pca_sample = pca_sample.add_prefix('PC_',)\n",
    "pca_df = sample_df.join(pca_sample)\n"
   ]
  },
  {
   "cell_type": "code",
   "execution_count": 47,
   "metadata": {},
   "outputs": [],
   "source": [
    "\n",
    "pca_df = pca_df.merge(df[['tweet_id', 'datetime', 'display_name', 'Before_or_after_controversy']], how='left', on='tweet_id')\n",
    "pca_df['ElonMusk'] = pca_df['display_name'].apply(lambda x : x=='ElonMusk')\n",
    "pca_df['datetime'] = pd.to_datetime(pca_df['datetime'])\n"
   ]
  },
  {
   "cell_type": "code",
   "execution_count": 20,
   "metadata": {},
   "outputs": [
    {
     "ename": "KeyboardInterrupt",
     "evalue": "",
     "output_type": "error",
     "traceback": [
      "\u001b[0;31m---------------------------------------------------------------------------\u001b[0m",
      "\u001b[0;31mKeyboardInterrupt\u001b[0m                         Traceback (most recent call last)",
      "\u001b[1;32m/Users/ipreoteasa/Desktop/Io/blog/IoanaFio/content/project/twitter_sentiment_tracking/3. EDA.ipynb Cell 24\u001b[0m in \u001b[0;36m<cell line: 1>\u001b[0;34m()\u001b[0m\n\u001b[0;32m----> <a href='vscode-notebook-cell:/Users/ipreoteasa/Desktop/Io/blog/IoanaFio/content/project/twitter_sentiment_tracking/3.%20EDA.ipynb#X63sZmlsZQ%3D%3D?line=0'>1</a>\u001b[0m pca_df[\u001b[39m'\u001b[39m\u001b[39mtweet\u001b[39m\u001b[39m'\u001b[39m] \u001b[39m=\u001b[39m pca_df\u001b[39m.\u001b[39;49mclean_tweet_text\u001b[39m.\u001b[39;49mstr\u001b[39m.\u001b[39;49mwrap(\u001b[39m15\u001b[39;49m)\n\u001b[1;32m      <a href='vscode-notebook-cell:/Users/ipreoteasa/Desktop/Io/blog/IoanaFio/content/project/twitter_sentiment_tracking/3.%20EDA.ipynb#X63sZmlsZQ%3D%3D?line=1'>2</a>\u001b[0m pca_df[\u001b[39m'\u001b[39m\u001b[39mtweet\u001b[39m\u001b[39m'\u001b[39m] \u001b[39m=\u001b[39m pca_df\u001b[39m.\u001b[39mtweet_hover\u001b[39m.\u001b[39mapply(\u001b[39mlambda\u001b[39;00m x: x\u001b[39m.\u001b[39mreplace(\u001b[39m'\u001b[39m\u001b[39m\\n\u001b[39;00m\u001b[39m'\u001b[39m, \u001b[39m'\u001b[39m\u001b[39m<br>\u001b[39m\u001b[39m'\u001b[39m))\n\u001b[1;32m      <a href='vscode-notebook-cell:/Users/ipreoteasa/Desktop/Io/blog/IoanaFio/content/project/twitter_sentiment_tracking/3.%20EDA.ipynb#X63sZmlsZQ%3D%3D?line=2'>3</a>\u001b[0m pca_df\u001b[39m.\u001b[39mhead(\u001b[39m2\u001b[39m)\n",
      "File \u001b[0;32m~/opt/anaconda3/envs/dev/lib/python3.10/site-packages/pandas/core/strings/accessor.py:125\u001b[0m, in \u001b[0;36mforbid_nonstring_types.<locals>._forbid_nonstring_types.<locals>.wrapper\u001b[0;34m(self, *args, **kwargs)\u001b[0m\n\u001b[1;32m    120\u001b[0m     msg \u001b[39m=\u001b[39m (\n\u001b[1;32m    121\u001b[0m         \u001b[39mf\u001b[39m\u001b[39m\"\u001b[39m\u001b[39mCannot use .str.\u001b[39m\u001b[39m{\u001b[39;00mfunc_name\u001b[39m}\u001b[39;00m\u001b[39m with values of \u001b[39m\u001b[39m\"\u001b[39m\n\u001b[1;32m    122\u001b[0m         \u001b[39mf\u001b[39m\u001b[39m\"\u001b[39m\u001b[39minferred dtype \u001b[39m\u001b[39m'\u001b[39m\u001b[39m{\u001b[39;00m\u001b[39mself\u001b[39m\u001b[39m.\u001b[39m_inferred_dtype\u001b[39m}\u001b[39;00m\u001b[39m'\u001b[39m\u001b[39m.\u001b[39m\u001b[39m\"\u001b[39m\n\u001b[1;32m    123\u001b[0m     )\n\u001b[1;32m    124\u001b[0m     \u001b[39mraise\u001b[39;00m \u001b[39mTypeError\u001b[39;00m(msg)\n\u001b[0;32m--> 125\u001b[0m \u001b[39mreturn\u001b[39;00m func(\u001b[39mself\u001b[39;49m, \u001b[39m*\u001b[39;49margs, \u001b[39m*\u001b[39;49m\u001b[39m*\u001b[39;49mkwargs)\n",
      "File \u001b[0;32m~/opt/anaconda3/envs/dev/lib/python3.10/site-packages/pandas/core/strings/accessor.py:2091\u001b[0m, in \u001b[0;36mStringMethods.wrap\u001b[0;34m(self, width, **kwargs)\u001b[0m\n\u001b[1;32m   2035\u001b[0m \u001b[39m@forbid_nonstring_types\u001b[39m([\u001b[39m\"\u001b[39m\u001b[39mbytes\u001b[39m\u001b[39m\"\u001b[39m])\n\u001b[1;32m   2036\u001b[0m \u001b[39mdef\u001b[39;00m \u001b[39mwrap\u001b[39m(\u001b[39mself\u001b[39m, width, \u001b[39m*\u001b[39m\u001b[39m*\u001b[39mkwargs):\n\u001b[1;32m   2037\u001b[0m     \u001b[39mr\u001b[39m\u001b[39m\"\"\"\u001b[39;00m\n\u001b[1;32m   2038\u001b[0m \u001b[39m    Wrap strings in Series/Index at specified line width.\u001b[39;00m\n\u001b[1;32m   2039\u001b[0m \n\u001b[0;32m   (...)\u001b[0m\n\u001b[1;32m   2089\u001b[0m \u001b[39m    dtype: object\u001b[39;00m\n\u001b[1;32m   2090\u001b[0m \u001b[39m    \"\"\"\u001b[39;00m\n\u001b[0;32m-> 2091\u001b[0m     result \u001b[39m=\u001b[39m \u001b[39mself\u001b[39;49m\u001b[39m.\u001b[39;49m_data\u001b[39m.\u001b[39;49marray\u001b[39m.\u001b[39;49m_str_wrap(width, \u001b[39m*\u001b[39;49m\u001b[39m*\u001b[39;49mkwargs)\n\u001b[1;32m   2092\u001b[0m     \u001b[39mreturn\u001b[39;00m \u001b[39mself\u001b[39m\u001b[39m.\u001b[39m_wrap_result(result)\n",
      "File \u001b[0;32m~/opt/anaconda3/envs/dev/lib/python3.10/site-packages/pandas/core/strings/object_array.py:355\u001b[0m, in \u001b[0;36mObjectStringArrayMixin._str_wrap\u001b[0;34m(self, width, **kwargs)\u001b[0m\n\u001b[1;32m    353\u001b[0m kwargs[\u001b[39m\"\u001b[39m\u001b[39mwidth\u001b[39m\u001b[39m\"\u001b[39m] \u001b[39m=\u001b[39m width\n\u001b[1;32m    354\u001b[0m tw \u001b[39m=\u001b[39m textwrap\u001b[39m.\u001b[39mTextWrapper(\u001b[39m*\u001b[39m\u001b[39m*\u001b[39mkwargs)\n\u001b[0;32m--> 355\u001b[0m \u001b[39mreturn\u001b[39;00m \u001b[39mself\u001b[39;49m\u001b[39m.\u001b[39;49m_str_map(\u001b[39mlambda\u001b[39;49;00m s: \u001b[39m\"\u001b[39;49m\u001b[39m\\n\u001b[39;49;00m\u001b[39m\"\u001b[39;49m\u001b[39m.\u001b[39;49mjoin(tw\u001b[39m.\u001b[39;49mwrap(s)))\n",
      "File \u001b[0;32m~/opt/anaconda3/envs/dev/lib/python3.10/site-packages/pandas/core/strings/object_array.py:71\u001b[0m, in \u001b[0;36mObjectStringArrayMixin._str_map\u001b[0;34m(self, f, na_value, dtype, convert)\u001b[0m\n\u001b[1;32m     69\u001b[0m map_convert \u001b[39m=\u001b[39m convert \u001b[39mand\u001b[39;00m \u001b[39mnot\u001b[39;00m np\u001b[39m.\u001b[39mall(mask)\n\u001b[1;32m     70\u001b[0m \u001b[39mtry\u001b[39;00m:\n\u001b[0;32m---> 71\u001b[0m     result \u001b[39m=\u001b[39m lib\u001b[39m.\u001b[39;49mmap_infer_mask(arr, f, mask\u001b[39m.\u001b[39;49mview(np\u001b[39m.\u001b[39;49muint8), map_convert)\n\u001b[1;32m     72\u001b[0m \u001b[39mexcept\u001b[39;00m (\u001b[39mTypeError\u001b[39;00m, \u001b[39mAttributeError\u001b[39;00m) \u001b[39mas\u001b[39;00m err:\n\u001b[1;32m     73\u001b[0m     \u001b[39m# Reraise the exception if callable `f` got wrong number of args.\u001b[39;00m\n\u001b[1;32m     74\u001b[0m     \u001b[39m# The user may want to be warned by this, instead of getting NaN\u001b[39;00m\n\u001b[1;32m     75\u001b[0m     p_err \u001b[39m=\u001b[39m (\n\u001b[1;32m     76\u001b[0m         \u001b[39mr\u001b[39m\u001b[39m\"\u001b[39m\u001b[39m((takes)|(missing)) (?(2)from \u001b[39m\u001b[39m\\\u001b[39m\u001b[39md+ to )?\u001b[39m\u001b[39m\\\u001b[39m\u001b[39md+ \u001b[39m\u001b[39m\"\u001b[39m\n\u001b[1;32m     77\u001b[0m         \u001b[39mr\u001b[39m\u001b[39m\"\u001b[39m\u001b[39m(?(3)required )positional arguments?\u001b[39m\u001b[39m\"\u001b[39m\n\u001b[1;32m     78\u001b[0m     )\n",
      "File \u001b[0;32m~/opt/anaconda3/envs/dev/lib/python3.10/site-packages/pandas/_libs/lib.pyx:2822\u001b[0m, in \u001b[0;36mpandas._libs.lib.map_infer_mask\u001b[0;34m()\u001b[0m\n",
      "File \u001b[0;32m~/opt/anaconda3/envs/dev/lib/python3.10/site-packages/pandas/core/strings/object_array.py:355\u001b[0m, in \u001b[0;36mObjectStringArrayMixin._str_wrap.<locals>.<lambda>\u001b[0;34m(s)\u001b[0m\n\u001b[1;32m    353\u001b[0m kwargs[\u001b[39m\"\u001b[39m\u001b[39mwidth\u001b[39m\u001b[39m\"\u001b[39m] \u001b[39m=\u001b[39m width\n\u001b[1;32m    354\u001b[0m tw \u001b[39m=\u001b[39m textwrap\u001b[39m.\u001b[39mTextWrapper(\u001b[39m*\u001b[39m\u001b[39m*\u001b[39mkwargs)\n\u001b[0;32m--> 355\u001b[0m \u001b[39mreturn\u001b[39;00m \u001b[39mself\u001b[39m\u001b[39m.\u001b[39m_str_map(\u001b[39mlambda\u001b[39;00m s: \u001b[39m\"\u001b[39m\u001b[39m\\n\u001b[39;00m\u001b[39m\"\u001b[39m\u001b[39m.\u001b[39mjoin(tw\u001b[39m.\u001b[39;49mwrap(s)))\n",
      "File \u001b[0;32m~/opt/anaconda3/envs/dev/lib/python3.10/textwrap.py:362\u001b[0m, in \u001b[0;36mTextWrapper.wrap\u001b[0;34m(self, text)\u001b[0m\n\u001b[1;32m    360\u001b[0m \u001b[39mif\u001b[39;00m \u001b[39mself\u001b[39m\u001b[39m.\u001b[39mfix_sentence_endings:\n\u001b[1;32m    361\u001b[0m     \u001b[39mself\u001b[39m\u001b[39m.\u001b[39m_fix_sentence_endings(chunks)\n\u001b[0;32m--> 362\u001b[0m \u001b[39mreturn\u001b[39;00m \u001b[39mself\u001b[39;49m\u001b[39m.\u001b[39;49m_wrap_chunks(chunks)\n",
      "File \u001b[0;32m~/opt/anaconda3/envs/dev/lib/python3.10/textwrap.py:290\u001b[0m, in \u001b[0;36mTextWrapper._wrap_chunks\u001b[0;34m(self, chunks)\u001b[0m\n\u001b[1;32m    287\u001b[0m \u001b[39mif\u001b[39;00m \u001b[39mself\u001b[39m\u001b[39m.\u001b[39mdrop_whitespace \u001b[39mand\u001b[39;00m chunks[\u001b[39m-\u001b[39m\u001b[39m1\u001b[39m]\u001b[39m.\u001b[39mstrip() \u001b[39m==\u001b[39m \u001b[39m'\u001b[39m\u001b[39m'\u001b[39m \u001b[39mand\u001b[39;00m lines:\n\u001b[1;32m    288\u001b[0m     \u001b[39mdel\u001b[39;00m chunks[\u001b[39m-\u001b[39m\u001b[39m1\u001b[39m]\n\u001b[0;32m--> 290\u001b[0m \u001b[39mwhile\u001b[39;00m chunks:\n\u001b[1;32m    291\u001b[0m     l \u001b[39m=\u001b[39m \u001b[39mlen\u001b[39m(chunks[\u001b[39m-\u001b[39m\u001b[39m1\u001b[39m])\n\u001b[1;32m    293\u001b[0m     \u001b[39m# Can at least squeeze this chunk onto the current line.\u001b[39;00m\n",
      "\u001b[0;31mKeyboardInterrupt\u001b[0m: "
     ]
    }
   ],
   "source": [
    "# takes over 17min to run\n",
    "pca_df['tweet'] = pca_df.clean_tweet_text.str.wrap(15)\n",
    "pca_df['tweet'] = pca_df.tweet_hover.apply(lambda x: x.replace('\\n', '<br>'))\n",
    "pca_df.head(2)\n"
   ]
  },
  {
   "cell_type": "code",
   "execution_count": 48,
   "metadata": {},
   "outputs": [],
   "source": [
    "pca_df_sample = pca_df.sample(n=1000, random_state=12345)\n",
    "# pca_df_sample.head()"
   ]
  },
  {
   "cell_type": "code",
   "execution_count": 54,
   "metadata": {},
   "outputs": [
    {
     "data": {
      "text/plain": [
       "Before    34413337\n",
       "After         3257\n",
       "Name: Before_or_after_controversy, dtype: int64"
      ]
     },
     "execution_count": 54,
     "metadata": {},
     "output_type": "execute_result"
    }
   ],
   "source": [
    "pca_df.Before_or_after_controversy.value_counts()"
   ]
  },
  {
   "cell_type": "code",
   "execution_count": null,
   "metadata": {},
   "outputs": [],
   "source": [
    "pca_"
   ]
  },
  {
   "cell_type": "code",
   "execution_count": 62,
   "metadata": {},
   "outputs": [
    {
     "name": "stdout",
     "output_type": "stream",
     "text": [
      "<class 'pandas.core.frame.DataFrame'>\n",
      "Int64Index: 1000 entries, 32131695 to 17938005\n",
      "Data columns (total 11 columns):\n",
      " #   Column                       Non-Null Count  Dtype              \n",
      "---  ------                       --------------  -----              \n",
      " 0   Unnamed: 0                   1000 non-null   int64              \n",
      " 1   tweet_id                     1000 non-null   float64            \n",
      " 2   clean_tweet_text             1000 non-null   object             \n",
      " 3   tokens                       1000 non-null   object             \n",
      " 4   wv                           1000 non-null   object             \n",
      " 5   PC_0                         1000 non-null   float64            \n",
      " 6   PC_1                         1000 non-null   float64            \n",
      " 7   datetime                     1000 non-null   datetime64[ns, UTC]\n",
      " 8   display_name                 1000 non-null   object             \n",
      " 9   Before_or_after_controversy  1000 non-null   object             \n",
      " 10  ElonMusk                     1000 non-null   bool               \n",
      "dtypes: bool(1), datetime64[ns, UTC](1), float64(3), int64(1), object(5)\n",
      "memory usage: 86.9+ KB\n"
     ]
    }
   ],
   "source": [
    "pca_df_sample.info()"
   ]
  },
  {
   "cell_type": "code",
   "execution_count": 63,
   "metadata": {},
   "outputs": [
    {
     "data": {
      "text/plain": [
       "<AxesSubplot:xlabel='PC_0', ylabel='PC_1'>"
      ]
     },
     "execution_count": 63,
     "metadata": {},
     "output_type": "execute_result"
    },
    {
     "data": {
      "image/png": "[encoded data removed]",
      "text/plain": [
       "<Figure size 640x480 with 1 Axes>"
      ]
     },
     "metadata": {},
     "output_type": "display_data"
    }
   ],
   "source": [
    "sns.scatterplot(\n",
    "            x = 'PC_0', \n",
    "            y='PC_1',\n",
    "            # hue=pca_df_sample['Before_or_after_controversy']\n",
    "            data = pca_df_sample\n",
    "            )"
   ]
  },
  {
   "cell_type": "code",
   "execution_count": 24,
   "metadata": {},
   "outputs": [
    {
     "ename": "ValueError",
     "evalue": "Mime type rendering requires nbformat>=4.2.0 but it is not installed",
     "output_type": "error",
     "traceback": [
      "\u001b[0;31m---------------------------------------------------------------------------\u001b[0m",
      "\u001b[0;31mValueError\u001b[0m                                Traceback (most recent call last)",
      "\u001b[1;32m/Users/ipreoteasa/Desktop/Io/blog/IoanaFio/content/project/twitter_sentiment_tracking/3. EDA.ipynb Cell 26\u001b[0m in \u001b[0;36m<cell line: 15>\u001b[0;34m()\u001b[0m\n\u001b[1;32m      <a href='vscode-notebook-cell:/Users/ipreoteasa/Desktop/Io/blog/IoanaFio/content/project/twitter_sentiment_tracking/3.%20EDA.ipynb#X61sZmlsZQ%3D%3D?line=0'>1</a>\u001b[0m fig \u001b[39m=\u001b[39m px\u001b[39m.\u001b[39mscatter(pca_df\u001b[39m.\u001b[39msample(n\u001b[39m=\u001b[39m\u001b[39m1000\u001b[39m, random_state\u001b[39m=\u001b[39m\u001b[39m12345\u001b[39m), \n\u001b[1;32m      <a href='vscode-notebook-cell:/Users/ipreoteasa/Desktop/Io/blog/IoanaFio/content/project/twitter_sentiment_tracking/3.%20EDA.ipynb#X61sZmlsZQ%3D%3D?line=1'>2</a>\u001b[0m             \u001b[39m'\u001b[39m\u001b[39mPC_0\u001b[39m\u001b[39m'\u001b[39m, \u001b[39m'\u001b[39m\u001b[39mPC_1\u001b[39m\u001b[39m'\u001b[39m, hover_name\u001b[39m=\u001b[39m\u001b[39m'\u001b[39m\u001b[39mdisplay_name\u001b[39m\u001b[39m'\u001b[39m,  \n\u001b[1;32m      <a href='vscode-notebook-cell:/Users/ipreoteasa/Desktop/Io/blog/IoanaFio/content/project/twitter_sentiment_tracking/3.%20EDA.ipynb#X61sZmlsZQ%3D%3D?line=2'>3</a>\u001b[0m             \u001b[39m# animation_frame=\"Before_or_after_controversy\", \u001b[39;00m\n\u001b[0;32m   (...)\u001b[0m\n\u001b[1;32m     <a href='vscode-notebook-cell:/Users/ipreoteasa/Desktop/Io/blog/IoanaFio/content/project/twitter_sentiment_tracking/3.%20EDA.ipynb#X61sZmlsZQ%3D%3D?line=9'>10</a>\u001b[0m             }, color\u001b[39m=\u001b[39m\u001b[39m'\u001b[39m\u001b[39mBefore_or_after_controversy\u001b[39m\u001b[39m'\u001b[39m,\n\u001b[1;32m     <a href='vscode-notebook-cell:/Users/ipreoteasa/Desktop/Io/blog/IoanaFio/content/project/twitter_sentiment_tracking/3.%20EDA.ipynb#X61sZmlsZQ%3D%3D?line=10'>11</a>\u001b[0m             )\n\u001b[1;32m     <a href='vscode-notebook-cell:/Users/ipreoteasa/Desktop/Io/blog/IoanaFio/content/project/twitter_sentiment_tracking/3.%20EDA.ipynb#X61sZmlsZQ%3D%3D?line=13'>14</a>\u001b[0m fig[\u001b[39m\"\u001b[39m\u001b[39mlayout\u001b[39m\u001b[39m\"\u001b[39m]\u001b[39m.\u001b[39mpop(\u001b[39m\"\u001b[39m\u001b[39mupdatemenus\u001b[39m\u001b[39m\"\u001b[39m) \u001b[39m# optional, drop animation buttons\u001b[39;00m\n\u001b[0;32m---> <a href='vscode-notebook-cell:/Users/ipreoteasa/Desktop/Io/blog/IoanaFio/content/project/twitter_sentiment_tracking/3.%20EDA.ipynb#X61sZmlsZQ%3D%3D?line=14'>15</a>\u001b[0m fig\u001b[39m.\u001b[39;49mshow()\n",
      "File \u001b[0;32m~/opt/anaconda3/envs/dev/lib/python3.10/site-packages/plotly/basedatatypes.py:3398\u001b[0m, in \u001b[0;36mBaseFigure.show\u001b[0;34m(self, *args, **kwargs)\u001b[0m\n\u001b[1;32m   3365\u001b[0m \u001b[39m\"\"\"\u001b[39;00m\n\u001b[1;32m   3366\u001b[0m \u001b[39mShow a figure using either the default renderer(s) or the renderer(s)\u001b[39;00m\n\u001b[1;32m   3367\u001b[0m \u001b[39mspecified by the renderer argument\u001b[39;00m\n\u001b[0;32m   (...)\u001b[0m\n\u001b[1;32m   3394\u001b[0m \u001b[39mNone\u001b[39;00m\n\u001b[1;32m   3395\u001b[0m \u001b[39m\"\"\"\u001b[39;00m\n\u001b[1;32m   3396\u001b[0m \u001b[39mimport\u001b[39;00m \u001b[39mplotly\u001b[39;00m\u001b[39m.\u001b[39;00m\u001b[39mio\u001b[39;00m \u001b[39mas\u001b[39;00m \u001b[39mpio\u001b[39;00m\n\u001b[0;32m-> 3398\u001b[0m \u001b[39mreturn\u001b[39;00m pio\u001b[39m.\u001b[39;49mshow(\u001b[39mself\u001b[39;49m, \u001b[39m*\u001b[39;49margs, \u001b[39m*\u001b[39;49m\u001b[39m*\u001b[39;49mkwargs)\n",
      "File \u001b[0;32m~/opt/anaconda3/envs/dev/lib/python3.10/site-packages/plotly/io/_renderers.py:396\u001b[0m, in \u001b[0;36mshow\u001b[0;34m(fig, renderer, validate, **kwargs)\u001b[0m\n\u001b[1;32m    391\u001b[0m         \u001b[39mraise\u001b[39;00m \u001b[39mValueError\u001b[39;00m(\n\u001b[1;32m    392\u001b[0m             \u001b[39m\"\u001b[39m\u001b[39mMime type rendering requires ipython but it is not installed\u001b[39m\u001b[39m\"\u001b[39m\n\u001b[1;32m    393\u001b[0m         )\n\u001b[1;32m    395\u001b[0m     \u001b[39mif\u001b[39;00m \u001b[39mnot\u001b[39;00m nbformat \u001b[39mor\u001b[39;00m LooseVersion(nbformat\u001b[39m.\u001b[39m__version__) \u001b[39m<\u001b[39m LooseVersion(\u001b[39m\"\u001b[39m\u001b[39m4.2.0\u001b[39m\u001b[39m\"\u001b[39m):\n\u001b[0;32m--> 396\u001b[0m         \u001b[39mraise\u001b[39;00m \u001b[39mValueError\u001b[39;00m(\n\u001b[1;32m    397\u001b[0m             \u001b[39m\"\u001b[39m\u001b[39mMime type rendering requires nbformat>=4.2.0 but it is not installed\u001b[39m\u001b[39m\"\u001b[39m\n\u001b[1;32m    398\u001b[0m         )\n\u001b[1;32m    400\u001b[0m     ipython_display\u001b[39m.\u001b[39mdisplay(bundle, raw\u001b[39m=\u001b[39m\u001b[39mTrue\u001b[39;00m)\n\u001b[1;32m    402\u001b[0m \u001b[39m# external renderers\u001b[39;00m\n",
      "\u001b[0;31mValueError\u001b[0m: Mime type rendering requires nbformat>=4.2.0 but it is not installed"
     ]
    }
   ],
   "source": [
    "\n",
    "\n",
    "# fig = \n",
    "px.scatter(pca_df_sample.sample(n=100, random_state=12345), \n",
    "            'PC_0', 'PC_1', hover_name='display_name',  \n",
    "            # animation_frame=\"Before_or_after_controversy\", \n",
    "            # animation_group=\"display_name\",\n",
    "            hover_data={\n",
    "                'PC_0':False,\n",
    "                'PC_1':False, \n",
    "                'clean_tweet_text': True,\n",
    "                'ElonMusk':False,\n",
    "            }, color='Before_or_after_controversy',\n",
    "            )\n",
    "            \n",
    "\n",
    "# fig[\"layout\"].pop(\"updatemenus\") # optional, drop animation buttons\n",
    "# fig.show()"
   ]
  },
  {
   "cell_type": "markdown",
   "metadata": {},
   "source": [
    "<a id=one ><a/> \n",
    "\n",
    "## 4. Clustering\n",
    "    \n",
    "[LINK to table of contents](#contents)\n",
    "\n",
    "To be able to cluster our tweets, we need to convert them to vector form first. To do that, we will be using word vectors from huggingface:\n",
    "1. Load up huggingface pre-trained word vectors\n",
    "2. Load up a pretrained sentiment analysis model\n",
    "3. "
   ]
  },
  {
   "cell_type": "code",
   "execution_count": 1,
   "metadata": {},
   "outputs": [
    {
     "ename": "",
     "evalue": "",
     "output_type": "error",
     "traceback": [
      "\u001b[1;31mCanceled future for execute_request message before replies were done"
     ]
    },
    {
     "ename": "",
     "evalue": "",
     "output_type": "error",
     "traceback": [
      "\u001b[1;31mThe Kernel crashed while executing code in the the current cell or a previous cell. Please review the code in the cell(s) to identify a possible cause of the failure. Click <a href='https://aka.ms/vscodeJupyterKernelCrash'>here</a> for more info. View Jupyter <a href='command:jupyter.viewOutput'>log</a> for further details."
     ]
    }
   ],
   "source": [
    "from transformers import BertTokenizer, TFBertForSequenceClassification, BertPreTrainedModel\n",
    "from transformers import InputExample, InputFeatures\n",
    "from transformers import AutoModelForSequenceClassification\n",
    "from transformers import TFAutoModelForSequenceClassification\n",
    "from transformers import AutoTokenizer\n",
    "import numpy as np\n",
    "import pandas as pd\n",
    "from scipy.special import softmax\n",
    "import csv\n",
    "import urllib.request"
   ]
  },
  {
   "cell_type": "code",
   "execution_count": 17,
   "metadata": {},
   "outputs": [],
   "source": [
    "\n",
    "#pre-trained tokenizer\n",
    "tokenizer = BertTokenizer.from_pretrained(\"bert-base-uncased\")\n"
   ]
  },
  {
   "cell_type": "code",
   "execution_count": 22,
   "metadata": {},
   "outputs": [],
   "source": [
    "from transformers import pipeline\n"
   ]
  },
  {
   "cell_type": "code",
   "execution_count": 23,
   "metadata": {},
   "outputs": [
    {
     "name": "stderr",
     "output_type": "stream",
     "text": [
      "No model was supplied, defaulted to distilbert-base-uncased-finetuned-sst-2-english (https://huggingface.co/distilbert-base-uncased-finetuned-sst-2-english)\n",
      "Downloading: 100%|██████████| 629/629 [00:00<00:00, 231kB/s]\n",
      "Downloading: 100%|██████████| 255M/255M [00:13<00:00, 19.6MB/s] \n"
     ]
    },
    {
     "ename": "",
     "evalue": "",
     "output_type": "error",
     "traceback": [
      "\u001b[1;31mCanceled future for execute_request message before replies were done"
     ]
    },
    {
     "ename": "",
     "evalue": "",
     "output_type": "error",
     "traceback": [
      "\u001b[1;31mThe Kernel crashed while executing code in the the current cell or a previous cell. Please review the code in the cell(s) to identify a possible cause of the failure. Click <a href='https://aka.ms/vscodeJupyterKernelCrash'>here</a> for more info. View Jupyter <a href='command:jupyter.viewOutput'>log</a> for further details."
     ]
    }
   ],
   "source": [
    "task = 'sentiment'\n",
    "MODEL = f\"cardiffnlp/twitter-roberta-base-{task}\"\n",
    "\n",
    "tokenizer = AutoTokenizer.from_pretrained(MODEL)\n",
    "\n",
    "# download label mapping\n",
    "labels=[]\n",
    "mapping_link = f\"https://raw.githubusercontent.com/cardiffnlp/tweeteval/main/datasets/{task}/mapping.txt\"\n",
    "with urllib.request.urlopen(mapping_link) as f:\n",
    "    html = f.read().decode('utf-8').split(\"\\n\")\n",
    "    csvreader = csv.reader(html, delimiter='\\t')\n",
    "labels = [row[1] for row in csvreader if len(row) > 1]\n",
    "\n",
    "# PT\n",
    "model = AutoModelForSequenceClassification.from_pretrained(MODEL)\n",
    "model.save_pretrained(MODEL)"
   ]
  },
  {
   "cell_type": "code",
   "execution_count": 18,
   "metadata": {},
   "outputs": [
    {
     "ename": "TypeError",
     "evalue": "'NoneType' object is not callable",
     "output_type": "error",
     "traceback": [
      "\u001b[0;31m---------------------------------------------------------------------------\u001b[0m",
      "\u001b[0;31mTypeError\u001b[0m                                 Traceback (most recent call last)",
      "\u001b[1;32m/Users/ipreoteasa/Desktop/Io/blog/IoanaFio/content/project/twitter_sentiment_tracking/3. EDA.ipynb Cell 16\u001b[0m in \u001b[0;36m<cell line: 2>\u001b[0;34m()\u001b[0m\n\u001b[1;32m      <a href='vscode-notebook-cell:/Users/ipreoteasa/Desktop/Io/blog/IoanaFio/content/project/twitter_sentiment_tracking/3.%20EDA.ipynb#X46sZmlsZQ%3D%3D?line=0'>1</a>\u001b[0m \u001b[39m#pretrained classifier\u001b[39;00m\n\u001b[0;32m----> <a href='vscode-notebook-cell:/Users/ipreoteasa/Desktop/Io/blog/IoanaFio/content/project/twitter_sentiment_tracking/3.%20EDA.ipynb#X46sZmlsZQ%3D%3D?line=1'>2</a>\u001b[0m model \u001b[39m=\u001b[39m TFBertForSequenceClassification\u001b[39m.\u001b[39;49mfrom_pretrained(\u001b[39m\"\u001b[39;49m\u001b[39mbert-base-uncased\u001b[39;49m\u001b[39m\"\u001b[39;49m)\n",
      "\u001b[0;31mTypeError\u001b[0m: 'NoneType' object is not callable"
     ]
    }
   ],
   "source": [
    "\n",
    "#pretrained classifier\n",
    "model = TFBertForSequenceClassification.from_pretrained(\"bert-base-uncased\")\n"
   ]
  },
  {
   "cell_type": "code",
   "execution_count": 20,
   "metadata": {},
   "outputs": [
    {
     "name": "stdout",
     "output_type": "stream",
     "text": [
      "Help on class TFBertForSequenceClassification in module transformers.utils.dummy_tf_objects:\n",
      "\n",
      "class TFBertForSequenceClassification(builtins.object)\n",
      " |  TFBertForSequenceClassification(*args, **kwargs)\n",
      " |  \n",
      " |  Methods defined here:\n",
      " |  \n",
      " |  __init__(self, *args, **kwargs)\n",
      " |      Initialize self.  See help(type(self)) for accurate signature.\n",
      " |  \n",
      " |  ----------------------------------------------------------------------\n",
      " |  Data descriptors defined here:\n",
      " |  \n",
      " |  __dict__\n",
      " |      dictionary for instance variables (if defined)\n",
      " |  \n",
      " |  __weakref__\n",
      " |      list of weak references to the object (if defined)\n",
      "\n"
     ]
    }
   ],
   "source": []
  },
  {
   "cell_type": "code",
   "execution_count": 14,
   "metadata": {},
   "outputs": [
    {
     "name": "stderr",
     "output_type": "stream",
     "text": [
      "2022-10-11 09:02:12.756707: I tensorflow/core/platform/cpu_feature_guard.cc:193] This TensorFlow binary is optimized with oneAPI Deep Neural Network Library (oneDNN) to use the following CPU instructions in performance-critical operations:  AVX2 AVX512F AVX512_VNNI FMA\n",
      "To enable them in other operations, rebuild TensorFlow with the appropriate compiler flags.\n"
     ]
    },
    {
     "data": {
      "text/plain": [
       "'2.10.0'"
      ]
     },
     "execution_count": 14,
     "metadata": {},
     "output_type": "execute_result"
    }
   ],
   "source": [
    "import tensorflow as tf\n",
    "tf.version.VERSION"
   ]
  },
  {
   "cell_type": "code",
   "execution_count": 11,
   "metadata": {},
   "outputs": [
    {
     "name": "stdout",
     "output_type": "stream",
     "text": [
      "Requirement already satisfied: tensorflow in /Users/ipreoteasa/opt/anaconda3/envs/dev/lib/python3.10/site-packages (2.10.0)\n",
      "Requirement already satisfied: opt-einsum>=2.3.2 in /Users/ipreoteasa/opt/anaconda3/envs/dev/lib/python3.10/site-packages (from tensorflow) (3.3.0)\n",
      "Requirement already satisfied: numpy>=1.20 in /Users/ipreoteasa/opt/anaconda3/envs/dev/lib/python3.10/site-packages (from tensorflow) (1.23.1)\n",
      "Requirement already satisfied: packaging in /Users/ipreoteasa/opt/anaconda3/envs/dev/lib/python3.10/site-packages (from tensorflow) (21.3)\n",
      "Requirement already satisfied: google-pasta>=0.1.1 in /Users/ipreoteasa/opt/anaconda3/envs/dev/lib/python3.10/site-packages (from tensorflow) (0.2.0)\n",
      "Requirement already satisfied: tensorboard<2.11,>=2.10 in /Users/ipreoteasa/opt/anaconda3/envs/dev/lib/python3.10/site-packages (from tensorflow) (2.10.1)\n",
      "Requirement already satisfied: typing-extensions>=3.6.6 in /Users/ipreoteasa/opt/anaconda3/envs/dev/lib/python3.10/site-packages (from tensorflow) (4.3.0)\n",
      "Requirement already satisfied: tensorflow-estimator<2.11,>=2.10.0 in /Users/ipreoteasa/opt/anaconda3/envs/dev/lib/python3.10/site-packages (from tensorflow) (2.10.0)\n",
      "Requirement already satisfied: wrapt>=1.11.0 in /Users/ipreoteasa/opt/anaconda3/envs/dev/lib/python3.10/site-packages (from tensorflow) (1.14.1)\n",
      "Requirement already satisfied: termcolor>=1.1.0 in /Users/ipreoteasa/opt/anaconda3/envs/dev/lib/python3.10/site-packages (from tensorflow) (2.0.1)\n",
      "Requirement already satisfied: astunparse>=1.6.0 in /Users/ipreoteasa/opt/anaconda3/envs/dev/lib/python3.10/site-packages (from tensorflow) (1.6.3)\n",
      "Requirement already satisfied: flatbuffers>=2.0 in /Users/ipreoteasa/opt/anaconda3/envs/dev/lib/python3.10/site-packages (from tensorflow) (22.9.24)\n",
      "Requirement already satisfied: setuptools in /Users/ipreoteasa/opt/anaconda3/envs/dev/lib/python3.10/site-packages (from tensorflow) (63.4.1)\n",
      "Requirement already satisfied: six>=1.12.0 in /Users/ipreoteasa/opt/anaconda3/envs/dev/lib/python3.10/site-packages (from tensorflow) (1.16.0)\n",
      "Requirement already satisfied: h5py>=2.9.0 in /Users/ipreoteasa/opt/anaconda3/envs/dev/lib/python3.10/site-packages (from tensorflow) (3.7.0)\n",
      "Requirement already satisfied: protobuf>=3.9.2 in /Users/ipreoteasa/opt/anaconda3/envs/dev/lib/python3.10/site-packages (from tensorflow) (4.21.7)\n",
      "Requirement already satisfied: keras<2.11,>=2.10.0 in /Users/ipreoteasa/opt/anaconda3/envs/dev/lib/python3.10/site-packages (from tensorflow) (2.10.0)\n",
      "Requirement already satisfied: keras-preprocessing>=1.1.1 in /Users/ipreoteasa/opt/anaconda3/envs/dev/lib/python3.10/site-packages (from tensorflow) (1.1.2)\n",
      "Requirement already satisfied: absl-py>=1.0.0 in /Users/ipreoteasa/opt/anaconda3/envs/dev/lib/python3.10/site-packages (from tensorflow) (1.2.0)\n",
      "Requirement already satisfied: gast<=0.4.0,>=0.2.1 in /Users/ipreoteasa/opt/anaconda3/envs/dev/lib/python3.10/site-packages (from tensorflow) (0.4.0)\n",
      "Requirement already satisfied: grpcio<2.0,>=1.24.3 in /Users/ipreoteasa/opt/anaconda3/envs/dev/lib/python3.10/site-packages (from tensorflow) (1.49.1)\n",
      "Requirement already satisfied: wheel<1.0,>=0.23.0 in /Users/ipreoteasa/opt/anaconda3/envs/dev/lib/python3.10/site-packages (from astunparse>=1.6.0->tensorflow) (0.37.1)\n",
      "Requirement already satisfied: google-auth-oauthlib<0.5,>=0.4.1 in /Users/ipreoteasa/opt/anaconda3/envs/dev/lib/python3.10/site-packages (from tensorboard<2.11,>=2.10->tensorflow) (0.4.6)\n",
      "Requirement already satisfied: requests<3,>=2.21.0 in /Users/ipreoteasa/opt/anaconda3/envs/dev/lib/python3.10/site-packages (from tensorboard<2.11,>=2.10->tensorflow) (2.28.1)\n",
      "Requirement already satisfied: markdown>=2.6.8 in /Users/ipreoteasa/opt/anaconda3/envs/dev/lib/python3.10/site-packages (from tensorboard<2.11,>=2.10->tensorflow) (3.4.1)\n",
      "Requirement already satisfied: google-auth<3,>=1.6.3 in /Users/ipreoteasa/opt/anaconda3/envs/dev/lib/python3.10/site-packages (from tensorboard<2.11,>=2.10->tensorflow) (2.12.0)\n",
      "Requirement already satisfied: tensorboard-plugin-wit>=1.6.0 in /Users/ipreoteasa/opt/anaconda3/envs/dev/lib/python3.10/site-packages (from tensorboard<2.11,>=2.10->tensorflow) (1.8.1)\n",
      "Requirement already satisfied: tensorboard-data-server<0.7.0,>=0.6.0 in /Users/ipreoteasa/opt/anaconda3/envs/dev/lib/python3.10/site-packages (from tensorboard<2.11,>=2.10->tensorflow) (0.6.1)\n",
      "Requirement already satisfied: werkzeug>=1.0.1 in /Users/ipreoteasa/opt/anaconda3/envs/dev/lib/python3.10/site-packages (from tensorboard<2.11,>=2.10->tensorflow) (2.2.2)\n",
      "Requirement already satisfied: pyparsing!=3.0.5,>=2.0.2 in /Users/ipreoteasa/opt/anaconda3/envs/dev/lib/python3.10/site-packages (from packaging->tensorflow) (3.0.9)\n",
      "Requirement already satisfied: rsa<5,>=3.1.4 in /Users/ipreoteasa/opt/anaconda3/envs/dev/lib/python3.10/site-packages (from google-auth<3,>=1.6.3->tensorboard<2.11,>=2.10->tensorflow) (4.9)\n",
      "Requirement already satisfied: pyasn1-modules>=0.2.1 in /Users/ipreoteasa/opt/anaconda3/envs/dev/lib/python3.10/site-packages (from google-auth<3,>=1.6.3->tensorboard<2.11,>=2.10->tensorflow) (0.2.8)\n",
      "Requirement already satisfied: cachetools<6.0,>=2.0.0 in /Users/ipreoteasa/opt/anaconda3/envs/dev/lib/python3.10/site-packages (from google-auth<3,>=1.6.3->tensorboard<2.11,>=2.10->tensorflow) (5.2.0)\n",
      "Requirement already satisfied: requests-oauthlib>=0.7.0 in /Users/ipreoteasa/opt/anaconda3/envs/dev/lib/python3.10/site-packages (from google-auth-oauthlib<0.5,>=0.4.1->tensorboard<2.11,>=2.10->tensorflow) (1.3.1)\n",
      "Requirement already satisfied: urllib3<1.27,>=1.21.1 in /Users/ipreoteasa/opt/anaconda3/envs/dev/lib/python3.10/site-packages (from requests<3,>=2.21.0->tensorboard<2.11,>=2.10->tensorflow) (1.26.11)\n",
      "Requirement already satisfied: charset-normalizer<3,>=2 in /Users/ipreoteasa/opt/anaconda3/envs/dev/lib/python3.10/site-packages (from requests<3,>=2.21.0->tensorboard<2.11,>=2.10->tensorflow) (2.0.4)\n",
      "Requirement already satisfied: idna<4,>=2.5 in /Users/ipreoteasa/opt/anaconda3/envs/dev/lib/python3.10/site-packages (from requests<3,>=2.21.0->tensorboard<2.11,>=2.10->tensorflow) (3.3)\n",
      "Requirement already satisfied: certifi>=2017.4.17 in /Users/ipreoteasa/opt/anaconda3/envs/dev/lib/python3.10/site-packages (from requests<3,>=2.21.0->tensorboard<2.11,>=2.10->tensorflow) (2022.9.24)\n",
      "Requirement already satisfied: MarkupSafe>=2.1.1 in /Users/ipreoteasa/opt/anaconda3/envs/dev/lib/python3.10/site-packages (from werkzeug>=1.0.1->tensorboard<2.11,>=2.10->tensorflow) (2.1.1)\n",
      "Requirement already satisfied: pyasn1<0.5.0,>=0.4.6 in /Users/ipreoteasa/opt/anaconda3/envs/dev/lib/python3.10/site-packages (from pyasn1-modules>=0.2.1->google-auth<3,>=1.6.3->tensorboard<2.11,>=2.10->tensorflow) (0.4.8)\n",
      "Requirement already satisfied: oauthlib>=3.0.0 in /Users/ipreoteasa/opt/anaconda3/envs/dev/lib/python3.10/site-packages (from requests-oauthlib>=0.7.0->google-auth-oauthlib<0.5,>=0.4.1->tensorboard<2.11,>=2.10->tensorflow) (3.2.1)\n"
     ]
    }
   ],
   "source": [
    "!pip install tensorflow"
   ]
  },
  {
   "cell_type": "code",
   "execution_count": 7,
   "metadata": {},
   "outputs": [
    {
     "name": "stdout",
     "output_type": "stream",
     "text": [
      "<class 'pandas.core.frame.DataFrame'>\n",
      "Index: 25396 entries, 157 to 516558\n",
      "Data columns (total 9 columns):\n",
      " #   Column                     Non-Null Count  Dtype  \n",
      "---  ------                     --------------  -----  \n",
      " 0   tweet_id                   25396 non-null  float64\n",
      " 1   datetime                   25396 non-null  object \n",
      " 2   display_name               25396 non-null  object \n",
      " 3   tweet_text                 25396 non-null  object \n",
      " 4   User_id                    25355 non-null  object \n",
      " 5   extracted_twitter_handles  25396 non-null  object \n",
      " 6   extracted_URLs             25396 non-null  object \n",
      " 7   extracted_hashtags         25396 non-null  object \n",
      " 8   clean_tweet_text           23993 non-null  object \n",
      "dtypes: float64(1), object(8)\n",
      "memory usage: 1.9+ MB\n"
     ]
    }
   ],
   "source": [
    "# let's subselect for tweets directed at ElonMusk:\n",
    "at_elon = df.loc[df.extracted_twitter_handles.apply(lambda x : 'elonmusk' in x if x==x else False)]\n",
    "at_elon.info()"
   ]
  },
  {
   "cell_type": "code",
   "execution_count": 8,
   "metadata": {},
   "outputs": [
    {
     "data": {
      "text/html": [
       "<div>\n",
       "<style scoped>\n",
       "    .dataframe tbody tr th:only-of-type {\n",
       "        vertical-align: middle;\n",
       "    }\n",
       "\n",
       "    .dataframe tbody tr th {\n",
       "        vertical-align: top;\n",
       "    }\n",
       "\n",
       "    .dataframe thead th {\n",
       "        text-align: right;\n",
       "    }\n",
       "</style>\n",
       "<table border=\"1\" class=\"dataframe\">\n",
       "  <thead>\n",
       "    <tr style=\"text-align: right;\">\n",
       "      <th></th>\n",
       "      <th>tweet_id</th>\n",
       "      <th>datetime</th>\n",
       "      <th>display_name</th>\n",
       "      <th>tweet_text</th>\n",
       "      <th>User_id</th>\n",
       "      <th>extracted_twitter_handles</th>\n",
       "      <th>extracted_URLs</th>\n",
       "      <th>extracted_hashtags</th>\n",
       "      <th>clean_tweet_text</th>\n",
       "    </tr>\n",
       "  </thead>\n",
       "  <tbody>\n",
       "    <tr>\n",
       "      <th>516535</th>\n",
       "      <td>1.578353e+18</td>\n",
       "      <td>2022-10-07 11:52:36+00:00</td>\n",
       "      <td>86kristi</td>\n",
       "      <td>Be like Stephen King , not like @elonmusk 🥱\\n#...</td>\n",
       "      <td>342630992.0</td>\n",
       "      <td>['@elonmusk']</td>\n",
       "      <td>['https://t.co/AYVZeyx0Ec']</td>\n",
       "      <td>['#StandWithUkraine']</td>\n",
       "      <td>Be like Stephen King  not like  🥱 ✊🏻🇺🇦</td>\n",
       "    </tr>\n",
       "    <tr>\n",
       "      <th>516536</th>\n",
       "      <td>1.578340e+18</td>\n",
       "      <td>2022-10-07 11:03:49+00:00</td>\n",
       "      <td>86kristi</td>\n",
       "      <td>@Podolyak_M @NobelPrize Feels like kinda bond ...</td>\n",
       "      <td>342630992.0</td>\n",
       "      <td>['@Podolyak_M', '@NobelPrize', '@elonmusk']</td>\n",
       "      <td>[]</td>\n",
       "      <td>[]</td>\n",
       "      <td>Feels like kinda bond between them and  🪢</td>\n",
       "    </tr>\n",
       "    <tr>\n",
       "      <th>516548</th>\n",
       "      <td>1.576997e+18</td>\n",
       "      <td>2022-10-03 18:05:41+00:00</td>\n",
       "      <td>86kristi</td>\n",
       "      <td>@elonmusk Everything was decided in 1991!!!</td>\n",
       "      <td>342630992.0</td>\n",
       "      <td>['@elonmusk']</td>\n",
       "      <td>[]</td>\n",
       "      <td>[]</td>\n",
       "      <td>Everything was decided in 1991</td>\n",
       "    </tr>\n",
       "    <tr>\n",
       "      <th>516549</th>\n",
       "      <td>1.576993e+18</td>\n",
       "      <td>2022-10-03 17:51:59+00:00</td>\n",
       "      <td>86kristi</td>\n",
       "      <td>@elonmusk Dear Elon, you just dropped down tha...</td>\n",
       "      <td>342630992.0</td>\n",
       "      <td>['@elonmusk']</td>\n",
       "      <td>[]</td>\n",
       "      <td>[]</td>\n",
       "      <td>Dear Elon you just dropped down than Putin its...</td>\n",
       "    </tr>\n",
       "    <tr>\n",
       "      <th>516558</th>\n",
       "      <td>1.573978e+18</td>\n",
       "      <td>2022-09-25 10:08:10+00:00</td>\n",
       "      <td>86kristi</td>\n",
       "      <td>Dear @elonmusk brave Ukrainian friends &amp;amp; s...</td>\n",
       "      <td>342630992.0</td>\n",
       "      <td>['@elonmusk']</td>\n",
       "      <td>['https://t.co/ZuwvrrbuhQ']</td>\n",
       "      <td>['#Starlink', '#StandWithUkraine', '#Starlink'...</td>\n",
       "      <td>Dear  brave Ukrainian friends amp soldiers are...</td>\n",
       "    </tr>\n",
       "  </tbody>\n",
       "</table>\n",
       "</div>"
      ],
      "text/plain": [
       "            tweet_id                   datetime display_name  \\\n",
       "516535  1.578353e+18  2022-10-07 11:52:36+00:00     86kristi   \n",
       "516536  1.578340e+18  2022-10-07 11:03:49+00:00     86kristi   \n",
       "516548  1.576997e+18  2022-10-03 18:05:41+00:00     86kristi   \n",
       "516549  1.576993e+18  2022-10-03 17:51:59+00:00     86kristi   \n",
       "516558  1.573978e+18  2022-09-25 10:08:10+00:00     86kristi   \n",
       "\n",
       "                                               tweet_text      User_id  \\\n",
       "516535  Be like Stephen King , not like @elonmusk 🥱\\n#...  342630992.0   \n",
       "516536  @Podolyak_M @NobelPrize Feels like kinda bond ...  342630992.0   \n",
       "516548        @elonmusk Everything was decided in 1991!!!  342630992.0   \n",
       "516549  @elonmusk Dear Elon, you just dropped down tha...  342630992.0   \n",
       "516558  Dear @elonmusk brave Ukrainian friends &amp; s...  342630992.0   \n",
       "\n",
       "                          extracted_twitter_handles  \\\n",
       "516535                                ['@elonmusk']   \n",
       "516536  ['@Podolyak_M', '@NobelPrize', '@elonmusk']   \n",
       "516548                                ['@elonmusk']   \n",
       "516549                                ['@elonmusk']   \n",
       "516558                                ['@elonmusk']   \n",
       "\n",
       "                     extracted_URLs  \\\n",
       "516535  ['https://t.co/AYVZeyx0Ec']   \n",
       "516536                           []   \n",
       "516548                           []   \n",
       "516549                           []   \n",
       "516558  ['https://t.co/ZuwvrrbuhQ']   \n",
       "\n",
       "                                       extracted_hashtags  \\\n",
       "516535                              ['#StandWithUkraine']   \n",
       "516536                                                 []   \n",
       "516548                                                 []   \n",
       "516549                                                 []   \n",
       "516558  ['#Starlink', '#StandWithUkraine', '#Starlink'...   \n",
       "\n",
       "                                         clean_tweet_text  \n",
       "516535             Be like Stephen King  not like  🥱 ✊🏻🇺🇦  \n",
       "516536          Feels like kinda bond between them and  🪢  \n",
       "516548                     Everything was decided in 1991  \n",
       "516549  Dear Elon you just dropped down than Putin its...  \n",
       "516558  Dear  brave Ukrainian friends amp soldiers are...  "
      ]
     },
     "execution_count": 8,
     "metadata": {},
     "output_type": "execute_result"
    }
   ],
   "source": [
    "at_elon.tail()"
   ]
  },
  {
   "cell_type": "code",
   "execution_count": null,
   "metadata": {},
   "outputs": [],
   "source": [
    "tf_batch = tokenizer(pred_sentences, max_length=128, padding=True, truncation=True, return_tensors='tf')\n",
    "tf_outputs = model(tf_batch)\n",
    "tf_predictions = tf.nn.softmax(tf_outputs[0], axis=-1)\n",
    "labels = ['Negative','Positive']\n",
    "label = tf.argmax(tf_predictions, axis=1)\n",
    "label = label.numpy()\n",
    "for i in range(len(pred_sentences)):\n",
    "  print(pred_sentences[i], \": \\n\", labels[label[i]])\n"
   ]
  },
  {
   "cell_type": "markdown",
   "metadata": {},
   "source": [
    "<a id=two ><a/> \n",
    "\n",
    "## 5. EDA 2\n",
    "    \n",
    "[LINK to table of contents](#contents)"
   ]
  },
  {
   "cell_type": "code",
   "execution_count": null,
   "metadata": {},
   "outputs": [],
   "source": []
  },
  {
   "cell_type": "markdown",
   "metadata": {},
   "source": [
    "<a id=three ><a/> \n",
    "\n",
    "## 6. EDA 3\n",
    "    \n",
    "[LINK to table of contents](#contents)"
   ]
  },
  {
   "cell_type": "code",
   "execution_count": null,
   "metadata": {},
   "outputs": [],
   "source": []
  },
  {
   "cell_type": "markdown",
   "metadata": {},
   "source": [
    "<a id=conc ><a/> \n",
    "\n",
    "## 7. Conclusions and ideas going forward\n",
    "    \n",
    "[LINK to table of contents](#contents)"
   ]
  },
  {
   "cell_type": "code",
   "execution_count": null,
   "metadata": {},
   "outputs": [],
   "source": []
  }
 ],
 "metadata": {
  "kernelspec": {
   "display_name": "Python 3.10.6 ('dev')",
   "language": "python",
   "name": "python3"
  },
  "language_info": {
   "codemirror_mode": {
    "name": "ipython",
    "version": 3
   },
   "file_extension": ".py",
   "mimetype": "text/x-python",
   "name": "python",
   "nbconvert_exporter": "python",
   "pygments_lexer": "ipython3",
   "version": "3.10.6"
  },
  "vscode": {
   "interpreter": {
    "hash": "fb04db51b63f65a907d7a4e960cdba41b14668a694baecd878a6a03a98632cbd"
   }
  }
 },
 "nbformat": 4,
 "nbformat_minor": 4
}
